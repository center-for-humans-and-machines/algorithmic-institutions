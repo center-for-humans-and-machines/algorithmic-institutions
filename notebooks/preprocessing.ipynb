{
 "cells": [
  {
   "cell_type": "code",
   "execution_count": 58,
   "metadata": {},
   "outputs": [
    {
     "name": "stdout",
     "output_type": "stream",
     "text": [
      "Sessions in folder ../data/experiments/prepilot5 \n",
      "yi3xaim0    960\n",
      "1g4f5wxy    160\n",
      "xl4vfraf    160\n",
      "Name: session.code, dtype: int64 \n",
      "\n",
      "Sessions in folder ../data/experiments/pilot1 \n",
      "mqqsqhav    3200\n",
      "dbcrara4    2720\n",
      "hmjq6293     160\n",
      "Name: session.code, dtype: int64 \n",
      "\n",
      "Sessions in folder ../data/experiments/prepilotRand1 \n",
      "8l9e0w0q    4160\n",
      "d81skd2r    1600\n",
      "yaxdn9bp    1280\n",
      "v13x275n     128\n",
      "lpc387g3     128\n",
      "e0z791yu      64\n",
      "bcypr10f      64\n",
      "Name: session.code, dtype: int64 \n",
      "\n",
      "Experiments \n",
      "random_1          7040\n",
      "trail_rounds_2    5920\n",
      "Name: experiment_name, dtype: int64 \n",
      "\n"
     ]
    }
   ],
   "source": [
    "import os\n",
    "import pandas as pd\n",
    "import seaborn as sns\n",
    "import matplotlib.pyplot as plt\n",
    "import scipy\n",
    "sns.set(rc={'axes.facecolor':'white', 'figure.facecolor':'white'})\n",
    "\n",
    "folder = '../data/experiments'\n",
    "merge_file = 'pilot_random1'\n",
    "plot_folder = '../plots/pilot_random1'\n",
    "\n",
    "experiments = [\n",
    "    # {\n",
    "    #     'pagetimes': 'PageTimes-2021-12-09.csv',\n",
    "    #     'main_part': 'main_part_pilot_2021-12-09.csv',\n",
    "    #     'folder': f'{folder}/prepilot'\n",
    "    # },\n",
    "    # {\n",
    "    #     'pagetimes': 'PageTimes-2021-12-13.csv',\n",
    "    #     'main_part': 'main_part_pilot_2021-12-13.csv',\n",
    "    #     'folder': f'{folder}/prepilot2'\n",
    "    # }, \n",
    "    # {\n",
    "    #     'pagetimes': 'PageTimes-2021-12-20.csv',\n",
    "    #     'main_part': 'main_part_pilot_cont_2021-12-20.csv',\n",
    "    #     'folder': f'{folder}/prepilot4'\n",
    "    # }, \n",
    "    {\n",
    "        'pagetimes': 'PageTimes-2022-01-13.csv',\n",
    "        'main_part': 'main_part_pilot_cont_2022-01-13.csv',\n",
    "        'folder': f'{folder}/prepilot5',\n",
    "        'episode_length': 8,\n",
    "    }, \n",
    "    {\n",
    "        'pagetimes': 'PageTimes-2022-01-27.csv',\n",
    "        'main_part': 'main_part_pilot_cont_2022-01-27.csv',\n",
    "        'folder': f'{folder}/pilot1',\n",
    "        'episode_length': 8,\n",
    "    }, \n",
    "    {\n",
    "        'pagetimes': 'PageTimes-2022-03-21.csv',\n",
    "        'main_part': 'main_part_pilot_random_2022-03-21.csv',\n",
    "        'folder': f'{folder}/prepilotRand1',\n",
    "        'episode_length': 16,\n",
    "    }, \n",
    "]\n",
    "\n",
    "\n",
    "session_map = {\n",
    "    # 'sdvfxj22': 'flextimes', \n",
    "    # 'n8op39bm': 'fixedtimes',\n",
    "    # 'qeklctjv': 'continous_exp',\n",
    "    # 'a4ly7fp4': 'continous_cheap',\n",
    "    # 'yi3xaim0': 'trail_rounds',\n",
    "    'sdvfxj22': 'trail_rounds_2',\n",
    "    'dbcrara4': 'trail_rounds_2',\n",
    "    'mqqsqhav': 'trail_rounds_2',\n",
    "    'yaxdn9bp': 'random_1',\n",
    "    '8l9e0w0q': 'random_1',\n",
    "    'd81skd2r': 'random_1'\n",
    "}\n",
    "\n",
    "exp_pool = {\n",
    "    'flextimes': 'discrete', \n",
    "    'fixedtimes': 'discrete',\n",
    "    'continous_exp': 'continous',\n",
    "    'continous_cheap': 'continous',\n",
    "    'trail_rounds': 'trail_rounds'\n",
    "}\n",
    "\n",
    "\n",
    "\n",
    "dfs = []\n",
    "dfts = []\n",
    "for exp in experiments:\n",
    "    df = pd.read_csv(os.path.join(exp['folder'], exp['main_part']))\n",
    "    dft = pd.read_csv(os.path.join(exp['folder'], exp['pagetimes']))\n",
    "    print(f\"Sessions in folder {exp['folder']} \\n{df['session.code'].value_counts()} \\n\")\n",
    "    df['experiment_name'] = df['session.code'].map(session_map)\n",
    "    dft['experiment_name'] = dft['session_code'].map(session_map)\n",
    "    df['experiment_pool'] = df['experiment_name'].map(exp_pool)\n",
    "    df['episode_length'] = exp['episode_length']\n",
    "    dfs.append(df)\n",
    "    dfts.append(dft)\n",
    "df = pd.concat(dfs)\n",
    "dft = pd.concat(dfts)\n",
    "\n",
    "print(f\"Experiments \\n{df['experiment_name'].value_counts()} \\n\")"
   ]
  },
  {
   "cell_type": "code",
   "execution_count": 59,
   "metadata": {},
   "outputs": [],
   "source": [
    "where = (\n",
    "    (df['player.role'] != 'manager') &\n",
    "    (~df['player.role'].isnull()) \n",
    ")\n",
    "\n",
    "df = df[where]\n",
    "\n",
    "assert df.groupby(['session.code', 'subsession.round_number', 'participant.code'])['participant.label'].count().max() == 1"
   ]
  },
  {
   "cell_type": "code",
   "execution_count": 60,
   "metadata": {},
   "outputs": [],
   "source": [
    "max_player = 4\n",
    "\n",
    "def get_punishment(row):\n",
    "    member_idx = row['player.role'][-1]\n",
    "    return row[f\"group.punishment{member_idx}\"]\n",
    "\n",
    "rename = {\n",
    "    'session.code': 'session', \n",
    "    'group.id_in_subsession': 'group_id', \n",
    "    'subsession.round_number': 'round_number',\n",
    "    'participant.code': 'participant_code',\n",
    "    'player.contribution': 'contribution',\n",
    "    'player.no_input': 'player_no_input',\n",
    "    'player.contribution': 'contribution',\n",
    "    'player.punishment_s': 'punishment_rule_s',\n",
    "    'player.punishment_b': 'punishment_rule_b',\n",
    "    'player.punishment_c': 'punishment_rule_c',\n",
    "    'player.punishment': 'punishment',\n",
    "    'group.no_input_manager': 'manager_no_input',\n",
    "    'group.total_contribution': 'total_contribution',\n",
    "    'group.common_good': 'common_good',\n",
    "    'group.total_punishment': 'total_punishment',\n",
    "    'episode': 'episode',\n",
    "    'experiment_name': 'experiment_name',\n",
    "    'player.role': 'player_role',\n",
    "    'player.payoff': 'payoff',\n",
    "    'experiment_pool': 'experiment_pool',\n",
    "    'episode_length': 'episode_length',\n",
    "}\n",
    "\n",
    "df['episode'] = (df['subsession.round_number'] - 1) // df['episode_length'] + 1\n",
    "df['player.punishment'] = df.apply(get_punishment, axis=1)\n",
    "\n",
    "df = df[[k for k in rename.keys() if k in df.columns]]\n",
    "df = df.rename(columns=rename)\n",
    "\n",
    "df['round_number'] = (df['round_number']-1) % df['episode_length']\n",
    "df['global_group_id'] = df['session'] + ' #' + df['group_id'].astype('str')\n",
    "df['player_id'] = df['player_role'].str.strip().str[-1].astype(int) - 1"
   ]
  },
  {
   "cell_type": "code",
   "execution_count": 61,
   "metadata": {},
   "outputs": [
    {
     "name": "stdout",
     "output_type": "stream",
     "text": [
      "848 removed rows.\n",
      "Removed Sessions \n",
      " yi3xaim0    400\n",
      "1g4f5wxy     64\n",
      "xl4vfraf     64\n",
      "hmjq6293     64\n",
      "e0z791yu     64\n",
      "bcypr10f     64\n",
      "v13x275n     64\n",
      "lpc387g3     64\n",
      "Name: session, dtype: int64\n"
     ]
    }
   ],
   "source": [
    "# removing unknown sessions (i.e. test sessions)\n",
    "w_no_exp = df['experiment_name'].isnull()\n",
    "\n",
    "print(f\"{w_no_exp.sum()} removed rows.\")\n",
    "print(f\"Removed Sessions \\n {df.loc[w_no_exp, 'session'].value_counts()}\")\n",
    "\n",
    "df = df[~w_no_exp]"
   ]
  },
  {
   "cell_type": "code",
   "execution_count": 62,
   "metadata": {},
   "outputs": [
    {
     "name": "stdout",
     "output_type": "stream",
     "text": [
      "0 removed rows.\n"
     ]
    }
   ],
   "source": [
    "# removing out participants with no input in any round\n",
    "\n",
    "w = df.groupby(['global_group_id', 'episode', 'participant_code'])['player_no_input'].transform('all')\n",
    "print(f\"{w.sum()} removed rows.\")\n",
    "df = df[~w]"
   ]
  },
  {
   "cell_type": "code",
   "execution_count": 63,
   "metadata": {},
   "outputs": [
    {
     "name": "stdout",
     "output_type": "stream",
     "text": [
      "\n",
      "There are 92 rows with null punishments. These are likely from aborted games. We will remove these rows.\n",
      "\n"
     ]
    }
   ],
   "source": [
    "groupby = ['global_group_id', 'round_number', 'episode']\n",
    "\n",
    "check = (df['punishment'].isnull() == df['contribution'].isnull())\n",
    "assert check.all(), 'If punishment is null, contribution is null as well.'\n",
    "n_p_null = df['punishment'].isnull().sum()\n",
    "print(f\"\"\"\n",
    "There are {n_p_null} rows with null punishments. These are likely from aborted games. We will remove these rows.\n",
    "\"\"\")\n",
    "df = df[~df['punishment'].isnull()]\n",
    "\n",
    "# check if punishments are zero if manager has no input\n",
    "if 'manager_no_input' in df.columns:\n",
    "    where = df['manager_no_input'] == 1\n",
    "    check = df[where]['punishment'] == 0\n",
    "    assert check.all(), 'Inconsistency!'\n",
    "\n",
    "\n",
    "# check if contributions are zero if player has no input\n",
    "where = df['player_no_input'] == 1\n",
    "check = df[where]['contribution'] == 0\n",
    "assert check.all(), 'Inconsistency!'\n",
    "\n",
    "\n",
    "\n",
    "check = df.groupby(groupby)['total_contribution'].transform('first') == df.groupby(groupby)['contribution'].transform('sum')\n",
    "assert check.all(), 'Sum of total contributions does not match group contribution.'"
   ]
  },
  {
   "cell_type": "markdown",
   "metadata": {},
   "source": [
    "We impute missing contributions with 20s and missing punishments with 0s values. This corresponds to a majority imputation."
   ]
  },
  {
   "cell_type": "code",
   "execution_count": 64,
   "metadata": {},
   "outputs": [],
   "source": [
    "# for debugging\n",
    "\n",
    "# df[~check].sort_values(['session','group_id', 'round_number'])"
   ]
  },
  {
   "cell_type": "code",
   "execution_count": 65,
   "metadata": {},
   "outputs": [
    {
     "data": {
      "text/plain": [
       "4    1461\n",
       "Name: total_contribution, dtype: int64"
      ]
     },
     "execution_count": 65,
     "metadata": {},
     "output_type": "execute_result"
    }
   ],
   "source": [
    "# we might have different number of rows per round, due to some participants dropping out\n",
    "check = df.groupby(groupby)['total_contribution'].count()\n",
    "check.value_counts()"
   ]
  },
  {
   "cell_type": "code",
   "execution_count": 66,
   "metadata": {},
   "outputs": [
    {
     "data": {
      "text/plain": [
       "4    787\n",
       "8    337\n",
       "Name: total_contribution, dtype: int64"
      ]
     },
     "execution_count": 66,
     "metadata": {},
     "output_type": "execute_result"
    }
   ],
   "source": [
    "# we have different number of round per episode, due to some episodes failing early\n",
    "check = df.groupby(groupby[:-1])['total_contribution'].count()\n",
    "check.value_counts()"
   ]
  },
  {
   "cell_type": "code",
   "execution_count": 67,
   "metadata": {},
   "outputs": [],
   "source": [
    "df['episode_id'] = (df['global_group_id'] + df['episode'].astype(str)).rank(method='dense').astype(int) - 1"
   ]
  },
  {
   "cell_type": "code",
   "execution_count": 68,
   "metadata": {},
   "outputs": [
    {
     "data": {
      "text/html": [
       "<div>\n",
       "<style scoped>\n",
       "    .dataframe tbody tr th:only-of-type {\n",
       "        vertical-align: middle;\n",
       "    }\n",
       "\n",
       "    .dataframe tbody tr th {\n",
       "        vertical-align: top;\n",
       "    }\n",
       "\n",
       "    .dataframe thead th {\n",
       "        text-align: right;\n",
       "    }\n",
       "</style>\n",
       "<table border=\"1\" class=\"dataframe\">\n",
       "  <thead>\n",
       "    <tr style=\"text-align: right;\">\n",
       "      <th></th>\n",
       "      <th>session</th>\n",
       "      <th>group_id</th>\n",
       "      <th>round_number</th>\n",
       "      <th>participant_code</th>\n",
       "      <th>contribution</th>\n",
       "      <th>player_no_input</th>\n",
       "      <th>punishment_rule_s</th>\n",
       "      <th>punishment_rule_b</th>\n",
       "      <th>punishment_rule_c</th>\n",
       "      <th>punishment</th>\n",
       "      <th>...</th>\n",
       "      <th>total_punishment</th>\n",
       "      <th>episode</th>\n",
       "      <th>experiment_name</th>\n",
       "      <th>player_role</th>\n",
       "      <th>payoff</th>\n",
       "      <th>experiment_pool</th>\n",
       "      <th>episode_length</th>\n",
       "      <th>global_group_id</th>\n",
       "      <th>player_id</th>\n",
       "      <th>episode_id</th>\n",
       "    </tr>\n",
       "  </thead>\n",
       "  <tbody>\n",
       "    <tr>\n",
       "      <th>160</th>\n",
       "      <td>mqqsqhav</td>\n",
       "      <td>3</td>\n",
       "      <td>0</td>\n",
       "      <td>ac61awuk</td>\n",
       "      <td>15.0</td>\n",
       "      <td>0</td>\n",
       "      <td>NaN</td>\n",
       "      <td>NaN</td>\n",
       "      <td>NaN</td>\n",
       "      <td>0.0</td>\n",
       "      <td>...</td>\n",
       "      <td>0.0</td>\n",
       "      <td>1</td>\n",
       "      <td>trail_rounds_2</td>\n",
       "      <td>group member 1</td>\n",
       "      <td>22.0</td>\n",
       "      <td>NaN</td>\n",
       "      <td>8</td>\n",
       "      <td>mqqsqhav #3</td>\n",
       "      <td>0</td>\n",
       "      <td>112</td>\n",
       "    </tr>\n",
       "    <tr>\n",
       "      <th>161</th>\n",
       "      <td>mqqsqhav</td>\n",
       "      <td>9</td>\n",
       "      <td>0</td>\n",
       "      <td>cqtrgylt</td>\n",
       "      <td>5.0</td>\n",
       "      <td>0</td>\n",
       "      <td>NaN</td>\n",
       "      <td>NaN</td>\n",
       "      <td>NaN</td>\n",
       "      <td>0.0</td>\n",
       "      <td>...</td>\n",
       "      <td>0.0</td>\n",
       "      <td>1</td>\n",
       "      <td>trail_rounds_2</td>\n",
       "      <td>group member 2</td>\n",
       "      <td>30.0</td>\n",
       "      <td>NaN</td>\n",
       "      <td>8</td>\n",
       "      <td>mqqsqhav #9</td>\n",
       "      <td>1</td>\n",
       "      <td>124</td>\n",
       "    </tr>\n",
       "    <tr>\n",
       "      <th>162</th>\n",
       "      <td>mqqsqhav</td>\n",
       "      <td>2</td>\n",
       "      <td>0</td>\n",
       "      <td>dq7drghw</td>\n",
       "      <td>15.0</td>\n",
       "      <td>0</td>\n",
       "      <td>NaN</td>\n",
       "      <td>NaN</td>\n",
       "      <td>NaN</td>\n",
       "      <td>0.0</td>\n",
       "      <td>...</td>\n",
       "      <td>0.0</td>\n",
       "      <td>1</td>\n",
       "      <td>trail_rounds_2</td>\n",
       "      <td>group member 2</td>\n",
       "      <td>24.0</td>\n",
       "      <td>NaN</td>\n",
       "      <td>8</td>\n",
       "      <td>mqqsqhav #2</td>\n",
       "      <td>1</td>\n",
       "      <td>106</td>\n",
       "    </tr>\n",
       "    <tr>\n",
       "      <th>163</th>\n",
       "      <td>mqqsqhav</td>\n",
       "      <td>2</td>\n",
       "      <td>0</td>\n",
       "      <td>u5q0svmp</td>\n",
       "      <td>9.0</td>\n",
       "      <td>0</td>\n",
       "      <td>NaN</td>\n",
       "      <td>NaN</td>\n",
       "      <td>NaN</td>\n",
       "      <td>0.0</td>\n",
       "      <td>...</td>\n",
       "      <td>0.0</td>\n",
       "      <td>1</td>\n",
       "      <td>trail_rounds_2</td>\n",
       "      <td>group member 1</td>\n",
       "      <td>30.0</td>\n",
       "      <td>NaN</td>\n",
       "      <td>8</td>\n",
       "      <td>mqqsqhav #2</td>\n",
       "      <td>0</td>\n",
       "      <td>106</td>\n",
       "    </tr>\n",
       "    <tr>\n",
       "      <th>164</th>\n",
       "      <td>mqqsqhav</td>\n",
       "      <td>3</td>\n",
       "      <td>0</td>\n",
       "      <td>k5znx6rn</td>\n",
       "      <td>3.0</td>\n",
       "      <td>0</td>\n",
       "      <td>NaN</td>\n",
       "      <td>NaN</td>\n",
       "      <td>NaN</td>\n",
       "      <td>0.0</td>\n",
       "      <td>...</td>\n",
       "      <td>0.0</td>\n",
       "      <td>1</td>\n",
       "      <td>trail_rounds_2</td>\n",
       "      <td>group member 2</td>\n",
       "      <td>34.0</td>\n",
       "      <td>NaN</td>\n",
       "      <td>8</td>\n",
       "      <td>mqqsqhav #3</td>\n",
       "      <td>1</td>\n",
       "      <td>112</td>\n",
       "    </tr>\n",
       "  </tbody>\n",
       "</table>\n",
       "<p>5 rows × 23 columns</p>\n",
       "</div>"
      ],
      "text/plain": [
       "      session  group_id  round_number participant_code  contribution  \\\n",
       "160  mqqsqhav         3             0         ac61awuk          15.0   \n",
       "161  mqqsqhav         9             0         cqtrgylt           5.0   \n",
       "162  mqqsqhav         2             0         dq7drghw          15.0   \n",
       "163  mqqsqhav         2             0         u5q0svmp           9.0   \n",
       "164  mqqsqhav         3             0         k5znx6rn           3.0   \n",
       "\n",
       "     player_no_input  punishment_rule_s  punishment_rule_b  punishment_rule_c  \\\n",
       "160                0                NaN                NaN                NaN   \n",
       "161                0                NaN                NaN                NaN   \n",
       "162                0                NaN                NaN                NaN   \n",
       "163                0                NaN                NaN                NaN   \n",
       "164                0                NaN                NaN                NaN   \n",
       "\n",
       "     punishment  ...  total_punishment  episode  experiment_name  \\\n",
       "160         0.0  ...               0.0        1   trail_rounds_2   \n",
       "161         0.0  ...               0.0        1   trail_rounds_2   \n",
       "162         0.0  ...               0.0        1   trail_rounds_2   \n",
       "163         0.0  ...               0.0        1   trail_rounds_2   \n",
       "164         0.0  ...               0.0        1   trail_rounds_2   \n",
       "\n",
       "        player_role  payoff experiment_pool episode_length  global_group_id  \\\n",
       "160  group member 1    22.0             NaN              8      mqqsqhav #3   \n",
       "161  group member 2    30.0             NaN              8      mqqsqhav #9   \n",
       "162  group member 2    24.0             NaN              8      mqqsqhav #2   \n",
       "163  group member 1    30.0             NaN              8      mqqsqhav #2   \n",
       "164  group member 2    34.0             NaN              8      mqqsqhav #3   \n",
       "\n",
       "    player_id  episode_id  \n",
       "160         0         112  \n",
       "161         1         124  \n",
       "162         1         106  \n",
       "163         0         106  \n",
       "164         1         112  \n",
       "\n",
       "[5 rows x 23 columns]"
      ]
     },
     "execution_count": 68,
     "metadata": {},
     "output_type": "execute_result"
    }
   ],
   "source": [
    "df.head()"
   ]
  },
  {
   "cell_type": "markdown",
   "metadata": {},
   "source": [
    "## Final stats"
   ]
  },
  {
   "cell_type": "code",
   "execution_count": 69,
   "metadata": {},
   "outputs": [
    {
     "data": {
      "text/plain": [
       "global_group_id      92\n",
       "participant_code    411\n",
       "dtype: int64"
      ]
     },
     "execution_count": 69,
     "metadata": {},
     "output_type": "execute_result"
    }
   ],
   "source": [
    "# Total number of groups and participants\n",
    "\n",
    "df[['global_group_id', 'participant_code']].nunique()"
   ]
  },
  {
   "cell_type": "code",
   "execution_count": 70,
   "metadata": {},
   "outputs": [
    {
     "data": {
      "text/html": [
       "<div>\n",
       "<style scoped>\n",
       "    .dataframe tbody tr th:only-of-type {\n",
       "        vertical-align: middle;\n",
       "    }\n",
       "\n",
       "    .dataframe tbody tr th {\n",
       "        vertical-align: top;\n",
       "    }\n",
       "\n",
       "    .dataframe thead th {\n",
       "        text-align: right;\n",
       "    }\n",
       "</style>\n",
       "<table border=\"1\" class=\"dataframe\">\n",
       "  <thead>\n",
       "    <tr style=\"text-align: right;\">\n",
       "      <th></th>\n",
       "      <th>global_group_id</th>\n",
       "      <th>participant_code</th>\n",
       "    </tr>\n",
       "    <tr>\n",
       "      <th>experiment_name</th>\n",
       "      <th></th>\n",
       "      <th></th>\n",
       "    </tr>\n",
       "  </thead>\n",
       "  <tbody>\n",
       "    <tr>\n",
       "      <th>random_1</th>\n",
       "      <td>49</td>\n",
       "      <td>196</td>\n",
       "    </tr>\n",
       "    <tr>\n",
       "      <th>trail_rounds_2</th>\n",
       "      <td>43</td>\n",
       "      <td>215</td>\n",
       "    </tr>\n",
       "  </tbody>\n",
       "</table>\n",
       "</div>"
      ],
      "text/plain": [
       "                 global_group_id  participant_code\n",
       "experiment_name                                   \n",
       "random_1                      49               196\n",
       "trail_rounds_2                43               215"
      ]
     },
     "execution_count": 70,
     "metadata": {},
     "output_type": "execute_result"
    }
   ],
   "source": [
    "# Total number of groups and participants per experiment_name\n",
    "\n",
    "df.groupby(['experiment_name'])[['global_group_id', 'participant_code']].nunique()"
   ]
  },
  {
   "cell_type": "code",
   "execution_count": 71,
   "metadata": {},
   "outputs": [],
   "source": [
    "df.to_csv(os.path.join(folder, f'{merge_file}_player_round.csv'), index=False)"
   ]
  },
  {
   "cell_type": "code",
   "execution_count": 72,
   "metadata": {},
   "outputs": [],
   "source": [
    "selected_columns = ['session', 'global_group_id','episode', 'episode_id', 'experiment_name', 'round_number', 'participant_code', 'player_no_input', 'manager_no_input', 'player_id', 'contribution', 'punishment', 'payoff', 'common_good']\n",
    "\n",
    "df[selected_columns].to_csv(os.path.join(folder, f'{merge_file}_player_round_slim.csv'), index=False)"
   ]
  }
 ],
 "metadata": {
  "kernelspec": {
   "display_name": "Python 3.9.10 ('.venv': venv)",
   "language": "python",
   "name": "python3"
  },
  "language_info": {
   "codemirror_mode": {
    "name": "ipython",
    "version": 3
   },
   "file_extension": ".py",
   "mimetype": "text/x-python",
   "name": "python",
   "nbconvert_exporter": "python",
   "pygments_lexer": "ipython3",
   "version": "3.9.10"
  },
  "orig_nbformat": 4,
  "vscode": {
   "interpreter": {
    "hash": "b1198fd9370ee0cf82025240fa26724f68bfab1e3f74dbb4acdc06e7861d0dbe"
   }
  }
 },
 "nbformat": 4,
 "nbformat_minor": 2
}
