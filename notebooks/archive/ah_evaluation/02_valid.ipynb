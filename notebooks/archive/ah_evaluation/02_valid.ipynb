{
 "cells": [
  {
   "cell_type": "code",
   "execution_count": 1,
   "metadata": {},
   "outputs": [
    {
     "name": "stderr",
     "output_type": "stream",
     "text": [
      "/home/mpib/brinkmann/repros/algorithmic-institutions/.venv/lib/python3.9/site-packages/tqdm/auto.py:22: TqdmWarning: IProgress not found. Please update jupyter and ipywidgets. See https://ipywidgets.readthedocs.io/en/stable/user_install.html\n",
      "  from .autonotebook import tqdm as notebook_tqdm\n"
     ]
    }
   ],
   "source": [
    "%load_ext autoreload\n",
    "%autoreload 2\n",
    "\n",
    "import os\n",
    "import numpy as np\n",
    "import pandas as pd\n",
    "import seaborn as sns\n",
    "import torch as th\n",
    "import matplotlib.pyplot as plt\n",
    "from aimanager.utils.utils import make_dir\n",
    "from aimanager.utils.merge import merge_files_by_name\n",
    "\n",
    "sns.set(rc={'axes.facecolor':'white', 'figure.facecolor':'white'})\n",
    "\n",
    "\n",
    "run = '02_2_valid'\n",
    "\n",
    "data_folder = f'../../data/artificial_humans/{run}'\n",
    "plot_folder = f'plots/{run}'\n",
    "\n",
    "make_dir(plot_folder)"
   ]
  },
  {
   "cell_type": "code",
   "execution_count": 2,
   "metadata": {},
   "outputs": [],
   "source": [
    "def _plot_heatmap(data, x, y, values, normalise=True):\n",
    "    dfg = data.groupby([x,y])[values].sum()\n",
    "    dfg = dfg.reset_index()\n",
    "    if normalise:\n",
    "        dfg[values] = dfg[values] / dfg.groupby([x])[values].transform('sum')\n",
    "    cm = dfg.pivot_table(index=x, columns=y, values=values)\n",
    "    cm = cm.sort_index(ascending=False)\n",
    "    sns.heatmap(cm)\n",
    "\n",
    "def merge_data(data_folder, metric_name):\n",
    "    folder = os.path.join(data_folder, metric_name)\n",
    "    dfs = [pd.read_parquet(os.path.join(folder, file)) for file in os.listdir(folder)]\n",
    "    df = pd.concat(dfs).reset_index(drop=True)\n",
    "    return df\n"
   ]
  },
  {
   "cell_type": "code",
   "execution_count": 3,
   "metadata": {},
   "outputs": [],
   "source": [
    "metrics_df = merge_data(data_folder, 'metrics')\n",
    "confusion_matrix_df = merge_data(data_folder, 'confusion_matrix')\n",
    "metrics_df['shuffle_feature'] = metrics_df['shuffle_feature'].fillna('none')\n",
    "labels = list(set(metrics_df.columns) - set(['job_id', 'name', 'value', 'cv_split', 'epoch', 'set', 'strategy', 'shuffle_feature']))"
   ]
  },
  {
   "cell_type": "code",
   "execution_count": 4,
   "metadata": {},
   "outputs": [
    {
     "data": {
      "image/png": "[encoded data removed]",
      "text/plain": [
       "<Figure size 427.475x360 with 1 Axes>"
      ]
     },
     "metadata": {
      "needs_background": "light"
     },
     "output_type": "display_data"
    }
   ],
   "source": [
    "df = metrics_df.copy()\n",
    "\n",
    "\n",
    "selection = {\n",
    "    'name': 'log_loss',\n",
    "    'shuffle_feature': 'none',\n",
    "    # 'set': 'test'\n",
    "}\n",
    "\n",
    "focus = ['rnn', 'set']\n",
    "\n",
    "w = pd.concat(\n",
    "    (df[k].isin(v) if isinstance(v, list) else df[k] == v\n",
    "    for k,v in selection.items()\n",
    "    if (k not in focus) or isinstance(v, list)), axis=1\n",
    ").all(1)\n",
    "\n",
    "df = df[w]\n",
    "\n",
    "fg = sns.relplot(\n",
    "    data=df, \n",
    "    x='epoch', y='value',\n",
    "    hue=focus[0] if len(focus) >= 1 else None, \n",
    "    style=focus[1] if len(focus) >= 2 else None,\n",
    "    col=focus[2] if len(focus) >= 3 else None, \n",
    "    row=focus[3] if len(focus) >= 4 else None, \n",
    "    kind='line', ci=None)\n",
    "\n",
    "fg.set(ylabel='cross entropy')\n",
    "\n",
    "fg.savefig(os.path.join(plot_folder, 'learning_curve_model.jpg'))"
   ]
  },
  {
   "cell_type": "code",
   "execution_count": 5,
   "metadata": {},
   "outputs": [
    {
     "data": {
      "text/html": [
       "<div>\n",
       "<style scoped>\n",
       "    .dataframe tbody tr th:only-of-type {\n",
       "        vertical-align: middle;\n",
       "    }\n",
       "\n",
       "    .dataframe tbody tr th {\n",
       "        vertical-align: top;\n",
       "    }\n",
       "\n",
       "    .dataframe thead th {\n",
       "        text-align: right;\n",
       "    }\n",
       "</style>\n",
       "<table border=\"1\" class=\"dataframe\">\n",
       "  <thead>\n",
       "    <tr style=\"text-align: right;\">\n",
       "      <th></th>\n",
       "      <th>rnn</th>\n",
       "      <th>log loss</th>\n",
       "    </tr>\n",
       "  </thead>\n",
       "  <tbody>\n",
       "    <tr>\n",
       "      <th>1</th>\n",
       "      <td>True</td>\n",
       "      <td>0.095120</td>\n",
       "    </tr>\n",
       "    <tr>\n",
       "      <th>0</th>\n",
       "      <td>False</td>\n",
       "      <td>0.101678</td>\n",
       "    </tr>\n",
       "  </tbody>\n",
       "</table>\n",
       "</div>"
      ],
      "text/plain": [
       "     rnn  log loss\n",
       "1   True  0.095120\n",
       "0  False  0.101678"
      ]
     },
     "execution_count": 5,
     "metadata": {},
     "output_type": "execute_result"
    }
   ],
   "source": [
    "dfg = df.groupby(labels)['value'].mean().reset_index()\n",
    "dfg = dfg.sort_values('value')\n",
    "dfg = dfg.rename(columns={'value': 'log loss'})\n",
    "dfg"
   ]
  },
  {
   "cell_type": "code",
   "execution_count": 6,
   "metadata": {},
   "outputs": [
    {
     "name": "stderr",
     "output_type": "stream",
     "text": [
      "/tmp/ipykernel_9392/3632084067.py:19: FutureWarning: Behavior when concatenating bool-dtype and numeric-dtype arrays is deprecated; in a future version these will cast to object dtype (instead of coercing bools to numeric values). To retain the old behavior, explicitly cast bool-dtype arrays to numeric dtype.\n",
      "  df = pd.concat([dfc, df]).reset_index()\n"
     ]
    },
    {
     "data": {
      "image/png": "[encoded data removed]",
      "text/plain": [
       "<Figure size 626.125x500 with 1 Axes>"
      ]
     },
     "metadata": {},
     "output_type": "display_data"
    }
   ],
   "source": [
    "df = confusion_matrix_df.copy()\n",
    "\n",
    "w = (\n",
    "    # (df['round_number'] == 0) &\n",
    "    (df['valid']) &\n",
    "    (df['rnn'] == True) &\n",
    "    (df['set'] == 'test')\n",
    ")\n",
    "\n",
    "df = df[w]\n",
    "\n",
    "dfc = df.copy()\n",
    "\n",
    "dfc['probability'] = df['pred_valid'] == df['true_valid']\n",
    "dfc['method'] = 'empirical'\n",
    "df['probability'] = df['proba']\n",
    "df['method'] = 'modeled'\n",
    "\n",
    "df = pd.concat([dfc, df]).reset_index()\n",
    "\n",
    "df = df[df['pred_valid'] == 1]\n",
    "\n",
    "fg = sns.catplot(\n",
    "    data=df, x='round_number', y='probability',\n",
    "    hue='method',\n",
    "    height=5, kind='bar')\n",
    "\n",
    "fg.set(ylabel='probability of valid contribution')\n",
    "\n",
    "fg.savefig(os.path.join(plot_folder, 'historgram.jpg'))"
   ]
  },
  {
   "cell_type": "code",
   "execution_count": 7,
   "metadata": {},
   "outputs": [
    {
     "name": "stdout",
     "output_type": "stream",
     "text": [
      "0.6113076244546138\n"
     ]
    }
   ],
   "source": [
    "df = confusion_matrix_df.copy()\n",
    "\n",
    "w = (\n",
    "    # (df['round_number'] == 0) &\n",
    "    (df['valid']) &\n",
    "    (df['rnn'] == True) &\n",
    "    (df['set'] == 'test')\n",
    ")\n",
    "\n",
    "df = df[w]\n",
    "\n",
    "dfc = df.copy()\n",
    "\n",
    "from sklearn.metrics import roc_auc_score\n",
    "y_true = dfc[dfc['pred_valid'] == 1]['true_valid']\n",
    "y_score = dfc[dfc['pred_valid'] == 1]['proba']\n",
    "print(roc_auc_score(y_true, y_score))"
   ]
  },
  {
   "cell_type": "code",
   "execution_count": 8,
   "metadata": {},
   "outputs": [],
   "source": [
    "# TODO: heatmap"
   ]
  }
 ],
 "metadata": {
  "kernelspec": {
   "display_name": "Python 3.9.1 ('.venv': venv)",
   "language": "python",
   "name": "python3"
  },
  "language_info": {
   "codemirror_mode": {
    "name": "ipython",
    "version": 3
   },
   "file_extension": ".py",
   "mimetype": "text/x-python",
   "name": "python",
   "nbconvert_exporter": "python",
   "pygments_lexer": "ipython3",
   "version": "3.9.1"
  },
  "orig_nbformat": 4,
  "vscode": {
   "interpreter": {
    "hash": "83484b78e3eced0c1ebbaf37dd8049c2f9102f6dcade2a60a08a368fc0daac5f"
   }
  }
 },
 "nbformat": 4,
 "nbformat_minor": 2
}
