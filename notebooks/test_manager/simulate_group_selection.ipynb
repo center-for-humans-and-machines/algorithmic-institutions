{
 "cells": [
  {
   "cell_type": "code",
   "execution_count": 1,
   "id": "573663a6",
   "metadata": {
    "tags": [
     "injected-parameters"
    ]
   },
   "outputs": [],
   "source": [
    "# Parameters\n",
    "artificial_humans = {\n",
    "    \"full\": {\n",
    "        \"contribution_model\": \"artifacts/behavioral_cloning/21_contribution_model_v4/model/architecture_node+edge+rnn__dataset_full.pt\",\n",
    "        \"valid_model\": \"artifacts/behavioral_cloning/22_contribution_valid_model_v4/model/rnn_False__dataset_full.pt\",\n",
    "    },\n",
    "}\n",
    "managers = {\n",
    "    \"humanlike\": {\n",
    "        \"type\": \"human\",\n",
    "        \"path\": \"artifacts/behavioral_cloning/23_punishment_autoregressive_v4/model/architecture_node+edge.pt\",\n",
    "        \"autoregressive\": True,\n",
    "    },\n",
    "    \"pgh,0.98\": {\n",
    "        \"type\": \"rl\",\n",
    "        \"path\": \"artifacts/manager/17_exp2_group_payoff_heavy_optimize/model/_manager.pt\",\n",
    "    },\n",
    "}\n",
    "n_episode_steps = 24\n",
    "n_episodes = 100\n",
    "output_dir = \"../../notebooks/test_manager/simulate_group_selection/01_all_artifacts\"\n",
    "basedir = \"../..\""
   ]
  },
  {
   "cell_type": "code",
   "execution_count": 2,
   "id": "42c92424",
   "metadata": {
    "papermill": {},
    "tags": []
   },
   "outputs": [
    {
     "data": {
      "text/plain": [
       "{'humanlike': {'type': 'human',\n",
       "  'path': 'artifacts/behavioral_cloning/23_punishment_autoregressive_v4/model/architecture_node+edge.pt',\n",
       "  'autoregressive': True,\n",
       "  'model_path': '../../artifacts/behavioral_cloning/23_punishment_autoregressive_v4/model/architecture_node+edge.pt'},\n",
       " 'pgh,0.98': {'type': 'rl',\n",
       "  'path': 'artifacts/manager/17_exp2_group_payoff_heavy_optimize/model/_manager.pt',\n",
       "  'model_path': '../../artifacts/manager/17_exp2_group_payoff_heavy_optimize/model/_manager.pt'}}"
      ]
     },
     "execution_count": 2,
     "metadata": {},
     "output_type": "execute_result"
    }
   ],
   "source": [
    "%load_ext autoreload\n",
    "%autoreload 2\n",
    "%matplotlib inline\n",
    "\n",
    "\n",
    "import os\n",
    "import random\n",
    "from itertools import count\n",
    "\n",
    "import numpy as np\n",
    "import pandas as pd\n",
    "import seaborn as sns\n",
    "import torch as th\n",
    "\n",
    "from aimanager.artificial_humans import GraphNetwork\n",
    "from aimanager.manager.api_manager import MultiManager\n",
    "from aimanager.manager.environment import ArtificialHumanEnv\n",
    "from aimanager.manager.memory import Memory\n",
    "from aimanager.utils.array_to_df import add_labels, using_multiindex\n",
    "from aimanager.utils.utils import make_dir\n",
    "\n",
    "plot_folder = output_dir\n",
    "\n",
    "make_dir(plot_folder)\n",
    "\n",
    "managers = {k:{**v, 'model_path': os.path.join(basedir, v['path'])} for k,v in managers.items()}\n",
    "managers"
   ]
  },
  {
   "cell_type": "code",
   "execution_count": 3,
   "id": "1a3cc5d2",
   "metadata": {
    "papermill": {},
    "tags": []
   },
   "outputs": [],
   "source": [
    "def mem_to_df(recorder, name):\n",
    "    columns = [\"episode\", \"participant_code\", \"round_number\"]\n",
    "\n",
    "    punishments = using_multiindex(\n",
    "        recorder.memory[\"punishment\"].squeeze(1).numpy(),\n",
    "        columns=columns,\n",
    "        value_name=\"punishment\",\n",
    "    )\n",
    "    common_good = using_multiindex(\n",
    "        recorder.memory[\"common_good\"].squeeze(1).numpy(),\n",
    "        columns=columns,\n",
    "        value_name=\"common_good\",\n",
    "    )\n",
    "    contributions = using_multiindex(\n",
    "        recorder.memory[\"contribution\"].squeeze(1).numpy(),\n",
    "        columns=columns,\n",
    "        value_name=\"contribution\",\n",
    "    )\n",
    "    group = using_multiindex(\n",
    "        recorder.memory[\"group\"].squeeze(1).numpy(), columns=columns, value_name=\"group\"\n",
    "    )\n",
    "\n",
    "    df_sim = punishments.merge(common_good).merge(contributions).merge(group)\n",
    "\n",
    "    df_sim[\"participant_code\"] = (\n",
    "        df_sim[\"participant_code\"].astype(str) + \"_\" + df_sim[\"episode\"].astype(str)\n",
    "    )\n",
    "\n",
    "    df_sim[\"run\"] = name\n",
    "    return df_sim\n",
    "\n",
    "\n",
    "def make_round(contributions, round, groups, episode_group_idx):\n",
    "    return {\n",
    "        \"contribution\": contributions,\n",
    "        \"contribution_valid\": [c is not None for c in contributions],\n",
    "        \"punishment_valid\": [False] * len(contributions),\n",
    "        \"punishment\": [None] * len(contributions),\n",
    "        \"group\": groups,\n",
    "        \"round\": round,\n",
    "        \"episode_group_idx\": episode_group_idx,\n",
    "    }\n",
    "\n",
    "\n",
    "def add_punishments(round, punishments):\n",
    "    return {\n",
    "        **round,\n",
    "        \"punishment\": punishments,\n",
    "        \"punishment_valid\": [p is not None for p in punishments],\n",
    "    }"
   ]
  },
  {
   "cell_type": "code",
   "execution_count": 4,
   "id": "8ea6942f",
   "metadata": {},
   "outputs": [],
   "source": [
    "# def _get_better_avg_movement_map(self):\n",
    "#     avg_payoffs = [group.average_contributor_payoff for group in self.human_groups]\n",
    "#     max_idx, max_avg = max(enumerate(avg_payoffs), key=itemgetter(1))\n",
    "#     move_map: dict[tuple, int] = {}\n",
    "#     for gid, group in enumerate(self.human_groups):\n",
    "#         for aid in range(group.n_agents):\n",
    "#             if group.contributor_payoff[0, aid] < max_avg:\n",
    "#                 move_map[(gid, aid)] = max_idx\n",
    "#             else:\n",
    "#                 move_map[(gid, aid)] = gid"
   ]
  },
  {
   "cell_type": "code",
   "execution_count": 5,
   "id": "496ed145",
   "metadata": {},
   "outputs": [],
   "source": [
    "def update_groups(recorder, groups, round_number, horizon):\n",
    "    new_groups = []\n",
    "    for i in range(n_groups):\n",
    "        if punishments[i] is not None:\n",
    "            new_groups.append(groups[punishments[i]])\n",
    "        else:\n",
    "            new_groups.append(groups[contributions[i]])\n",
    "    return new_groups"
   ]
  },
  {
   "cell_type": "code",
   "execution_count": 6,
   "id": "6e941640",
   "metadata": {},
   "outputs": [],
   "source": [
    "# round_number = 3\n",
    "# horizon = 4\n",
    "\n",
    "# contributor_payoff = recorder.memory['contributor_payoff']\n",
    "# group = recorder.memory['group']\n",
    "# relevant_contributor_payoff = contributor_payoff[:, :, :, round_number - horizon + 1:round_number + 1]\n",
    "# relevant_group = group[:, :, round_number - horizon + 1:round_number + 1]"
   ]
  },
  {
   "cell_type": "code",
   "execution_count": 7,
   "id": "8a2ad2fc",
   "metadata": {},
   "outputs": [],
   "source": [
    "# env = ArtificialHumanEnv(\n",
    "#     artifical_humans=ah,\n",
    "#     artifical_humans_valid=ah_val,\n",
    "#     n_agents=n_agents, n_contributions=21, n_punishments=31,\n",
    "#     n_rounds=n_episode_steps, batch_size=1, n_groups=2, device=device)\n",
    "\n",
    "\n",
    "# agent_groups = th.tensor([[0]*4 + [1]*4])\n",
    "\n",
    "# env.update_groups(agent_groups)"
   ]
  },
  {
   "cell_type": "code",
   "execution_count": 8,
   "id": "d71d4101",
   "metadata": {},
   "outputs": [],
   "source": [
    "def assign_group_idx(groups):\n",
    "    unique_groups = list(set(groups))\n",
    "    g_name_to_idx = {g: i for i, g in enumerate(unique_groups)}\n",
    "    gidx_to_name = {i: g for i, g in enumerate(unique_groups)}\n",
    "    return g_name_to_idx, gidx_to_name\n",
    "\n",
    "\n",
    "def get_agent_groups(groups, g_name_to_idx):\n",
    "    return th.tensor([[g_name_to_idx[g] for g in groups]])\n",
    "\n",
    "\n",
    "def change_groups(recorder, round_number, horizon, episode, gidx_to_name):\n",
    "    group_payoff = recorder.memory[\"group_payoff\"]\n",
    "    contributor_payoff = recorder.memory[\"contributor_payoff\"]\n",
    "    groups = recorder.memory[\"group\"]\n",
    "\n",
    "    assert group_payoff.shape[1] == 1\n",
    "    assert contributor_payoff.shape[1] == 1\n",
    "\n",
    "    avg_group_payoff = group_payoff[\n",
    "        episode, 0, :, round_number - horizon + 1 : round_number + 1\n",
    "    ].mean(-1)\n",
    "    avg_contributor_payoff = contributor_payoff[\n",
    "        episode, 0, :, round_number - horizon + 1 : round_number + 1\n",
    "    ].mean(-1)\n",
    "    groups = groups[episode, 0, :, round_number]\n",
    "\n",
    "    best_group_payoff, best_group_idx = avg_group_payoff.max(-1)\n",
    "\n",
    "    contributor_payoff_below_best = (\n",
    "        avg_contributor_payoff < best_group_payoff.unsqueeze(-1)\n",
    "    )\n",
    "\n",
    "    groups = th.where(contributor_payoff_below_best, best_group_idx, groups)\n",
    "\n",
    "    groups = [gidx_to_name[g.item()] for g in groups]\n",
    "\n",
    "    return groups"
   ]
  },
  {
   "cell_type": "code",
   "execution_count": 9,
   "id": "02d293a0",
   "metadata": {
    "papermill": {},
    "tags": []
   },
   "outputs": [
    {
     "name": "stdout",
     "output_type": "stream",
     "text": [
      "Start run mixed\n",
      "tensor([16.4500, 25.9500, 18.9500, 20.9500, 17.5250, 23.2750, 23.7750, 22.2750]) tensor(21.7125)\n",
      "tensor([ True, False,  True,  True,  True, False, False, False])\n",
      "3 ['pgh,0.98', 'humanlike', 'pgh,0.98', 'pgh,0.98', 'pgh,0.98', 'pgh,0.98', 'pgh,0.98', 'pgh,0.98']\n",
      "tensor([25.6726,  7.7000, 21.1643, 28.6726, 20.4226, 24.4226, 25.1726, 24.1726]) tensor(25.0536)\n",
      "tensor([False,  True,  True, False,  True,  True, False,  True])\n",
      "tensor([28.5214, 28.0214, 36.2714, 30.0214, 23.2714, 20.9000, 27.7714, 28.0214]) tensor(28.7268)\n",
      "tensor([ True,  True, False, False,  True,  True,  True,  True])\n",
      "tensor([28.4500, 35.7000, 32.9500, 30.2000, 23.9500, 26.7000, 25.2000, 27.9500]) tensor(28.8875)\n",
      "tensor([ True, False, False, False,  True,  True,  True,  True])\n",
      "tensor([29.6000, 34.1000, 33.1000, 30.1000, 22.6000, 26.1000, 24.6000, 27.6000]) tensor(28.4750)\n",
      "tensor([False, False, False, False,  True,  True,  True,  True])\n",
      "tensor([27.5375, 26.7875, 33.7875, 29.7875,  7.6875,  7.1958, 12.6958, 20.7208]) tensor(29.4750)\n",
      "tensor([ True,  True, False, False,  True,  True,  True,  True])\n",
      "tensor([27.5711, 20.6140, 23.2545, 21.5045, 27.5711, 21.6426, 29.3211, 30.5711]) tensor(29.0116)\n",
      "tensor([ True,  True,  True,  True,  True,  True, False, False])\n",
      "tensor([24.7839, 26.0339, 26.7839, 29.2839, 18.9125, 25.5339, 27.5339, 32.0339]) tensor(27.1902)\n",
      "tensor([ True,  True,  True, False,  True,  True, False, False])\n",
      "tensor([23.5589, 24.8089, 18.3875, 28.5589, 23.5589, 25.3089, 25.8089, 27.5589]) tensor(25.4830)\n",
      "tensor([ True,  True,  True, False,  True,  True, False, False])\n",
      "tensor([24.3696, 24.8696, 24.1196, 25.6196, 18.5125, 24.8696, 25.8696, 24.3696]) tensor(24.8295)\n",
      "tensor([ True, False,  True, False,  True, False, False,  True])\n",
      "tensor([26.0000, 23.7500, 26.0000, 26.7500, 21.5750, 19.0750, 31.8250, 21.5750]) tensor(25.6250)\n",
      "tensor([False,  True, False, False,  True,  True, False,  True])\n",
      "3 ['humanlike', 'humanlike', 'humanlike', 'humanlike', 'humanlike', 'humanlike', 'pgh,0.98', 'humanlike']\n",
      "tensor([30.3429, 29.5929, 30.3429, 26.0929, 26.8429, 26.5929, 10.7500, 26.8429]) tensor(28.0929)\n",
      "tensor([False, False, False,  True,  True,  True,  True,  True])\n",
      "tensor([29.5268, 26.2768, 32.2768, 19.5482, 26.2768, 26.2768, 34.7768, 20.0911]) tensor(28.6786)\n",
      "tensor([False,  True, False,  True,  True,  True, False,  True])\n",
      "tensor([28.8438, 26.0938, 31.3438, 26.0938, 26.3438, 26.0938, 30.0938, 25.0938]) tensor(27.5000)\n",
      "tensor([False,  True, False,  True,  True,  True, False,  True])\n",
      "tensor([28.2125, 25.7125, 21.9625, 25.9625, 25.4625, 25.7125, 26.7125, 25.7125]) tensor(25.6812)\n",
      "tensor([False, False,  True, False,  True, False, False, False])\n",
      "tensor([19.4250, 22.6083, 28.3583, 29.3583, 17.2000, 24.2000, 18.4500, 19.2000]) tensor(26.6500)\n",
      "tensor([ True,  True, False, False,  True,  True,  True,  True])\n",
      "tensor([37.6750, 19.9250, 23.4250, 22.1750, 18.6750, 30.6750, 23.9250, 28.1750]) tensor(25.5813)\n",
      "tensor([False,  True,  True,  True,  True, False,  True, False])\n",
      "tensor([ 9.3991,  6.9991, 11.6491,  3.7063,  9.3991, 20.8991, 14.8991, 15.1491]) tensor(12.4616)\n",
      "tensor([ True,  True,  True,  True,  True, False, False, False])\n",
      "tensor([15.5312, 15.7812, 15.5312, 15.2812, 13.5312, 14.2812, 17.7812, 17.7812]) tensor(15.6875)\n",
      "tensor([ True, False,  True,  True,  True,  True, False, False])\n",
      "tensor([18.0125, 17.0125, 18.2625, 11.8125, 16.2625, 24.2625, 21.5125, 19.5125]) tensor(19.0705)\n",
      "tensor([ True,  True,  True,  True,  True, False, False, False])\n",
      "tensor([22.3500, 23.6000, 28.8500, 23.8500, 19.2625, 15.2625, 17.0125, 20.2625]) tensor(24.6625)\n",
      "tensor([ True,  True, False,  True,  True,  True,  True,  True])\n",
      "tensor([26.7679, 16.7750, 20.5179, 23.0179, 24.0179, 22.2679, 20.5179, 22.5179]) tensor(22.6339)\n",
      "tensor([False,  True,  True, False, False,  True,  True,  True])\n",
      "tensor([32.3786, 21.6286, 17.4000, 27.8786, 29.1286, 28.3786, 22.6286, 26.1286]) tensor(26.5304)\n",
      "tensor([False,  True,  True, False, False, False,  True,  True])\n",
      "tensor([30.9813, 23.4813, 24.7313, 29.2313, 28.2313, 26.9813, 22.4813, 24.2313]) tensor(26.2938)\n",
      "tensor([False,  True,  True, False, False, False,  True,  True])\n",
      "tensor([25.5152, 22.5152, 28.5152, 23.5152, 19.0438, 26.2652, 21.7652, 22.2652]) tensor(24.4705)\n",
      "tensor([False,  True, False,  True,  True, False,  True,  True])\n",
      "tensor([27.5875, 25.0875, 19.5875, 26.3375, 21.7500, 28.0000, 27.5000, 19.7500]) tensor(28.3583)\n",
      "tensor([True, True, True, True, True, True, True, True])\n",
      "tensor([27.0893, 19.9750, 28.5893, 25.8393, 27.5893, 29.3393, 25.3393, 26.3393]) tensor(27.1205)\n",
      "tensor([ True,  True, False,  True, False, False,  True,  True])\n",
      "tensor([20.5821, 27.3250, 32.0750, 27.3250, 22.4179, 29.8250, 28.3250, 27.3250]) tensor(28.8250)\n",
      "tensor([ True,  True, False,  True,  True, False,  True,  True])\n",
      "tensor([30.4232, 28.6732, 30.9232, 18.4375, 31.4232, 28.6732, 33.6732, 28.6732]) tensor(29.8384)\n",
      "tensor([False,  True, False,  True, False,  True, False,  True])\n",
      "tensor([29.3661, 29.1161, 22.5375, 32.6161, 30.6161, 29.1161, 31.1161, 29.1161]) tensor(30.1205)\n",
      "tensor([ True,  True,  True, False, False,  True, False,  True])\n",
      "tensor([29.3000, 28.0500, 29.3000, 29.3000, 18.0000, 20.0000, 18.0000, 22.7500]) tensor(30.9875)\n",
      "tensor([True, True, True, True, True, True, True, True])\n",
      "tensor([24.5500, 26.8000, 24.8000, 24.5500, 24.8000, 24.5500, 24.0500, 30.3000]) tensor(25.5500)\n",
      "tensor([ True, False,  True,  True,  True,  True,  True, False])\n",
      "tensor([23.5813, 24.5813, 23.5813, 23.5813, 23.5813, 23.5813, 23.5813, 22.8313]) tensor(23.6125)\n",
      "tensor([ True, False,  True,  True,  True,  True,  True,  True])\n",
      "tensor([24.2500, 19.0000, 24.0000, 24.0000, 24.0000, 24.0000, 21.7500, 22.2500]) tensor(22.9062)\n",
      "tensor([False,  True, False, False, False, False,  True,  True])\n",
      "tensor([25.9562, 26.2062, 25.9562, 26.2062, 26.2062, 26.2062, 31.9562, 25.9562]) tensor(26.8312)\n",
      "tensor([ True,  True,  True,  True,  True,  True, False,  True])\n",
      "tensor([21.3375, 17.5875, 21.5875, 18.5875, 27.7125, 20.4625, 24.7125, 23.9625]) tensor(24.2125)\n",
      "tensor([ True,  True,  True,  True, False,  True, False,  True])\n",
      "tensor([18.6812, 20.9670, 23.4670, 22.4670, 29.9670, 20.2170, 25.2170, 24.4670]) tensor(23.8375)\n",
      "tensor([ True,  True,  True,  True, False,  True, False, False])\n",
      "tensor([28.4000, 27.1500, 31.4000, 24.9000, 39.1500, 24.6500, 28.9000, 29.4000]) tensor(29.2438)\n",
      "tensor([ True,  True, False,  True, False,  True,  True, False])\n",
      "tensor([22.7000, 24.2000, 29.9500, 22.2000, 38.4500, 30.2000, 26.9500, 26.7000]) tensor(27.6688)\n",
      "tensor([ True,  True, False,  True, False, False,  True,  True])\n",
      "tensor([27.5857, 18.2500, 30.3357, 30.5857, 36.3357, 28.5857, 24.3357, 24.8357]) tensor(28.4696)\n",
      "tensor([ True,  True, False, False, False, False,  True,  True])\n",
      "tensor([32.6375, 22.6375, 17.3875, 24.8875, 18.9250, 22.2583, 19.0083, 17.7583]) tensor(24.3875)\n",
      "tensor([False,  True,  True, False,  True,  True,  True,  True])\n",
      "tensor([30.6875, 21.1875, 21.4375, 22.9375, 22.9375, 24.4375, 26.1875, 27.6875]) tensor(24.6875)\n",
      "tensor([False,  True,  True,  True,  True,  True, False, False])\n",
      "tensor([34.1009, 21.6009, 21.8509, 18.6938, 22.3509, 29.8509, 27.1009, 26.1009]) tensor(25.9089)\n",
      "tensor([False,  True,  True,  True,  True, False, False, False])\n",
      "tensor([22.0768, 14.8268, 14.8268, 13.9196, 18.8268, 20.0768, 14.5768, 13.4696]) tensor(17.8625)\n",
      "tensor([False,  True,  True,  True, False, False,  True,  True])\n",
      "tensor([17.1946, 16.6946, 14.6946, 18.1946, 15.7875, 21.6946, 22.6946, 20.6946]) tensor(18.9625)\n",
      "tensor([ True,  True,  True,  True,  True, False, False, False])\n",
      "tensor([21.9750, 15.2250, 20.4750,  8.9750, 11.0250, 21.0250, 16.5250,  7.5250]) tensor(16.6625)\n",
      "tensor([False,  True, False,  True,  True, False,  True,  True])\n",
      "3 ['humanlike', 'humanlike', 'humanlike', 'humanlike', 'humanlike', 'pgh,0.98', 'humanlike', 'humanlike']\n",
      "tensor([17.9714, 21.4714, 24.7214, 18.4714, 16.2214, 26.7500, 19.9714, 16.2214]) tensor(26.7500)\n",
      "tensor([ True,  True,  True,  True,  True, False,  True,  True])\n",
      "tensor([17.1375, 19.8875, 19.3875, 20.6375, 14.8875, 19.8875, 23.3875, 14.8875]) tensor(18.7625)\n",
      "tensor([ True, False, False, False,  True, False, False,  True])\n",
      "tensor([29.4500, 28.4500, 36.9500, 28.9500, 22.2000, 29.2000, 29.2000, 22.2000]) tensor(28.3250)\n",
      "tensor([False, False, False, False,  True, False, False,  True])\n",
      "tensor([28.0000, 25.5000, 36.0000, 30.2500, 20.0000, 31.5000, 26.7500, 22.0000]) tensor(27.5000)\n",
      "tensor([False,  True, False, False,  True, False,  True,  True])\n"
     ]
    }
   ],
   "source": [
    "device = th.device(\"cpu\")\n",
    "rec_device = th.device(\"cpu\")\n",
    "\n",
    "mm = MultiManager(\n",
    "    managers,\n",
    "    n_steps=n_episode_steps,\n",
    ")\n",
    "\n",
    "# fix bug\n",
    "for k, man in mm.managers.items():\n",
    "    if \"autoregressive\" in managers[k]:\n",
    "        man.model.autoregressive = managers[k][\"autoregressive\"]\n",
    "\n",
    "n_agents = 8\n",
    "\n",
    "group_change_freq = 4\n",
    "\n",
    "artificial_human = artificial_humans[\"full\"]\n",
    "manager = list(managers.keys())\n",
    "\n",
    "# runs = {\n",
    "#     f\"managed by {m}\": {'groups': [m]*n_agents, 'humans': 'full'}\n",
    "#     for m in manager\n",
    "# }\n",
    "\n",
    "runs = {}\n",
    "runs[\"mixed\"] = {\n",
    "    \"groups\": [manager[0]] * (n_agents // 2) + [manager[1]] * (n_agents // 2),\n",
    "    \"humans\": \"full\",\n",
    "}\n",
    "\n",
    "dfs = []\n",
    "for name, run in runs.items():\n",
    "    print(f\"Start run {name}\")\n",
    "    n_agents = len(run[\"groups\"])\n",
    "    g_name_to_idx, gidx_to_name = assign_group_idx(run[\"groups\"])\n",
    "    n_groups = len(g_name_to_idx)\n",
    "\n",
    "    hm_path = os.path.join(\n",
    "        basedir, artificial_humans[run[\"humans\"]][\"contribution_model\"]\n",
    "    )\n",
    "    hmv_path = os.path.join(basedir, artificial_humans[run[\"humans\"]][\"valid_model\"])\n",
    "\n",
    "    ah = GraphNetwork.load(hm_path, device=device)\n",
    "    ah_val = GraphNetwork.load(hmv_path, device=device)\n",
    "    env = ArtificialHumanEnv(\n",
    "        artifical_humans=ah,\n",
    "        artifical_humans_valid=ah_val,\n",
    "        n_agents=n_agents,\n",
    "        n_contributions=21,\n",
    "        n_punishments=31,\n",
    "        n_rounds=n_episode_steps,\n",
    "        batch_size=1,\n",
    "        n_groups=n_groups,\n",
    "        device=device,\n",
    "    )\n",
    "    recorder = Memory(\n",
    "        n_episodes=n_episodes,\n",
    "        n_episode_steps=n_episode_steps,\n",
    "        output_file=None,\n",
    "        device=device,\n",
    "    )\n",
    "    for e in range(n_episodes):\n",
    "        groups = run[\"groups\"]\n",
    "        state = env.reset()\n",
    "        env.update_groups(get_agent_groups(groups, g_name_to_idx))\n",
    "        episode_group_idx = random.randint(0, 1000000)\n",
    "        rounds = []\n",
    "        for round_number in count():\n",
    "            contributions = state[\"contribution\"].squeeze().tolist()\n",
    "            round = make_round(contributions, round_number, groups, episode_group_idx)\n",
    "            punishments = mm.get_punishments(rounds + [round])[0]\n",
    "            round = add_punishments(round, punishments)\n",
    "            rounds.append(round)\n",
    "            punishments = th.tensor(punishments, dtype=th.int64)\n",
    "            state = env.punish(punishments.unsqueeze(-1).unsqueeze(0))\n",
    "            recorder.add(\n",
    "                **{\n",
    "                    k: v if len(v.shape) == 3 else v.unsqueeze(-1)\n",
    "                    for k, v in state.items()\n",
    "                },\n",
    "                episode_step=round_number,\n",
    "            )\n",
    "            state, reward, done = env.step()\n",
    "            if done:\n",
    "                break\n",
    "            if (round_number + 1) % group_change_freq == 0:\n",
    "                groups = change_groups(\n",
    "                    recorder, round_number, group_change_freq, e, gidx_to_name\n",
    "                )\n",
    "                if not (all([g == groups[0] for g in groups])):\n",
    "                    print(round_number, groups)\n",
    "                env.update_groups(get_agent_groups(groups, g_name_to_idx))\n",
    "        recorder.next_episode(e)\n",
    "    some_df = mem_to_df(recorder, name=name)\n",
    "    some_df[\"manager\"] = some_df[\"group\"].map(dict(enumerate(manager)))\n",
    "    dfs.append(some_df)"
   ]
  },
  {
   "cell_type": "code",
   "execution_count": 21,
   "id": "5063eeec",
   "metadata": {},
   "outputs": [],
   "source": [
    "df = pd.concat(dfs)\n",
    "df[\"payoff\"] = 20 - df[\"contribution\"] - df[\"punishment\"] + df[\"common_good\"]"
   ]
  },
  {
   "cell_type": "code",
   "execution_count": 22,
   "id": "bfa8007e",
   "metadata": {},
   "outputs": [],
   "source": [
    "df[\"episode\"] = df[\"run\"] + \"__\" + df[\"episode\"].astype(str)\n",
    "\n",
    "dfm = df.melt(\n",
    "    id_vars=[\"episode\", \"round_number\", \"participant_code\", \"run\", \"manager\", \"group\"],\n",
    "    value_vars=[\"punishment\", \"contribution\", \"common_good\"],\n",
    ")"
   ]
  },
  {
   "cell_type": "code",
   "execution_count": 23,
   "id": "fd5537eb",
   "metadata": {},
   "outputs": [
    {
     "data": {
      "text/html": [
       "<div>\n",
       "<style scoped>\n",
       "    .dataframe tbody tr th:only-of-type {\n",
       "        vertical-align: middle;\n",
       "    }\n",
       "\n",
       "    .dataframe tbody tr th {\n",
       "        vertical-align: top;\n",
       "    }\n",
       "\n",
       "    .dataframe thead th {\n",
       "        text-align: right;\n",
       "    }\n",
       "</style>\n",
       "<table border=\"1\" class=\"dataframe\">\n",
       "  <thead>\n",
       "    <tr style=\"text-align: right;\">\n",
       "      <th></th>\n",
       "      <th>episode</th>\n",
       "      <th>round_number</th>\n",
       "      <th>participant_code</th>\n",
       "      <th>run</th>\n",
       "      <th>manager</th>\n",
       "      <th>group</th>\n",
       "      <th>variable</th>\n",
       "      <th>value</th>\n",
       "    </tr>\n",
       "  </thead>\n",
       "  <tbody>\n",
       "    <tr>\n",
       "      <th>0</th>\n",
       "      <td>mixed__0</td>\n",
       "      <td>0</td>\n",
       "      <td>0_0</td>\n",
       "      <td>mixed</td>\n",
       "      <td>humanlike</td>\n",
       "      <td>0</td>\n",
       "      <td>punishment</td>\n",
       "      <td>0.000000</td>\n",
       "    </tr>\n",
       "    <tr>\n",
       "      <th>1</th>\n",
       "      <td>mixed__0</td>\n",
       "      <td>1</td>\n",
       "      <td>0_0</td>\n",
       "      <td>mixed</td>\n",
       "      <td>humanlike</td>\n",
       "      <td>0</td>\n",
       "      <td>punishment</td>\n",
       "      <td>1.000000</td>\n",
       "    </tr>\n",
       "    <tr>\n",
       "      <th>2</th>\n",
       "      <td>mixed__0</td>\n",
       "      <td>2</td>\n",
       "      <td>0_0</td>\n",
       "      <td>mixed</td>\n",
       "      <td>humanlike</td>\n",
       "      <td>0</td>\n",
       "      <td>punishment</td>\n",
       "      <td>0.000000</td>\n",
       "    </tr>\n",
       "    <tr>\n",
       "      <th>3</th>\n",
       "      <td>mixed__0</td>\n",
       "      <td>3</td>\n",
       "      <td>0_0</td>\n",
       "      <td>mixed</td>\n",
       "      <td>humanlike</td>\n",
       "      <td>0</td>\n",
       "      <td>punishment</td>\n",
       "      <td>0.000000</td>\n",
       "    </tr>\n",
       "    <tr>\n",
       "      <th>4</th>\n",
       "      <td>mixed__0</td>\n",
       "      <td>4</td>\n",
       "      <td>0_0</td>\n",
       "      <td>mixed</td>\n",
       "      <td>pgh,0.98</td>\n",
       "      <td>1</td>\n",
       "      <td>punishment</td>\n",
       "      <td>28.000000</td>\n",
       "    </tr>\n",
       "    <tr>\n",
       "      <th>...</th>\n",
       "      <td>...</td>\n",
       "      <td>...</td>\n",
       "      <td>...</td>\n",
       "      <td>...</td>\n",
       "      <td>...</td>\n",
       "      <td>...</td>\n",
       "      <td>...</td>\n",
       "      <td>...</td>\n",
       "    </tr>\n",
       "    <tr>\n",
       "      <th>5755</th>\n",
       "      <td>mixed__9</td>\n",
       "      <td>19</td>\n",
       "      <td>7_9</td>\n",
       "      <td>mixed</td>\n",
       "      <td>humanlike</td>\n",
       "      <td>0</td>\n",
       "      <td>common_good</td>\n",
       "      <td>19.275000</td>\n",
       "    </tr>\n",
       "    <tr>\n",
       "      <th>5756</th>\n",
       "      <td>mixed__9</td>\n",
       "      <td>20</td>\n",
       "      <td>7_9</td>\n",
       "      <td>mixed</td>\n",
       "      <td>humanlike</td>\n",
       "      <td>0</td>\n",
       "      <td>common_good</td>\n",
       "      <td>19.942858</td>\n",
       "    </tr>\n",
       "    <tr>\n",
       "      <th>5757</th>\n",
       "      <td>mixed__9</td>\n",
       "      <td>21</td>\n",
       "      <td>7_9</td>\n",
       "      <td>mixed</td>\n",
       "      <td>humanlike</td>\n",
       "      <td>0</td>\n",
       "      <td>common_good</td>\n",
       "      <td>21.900000</td>\n",
       "    </tr>\n",
       "    <tr>\n",
       "      <th>5758</th>\n",
       "      <td>mixed__9</td>\n",
       "      <td>22</td>\n",
       "      <td>7_9</td>\n",
       "      <td>mixed</td>\n",
       "      <td>humanlike</td>\n",
       "      <td>0</td>\n",
       "      <td>common_good</td>\n",
       "      <td>21.525000</td>\n",
       "    </tr>\n",
       "    <tr>\n",
       "      <th>5759</th>\n",
       "      <td>mixed__9</td>\n",
       "      <td>23</td>\n",
       "      <td>7_9</td>\n",
       "      <td>mixed</td>\n",
       "      <td>humanlike</td>\n",
       "      <td>0</td>\n",
       "      <td>common_good</td>\n",
       "      <td>20.900000</td>\n",
       "    </tr>\n",
       "  </tbody>\n",
       "</table>\n",
       "<p>5760 rows × 8 columns</p>\n",
       "</div>"
      ],
      "text/plain": [
       "       episode  round_number participant_code    run    manager  group  \\\n",
       "0     mixed__0             0              0_0  mixed  humanlike      0   \n",
       "1     mixed__0             1              0_0  mixed  humanlike      0   \n",
       "2     mixed__0             2              0_0  mixed  humanlike      0   \n",
       "3     mixed__0             3              0_0  mixed  humanlike      0   \n",
       "4     mixed__0             4              0_0  mixed   pgh,0.98      1   \n",
       "...        ...           ...              ...    ...        ...    ...   \n",
       "5755  mixed__9            19              7_9  mixed  humanlike      0   \n",
       "5756  mixed__9            20              7_9  mixed  humanlike      0   \n",
       "5757  mixed__9            21              7_9  mixed  humanlike      0   \n",
       "5758  mixed__9            22              7_9  mixed  humanlike      0   \n",
       "5759  mixed__9            23              7_9  mixed  humanlike      0   \n",
       "\n",
       "         variable      value  \n",
       "0      punishment   0.000000  \n",
       "1      punishment   1.000000  \n",
       "2      punishment   0.000000  \n",
       "3      punishment   0.000000  \n",
       "4      punishment  28.000000  \n",
       "...           ...        ...  \n",
       "5755  common_good  19.275000  \n",
       "5756  common_good  19.942858  \n",
       "5757  common_good  21.900000  \n",
       "5758  common_good  21.525000  \n",
       "5759  common_good  20.900000  \n",
       "\n",
       "[5760 rows x 8 columns]"
      ]
     },
     "execution_count": 23,
     "metadata": {},
     "output_type": "execute_result"
    }
   ],
   "source": [
    "dfm"
   ]
  },
  {
   "cell_type": "code",
   "execution_count": 24,
   "id": "7ef7429d",
   "metadata": {},
   "outputs": [],
   "source": [
    "df[\"group\"] = df[\"group\"].astype(float)"
   ]
  },
  {
   "cell_type": "code",
   "execution_count": 25,
   "id": "7d01f88e",
   "metadata": {},
   "outputs": [],
   "source": [
    "df_avg = df.groupby(\"round_number\").mean(numeric_only=True).reset_index()"
   ]
  },
  {
   "cell_type": "code",
   "execution_count": 26,
   "id": "c324d004",
   "metadata": {},
   "outputs": [
    {
     "data": {
      "text/plain": [
       "<seaborn.axisgrid.FacetGrid at 0x7f9d2a25e1f0>"
      ]
     },
     "execution_count": 26,
     "metadata": {},
     "output_type": "execute_result"
    },
    {
     "data": {
      "image/png": "[encoded data removed]",
      "text/plain": [
       "<Figure size 622.25x500 with 1 Axes>"
      ]
     },
     "metadata": {},
     "output_type": "display_data"
    }
   ],
   "source": [
    "sns.catplot(data=df, x=\"round_number\", y=\"payoff\", hue=\"manager\", kind=\"point\")"
   ]
  },
  {
   "cell_type": "code",
   "execution_count": 27,
   "id": "70b3bc13",
   "metadata": {},
   "outputs": [
    {
     "data": {
      "text/plain": [
       "<seaborn.axisgrid.FacetGrid at 0x7f9d1d12ea00>"
      ]
     },
     "execution_count": 27,
     "metadata": {},
     "output_type": "execute_result"
    },
    {
     "data": {
      "image/png": "[encoded data removed]",
      "text/plain": [
       "<Figure size 622.25x500 with 1 Axes>"
      ]
     },
     "metadata": {},
     "output_type": "display_data"
    }
   ],
   "source": [
    "sns.catplot(data=df, x=\"round_number\", y=\"punishment\", hue=\"manager\", kind=\"point\")"
   ]
  },
  {
   "cell_type": "code",
   "execution_count": 28,
   "id": "be1e3277",
   "metadata": {},
   "outputs": [
    {
     "data": {
      "text/plain": [
       "<seaborn.axisgrid.FacetGrid at 0x7f9d1d12e7c0>"
      ]
     },
     "execution_count": 28,
     "metadata": {},
     "output_type": "execute_result"
    },
    {
     "data": {
      "image/png": "[encoded data removed]",
      "text/plain": [
       "<Figure size 622.25x500 with 1 Axes>"
      ]
     },
     "metadata": {},
     "output_type": "display_data"
    }
   ],
   "source": [
    "sns.catplot(data=df, x=\"round_number\", y=\"common_good\", hue=\"manager\", kind=\"point\")"
   ]
  },
  {
   "cell_type": "code",
   "execution_count": 29,
   "id": "af838beb",
   "metadata": {},
   "outputs": [
    {
     "data": {
      "text/plain": [
       "<seaborn.axisgrid.FacetGrid at 0x7f9d2a86ea00>"
      ]
     },
     "execution_count": 29,
     "metadata": {},
     "output_type": "execute_result"
    },
    {
     "data": {
      "image/png": "[encoded data removed]",
      "text/plain": [
       "<Figure size 500x500 with 1 Axes>"
      ]
     },
     "metadata": {},
     "output_type": "display_data"
    }
   ],
   "source": [
    "sns.catplot(data=df_avg, x=\"round_number\", y=\"group\", kind=\"point\")"
   ]
  },
  {
   "cell_type": "code",
   "execution_count": 19,
   "id": "f4088ef3",
   "metadata": {},
   "outputs": [
    {
     "data": {
      "text/plain": [
       "<Axes: xlabel='manager', ylabel='punishment'>"
      ]
     },
     "execution_count": 19,
     "metadata": {},
     "output_type": "execute_result"
    },
    {
     "data": {
      "image/png": "[encoded data removed]",
      "text/plain": [
       "<Figure size 640x480 with 1 Axes>"
      ]
     },
     "metadata": {},
     "output_type": "display_data"
    }
   ],
   "source": [
    "sns.barplot(data=df, x=\"manager\", y=\"punishment\")"
   ]
  },
  {
   "cell_type": "code",
   "execution_count": 20,
   "id": "836736e1",
   "metadata": {},
   "outputs": [
    {
     "data": {
      "text/plain": [
       "tensor([0.5000, 0.3200, 0.3200, 0.3200, 0.3200, 0.3200])"
      ]
     },
     "execution_count": 20,
     "metadata": {},
     "output_type": "execute_result"
    }
   ],
   "source": [
    "recorder.memory[\"group\"][:, 0, :, :].type(th.float).mean(1).mean(0)[::4]"
   ]
  },
  {
   "cell_type": "code",
   "execution_count": 21,
   "id": "926b07b2",
   "metadata": {
    "papermill": {},
    "tags": []
   },
   "outputs": [],
   "source": [
    "data_file = \"experiments/pilot_random1_player_round_slim.csv\"\n",
    "data_file = os.path.join(basedir, data_file)\n",
    "\n",
    "df_pilot = pd.read_csv(data_file)\n",
    "\n",
    "experiment_name_map = {\n",
    "    \"trail_rounds_2\": \"pilot human manager\",\n",
    "    \"random_1\": \"pilot rule based manager\",\n",
    "}\n",
    "\n",
    "df_pilot[\"run\"] = df_pilot[\"experiment_name\"].map(experiment_name_map)\n",
    "df_pilot[\"common_good\"] = df_pilot[\"common_good\"] / 4\n",
    "df_pilot = df_pilot[\n",
    "    [\n",
    "        \"round_number\",\n",
    "        \"common_good\",\n",
    "        \"contribution\",\n",
    "        \"participant_code\",\n",
    "        \"punishment\",\n",
    "        \"run\",\n",
    "        \"global_group_id\",\n",
    "    ]\n",
    "]\n",
    "\n",
    "df_pilot[\"episode\"] = df_pilot[\"global_group_id\"]\n",
    "\n",
    "df = pd.concat([*dfs, df_pilot]).reset_index(drop=True)\n",
    "\n",
    "df[\"episode\"] = df[\"run\"] + \"__\" + df[\"episode\"].astype(str)\n",
    "\n",
    "dfm = df.melt(\n",
    "    id_vars=[\"episode\", \"round_number\", \"participant_code\", \"run\"],\n",
    "    value_vars=[\"punishment\", \"contribution\", \"common_good\"],\n",
    ")"
   ]
  },
  {
   "cell_type": "code",
   "execution_count": 22,
   "id": "5a4c55f9",
   "metadata": {},
   "outputs": [
    {
     "data": {
      "text/html": [
       "<div>\n",
       "<style scoped>\n",
       "    .dataframe tbody tr th:only-of-type {\n",
       "        vertical-align: middle;\n",
       "    }\n",
       "\n",
       "    .dataframe tbody tr th {\n",
       "        vertical-align: top;\n",
       "    }\n",
       "\n",
       "    .dataframe thead th {\n",
       "        text-align: right;\n",
       "    }\n",
       "</style>\n",
       "<table border=\"1\" class=\"dataframe\">\n",
       "  <thead>\n",
       "    <tr style=\"text-align: right;\">\n",
       "      <th></th>\n",
       "      <th>episode</th>\n",
       "      <th>round_number</th>\n",
       "      <th>participant_code</th>\n",
       "      <th>run</th>\n",
       "      <th>variable</th>\n",
       "      <th>value</th>\n",
       "    </tr>\n",
       "  </thead>\n",
       "  <tbody>\n",
       "    <tr>\n",
       "      <th>0</th>\n",
       "      <td>mixed__0</td>\n",
       "      <td>0</td>\n",
       "      <td>0_0</td>\n",
       "      <td>mixed</td>\n",
       "      <td>punishment</td>\n",
       "      <td>0.00</td>\n",
       "    </tr>\n",
       "    <tr>\n",
       "      <th>1</th>\n",
       "      <td>mixed__0</td>\n",
       "      <td>1</td>\n",
       "      <td>0_0</td>\n",
       "      <td>mixed</td>\n",
       "      <td>punishment</td>\n",
       "      <td>0.00</td>\n",
       "    </tr>\n",
       "    <tr>\n",
       "      <th>2</th>\n",
       "      <td>mixed__0</td>\n",
       "      <td>2</td>\n",
       "      <td>0_0</td>\n",
       "      <td>mixed</td>\n",
       "      <td>punishment</td>\n",
       "      <td>0.00</td>\n",
       "    </tr>\n",
       "    <tr>\n",
       "      <th>3</th>\n",
       "      <td>mixed__0</td>\n",
       "      <td>3</td>\n",
       "      <td>0_0</td>\n",
       "      <td>mixed</td>\n",
       "      <td>punishment</td>\n",
       "      <td>3.00</td>\n",
       "    </tr>\n",
       "    <tr>\n",
       "      <th>4</th>\n",
       "      <td>mixed__0</td>\n",
       "      <td>4</td>\n",
       "      <td>0_0</td>\n",
       "      <td>mixed</td>\n",
       "      <td>punishment</td>\n",
       "      <td>1.00</td>\n",
       "    </tr>\n",
       "    <tr>\n",
       "      <th>...</th>\n",
       "      <td>...</td>\n",
       "      <td>...</td>\n",
       "      <td>...</td>\n",
       "      <td>...</td>\n",
       "      <td>...</td>\n",
       "      <td>...</td>\n",
       "    </tr>\n",
       "    <tr>\n",
       "      <th>75127</th>\n",
       "      <td>pilot rule based manager__d81skd2r #7</td>\n",
       "      <td>15</td>\n",
       "      <td>kc4vb44t</td>\n",
       "      <td>pilot rule based manager</td>\n",
       "      <td>common_good</td>\n",
       "      <td>18.75</td>\n",
       "    </tr>\n",
       "    <tr>\n",
       "      <th>75128</th>\n",
       "      <td>pilot rule based manager__d81skd2r #8</td>\n",
       "      <td>15</td>\n",
       "      <td>abexrrr2</td>\n",
       "      <td>pilot rule based manager</td>\n",
       "      <td>common_good</td>\n",
       "      <td>-4.00</td>\n",
       "    </tr>\n",
       "    <tr>\n",
       "      <th>75129</th>\n",
       "      <td>pilot rule based manager__d81skd2r #10</td>\n",
       "      <td>15</td>\n",
       "      <td>pkqvc8tk</td>\n",
       "      <td>pilot rule based manager</td>\n",
       "      <td>common_good</td>\n",
       "      <td>10.75</td>\n",
       "    </tr>\n",
       "    <tr>\n",
       "      <th>75130</th>\n",
       "      <td>pilot rule based manager__d81skd2r #10</td>\n",
       "      <td>15</td>\n",
       "      <td>xw5jeu6y</td>\n",
       "      <td>pilot rule based manager</td>\n",
       "      <td>common_good</td>\n",
       "      <td>10.75</td>\n",
       "    </tr>\n",
       "    <tr>\n",
       "      <th>75131</th>\n",
       "      <td>pilot rule based manager__d81skd2r #11</td>\n",
       "      <td>15</td>\n",
       "      <td>qowza6vx</td>\n",
       "      <td>pilot rule based manager</td>\n",
       "      <td>common_good</td>\n",
       "      <td>31.50</td>\n",
       "    </tr>\n",
       "  </tbody>\n",
       "</table>\n",
       "<p>75132 rows × 6 columns</p>\n",
       "</div>"
      ],
      "text/plain": [
       "                                      episode  round_number participant_code  \\\n",
       "0                                    mixed__0             0              0_0   \n",
       "1                                    mixed__0             1              0_0   \n",
       "2                                    mixed__0             2              0_0   \n",
       "3                                    mixed__0             3              0_0   \n",
       "4                                    mixed__0             4              0_0   \n",
       "...                                       ...           ...              ...   \n",
       "75127   pilot rule based manager__d81skd2r #7            15         kc4vb44t   \n",
       "75128   pilot rule based manager__d81skd2r #8            15         abexrrr2   \n",
       "75129  pilot rule based manager__d81skd2r #10            15         pkqvc8tk   \n",
       "75130  pilot rule based manager__d81skd2r #10            15         xw5jeu6y   \n",
       "75131  pilot rule based manager__d81skd2r #11            15         qowza6vx   \n",
       "\n",
       "                            run     variable  value  \n",
       "0                         mixed   punishment   0.00  \n",
       "1                         mixed   punishment   0.00  \n",
       "2                         mixed   punishment   0.00  \n",
       "3                         mixed   punishment   3.00  \n",
       "4                         mixed   punishment   1.00  \n",
       "...                         ...          ...    ...  \n",
       "75127  pilot rule based manager  common_good  18.75  \n",
       "75128  pilot rule based manager  common_good  -4.00  \n",
       "75129  pilot rule based manager  common_good  10.75  \n",
       "75130  pilot rule based manager  common_good  10.75  \n",
       "75131  pilot rule based manager  common_good  31.50  \n",
       "\n",
       "[75132 rows x 6 columns]"
      ]
     },
     "execution_count": 22,
     "metadata": {},
     "output_type": "execute_result"
    }
   ],
   "source": [
    "dfm"
   ]
  }
 ],
 "metadata": {
  "kernelspec": {
   "display_name": "Python 3.9.1 ('.venv': venv)",
   "language": "python",
   "name": "python3"
  },
  "language_info": {
   "codemirror_mode": {
    "name": "ipython",
    "version": 3
   },
   "file_extension": ".py",
   "mimetype": "text/x-python",
   "name": "python",
   "nbconvert_exporter": "python",
   "pygments_lexer": "ipython3",
   "version": "3.9.19"
  },
  "papermill": {
   "default_parameters": {},
   "environment_variables": {},
   "input_path": "notebooks/test_manager/simulate_mixed.ipynb",
   "output_path": "notebooks/test_manager/simulate_mixed.ipynb",
   "parameters": {
    "artificial_humans": {
     "full": {
      "contribution_model": "artifacts/behavioral_cloning/17_contribution_model_short_v3/model/architecture_node+edge+rnn__dataset_full.pt",
      "valid_model": "artifacts/behavioral_cloning/19_contribution_valid_model_v2/model/rnn_False__dataset_full.pt"
     },
     "human managed": {
      "contribution_model": "artifacts/behavioral_cloning/17_contribution_model_short_v3/model/architecture_node+edge+rnn__dataset_human_manager.pt",
      "valid_model": "artifacts/behavioral_cloning/19_contribution_valid_model_v2/model/rnn_False__dataset_human_manager.pt"
     }
    },
    "basedir": "../..",
    "managers": {
     "humanlike": {
      "autoregressive": true,
      "path": "artifacts/behavioral_cloning/18_punishment_autoregressive_v2/model/architecture_node+edge.pt",
      "type": "human"
     },
     "optimal": {
      "path": "artifacts/manager/04_model/model/architecture_node+edge+rnn__run_0.pt",
      "type": "rl"
     }
    },
    "n_episode_steps": 16,
    "n_episodes": 1000,
    "output_dir": "../../notebooks/test_manager/simulate_mixed/02_all_artifacts"
   },
   "version": "2.3.4"
  },
  "vscode": {
   "interpreter": {
    "hash": "83484b78e3eced0c1ebbaf37dd8049c2f9102f6dcade2a60a08a368fc0daac5f"
   }
  }
 },
 "nbformat": 4,
 "nbformat_minor": 5
}
