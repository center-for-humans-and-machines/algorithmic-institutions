{
 "cells": [
  {
   "cell_type": "code",
   "execution_count": 1,
   "id": "bc6d4b65",
   "metadata": {
    "tags": [
     "injected-parameters"
    ]
   },
   "outputs": [],
   "source": [
    "# Parameters\n",
    "managers = {\n",
    "    \"humanlike\": {\n",
    "        \"type\": \"human\",\n",
    "        \"path\": \"../../data/human_like_manager/03_features/model/features_cont+ppun+valid.pt\",\n",
    "    },\n",
    "    \"optimal\": {\n",
    "        \"type\": \"rl\",\n",
    "        \"path\": \"../../data/manager_v3/17_model/model/rnn_True__edge_False__global_features_False__run_0.pt\",\n",
    "    },\n",
    "}\n"
   ]
  },
  {
   "cell_type": "code",
   "execution_count": 2,
   "id": "cf5d8881",
   "metadata": {
    "papermill": {},
    "tags": []
   },
   "outputs": [
    {
     "name": "stderr",
     "output_type": "stream",
     "text": [
      "/home/mpib/brinkmann/repros/algorithmic-institutions/.venv/lib/python3.9/site-packages/tqdm/auto.py:22: TqdmWarning: IProgress not found. Please update jupyter and ipywidgets. See https://ipywidgets.readthedocs.io/en/stable/user_install.html\n",
      "  from .autonotebook import tqdm as notebook_tqdm\n",
      "/home/mpib/brinkmann/repros/algorithmic-institutions/.venv/lib/python3.9/site-packages/torch/cuda/__init__.py:82: UserWarning: CUDA initialization: The NVIDIA driver on your system is too old (found version 10010). Please update your GPU driver by downloading and installing a new version from the URL: http://www.nvidia.com/Download/index.aspx Alternatively, go to: https://pytorch.org to install a PyTorch version that has been compiled with your version of the CUDA driver. (Triggered internally at  ../c10/cuda/CUDAFunctions.cpp:112.)\n",
      "  return torch._C._cuda_getDeviceCount() > 0\n"
     ]
    }
   ],
   "source": [
    "import numpy as np\n",
    "import torch as th\n",
    "\n",
    "from aimanager.manager.api_manager import MultiManager"
   ]
  },
  {
   "cell_type": "code",
   "execution_count": 3,
   "id": "2db4d009",
   "metadata": {
    "papermill": {},
    "tags": []
   },
   "outputs": [],
   "source": [
    "def random_human(n_player, round):\n",
    "    data = {\n",
    "        'punishments': np.random.randint(0,31, size=n_player).tolist(),\n",
    "        # 'contributions': np.random.randint(0,21, size=n_player).tolist(),\n",
    "        'contributions': np.random.randint(20,21, size=n_player).tolist(),\n",
    "        'missing_inputs': np.random.choice([True, False], size=n_player).tolist(),\n",
    "        'manager_missing_inputs': np.random.choice([True, False], size=n_player).tolist(),\n",
    "        'groups': np.random.choice(['humanlike', 'optimal'], size=n_player).tolist(),\n",
    "        'round': round\n",
    "    }\n",
    "    return data\n",
    "\n"
   ]
  },
  {
   "cell_type": "code",
   "execution_count": 4,
   "id": "58b47f13",
   "metadata": {
    "papermill": {},
    "tags": []
   },
   "outputs": [],
   "source": [
    "rounds = [random_human(4, i) for i in range(16)]"
   ]
  },
  {
   "cell_type": "code",
   "execution_count": 6,
   "id": "3627c345",
   "metadata": {
    "papermill": {},
    "tags": []
   },
   "outputs": [
    {
     "name": "stdout",
     "output_type": "stream",
     "text": [
      "{'punishments': [0, 14, 4, 13], 'contributions': [20, 20, 20, 20], 'missing_inputs': [True, True, False, True], 'manager_missing_inputs': [True, False, False, False], 'groups': ['optimal', 'humanlike', 'humanlike', 'humanlike'], 'round': 15}\n"
     ]
    },
    {
     "data": {
      "text/plain": [
       "([0, 3, 0, 3], {'humanlike': [3, 3, 0, 3], 'optimal': [0, 0, 0, 0]})"
      ]
     },
     "execution_count": 6,
     "metadata": {},
     "output_type": "execute_result"
    }
   ],
   "source": [
    "rounds = [random_human(4, i) for i in range(16)]\n",
    "print(rounds[-1])\n",
    "\n",
    "\n",
    "\n",
    "mm = MultiManager(managers)\n",
    "mm.get_punishments(rounds)"
   ]
  }
 ],
 "metadata": {
  "kernelspec": {
   "display_name": "Python 3.9.1 ('.venv': venv)",
   "language": "python",
   "name": "python3"
  },
  "language_info": {
   "codemirror_mode": {
    "name": "ipython",
    "version": 3
   },
   "file_extension": ".py",
   "mimetype": "text/x-python",
   "name": "python",
   "nbconvert_exporter": "python",
   "pygments_lexer": "ipython3",
   "version": "3.9.1"
  },
  "papermill": {
   "default_parameters": {},
   "environment_variables": {},
   "input_path": "notebooks/test_manager/test_manager_v1.ipynb",
   "output_path": "notebooks/test_manager/test_manager_v1.ipynb",
   "parameters": {
    "managers": {
     "humanlike": {
      "path": "../../data/human_like_manager/03_features/model/features_cont+ppun+valid.pt",
      "type": "human"
     },
     "optimal": {
      "path": "../../data/manager_v3/17_model/model/rnn_True__edge_False__global_features_False__run_0.pt",
      "type": "rl"
     }
    }
   },
   "version": "2.3.4"
  },
  "vscode": {
   "interpreter": {
    "hash": "83484b78e3eced0c1ebbaf37dd8049c2f9102f6dcade2a60a08a368fc0daac5f"
   }
  }
 },
 "nbformat": 4,
 "nbformat_minor": 5
}
