{
 "cells": [
  {
   "cell_type": "code",
   "execution_count": 4,
   "metadata": {},
   "outputs": [],
   "source": [
    "# Parameters\n",
    "artificial_humans = \"../../data/artificial_humans/01_rnn_edge_features/model/rnn_True__edge_True__global_features_False.pt\"\n",
    "artificial_humans_model = \"graph\"\n",
    "managers = {\n",
    "    \"humanlike\": {\n",
    "        \"type\": \"human\",\n",
    "        \"path\": \"aimanager/model/human_like_manager/03_features_features_cont+ppun+valid.pt\",\n",
    "    },\n",
    "    \"optimal\": {\n",
    "        \"type\": \"rl\",\n",
    "        \"path\": \"aimanager/model/manager/17_model__rnn_True__edge_False__global_features_False__run_0.pt\",\n",
    "    },\n",
    "}\n",
    "output_path = \"../../data/manager/simulate_rule/v1_comp/\"\n",
    "n_episode_steps = 16\n",
    "n_episodes = 5"
   ]
  },
  {
   "cell_type": "code",
   "execution_count": 5,
   "metadata": {},
   "outputs": [],
   "source": [
    "import requests\n",
    "import datetime\n",
    "import os\n",
    "import random\n",
    "import numpy as np\n",
    "\n",
    "\n",
    "BACKEND_URL = os.environ.get('MANAGER_BACKEND_URL', 'http://localhost:8000')\n",
    "\n",
    "\n",
    "def get_punishments(contributions, missing_inputs, groups, *, session, group_idx, round):\n",
    "    \"\"\"\n",
    "    Requests the punishments form the manger backend.\n",
    "\n",
    "    Args:\n",
    "        contributions [int]: contributions in fixed order (order has to remain throughout the game)\n",
    "        missing_inputs [boolean]: missing_inputs in fixed order (same order as contributions)\n",
    "        groups [str]: group identifier in fixed order (same order as contributions)\n",
    "        session str: session indentifier\n",
    "        subsession str: subsession identifier\n",
    "        round int: round number\n",
    "\n",
    "    Returns:\n",
    "        [int]: punishments for each player in the same order then contributions\n",
    "    \"\"\"\n",
    "    data = {\n",
    "        'contributions': contributions,\n",
    "        'missing_inputs': missing_inputs,\n",
    "        'groups': groups,\n",
    "        'round': round,\n",
    "        'group_idx': group_idx,\n",
    "        'session': session,\n",
    "        'datetime': str(datetime.datetime.now())\n",
    "    }\n",
    "    url = BACKEND_URL + '/get_punishments'\n",
    "    try:\n",
    "        response = requests.post(url, json={'data': data}).json()\n",
    "        return response['data']['punishments']\n",
    "    except Exception as e:\n",
    "        print(f'Failed to reach manager backend.')\n",
    "        return [None]*len(contributions)\n"
   ]
  },
  {
   "cell_type": "code",
   "execution_count": 6,
   "metadata": {},
   "outputs": [
    {
     "name": "stdout",
     "output_type": "stream",
     "text": [
      "The autoreload extension is already loaded. To reload it, use:\n",
      "  %reload_ext autoreload\n"
     ]
    },
    {
     "ename": "NameError",
     "evalue": "name '_C' is not defined",
     "output_type": "error",
     "traceback": [
      "\u001b[0;31m---------------------------------------------------------------------------\u001b[0m",
      "\u001b[0;31mNameError\u001b[0m                                 Traceback (most recent call last)",
      "\u001b[1;32m/home/mpib/brinkmann/repros/algorithmic-institutions/notebooks/test_manager/simulate_backend.ipynb Cell 3\u001b[0m in \u001b[0;36m<cell line: 5>\u001b[0;34m()\u001b[0m\n\u001b[1;32m      <a href='vscode-notebook-cell://ssh-remote%2Bcluster/home/mpib/brinkmann/repros/algorithmic-institutions/notebooks/test_manager/simulate_backend.ipynb#W2sdnNjb2RlLXJlbW90ZQ%3D%3D?line=1'>2</a>\u001b[0m get_ipython()\u001b[39m.\u001b[39mrun_line_magic(\u001b[39m'\u001b[39m\u001b[39mautoreload\u001b[39m\u001b[39m'\u001b[39m, \u001b[39m'\u001b[39m\u001b[39m2\u001b[39m\u001b[39m'\u001b[39m)\n\u001b[1;32m      <a href='vscode-notebook-cell://ssh-remote%2Bcluster/home/mpib/brinkmann/repros/algorithmic-institutions/notebooks/test_manager/simulate_backend.ipynb#W2sdnNjb2RlLXJlbW90ZQ%3D%3D?line=3'>4</a>\u001b[0m \u001b[39mimport\u001b[39;00m \u001b[39mos\u001b[39;00m\n\u001b[0;32m----> <a href='vscode-notebook-cell://ssh-remote%2Bcluster/home/mpib/brinkmann/repros/algorithmic-institutions/notebooks/test_manager/simulate_backend.ipynb#W2sdnNjb2RlLXJlbW90ZQ%3D%3D?line=4'>5</a>\u001b[0m \u001b[39mimport\u001b[39;00m \u001b[39mtorch\u001b[39;00m \u001b[39mas\u001b[39;00m \u001b[39mth\u001b[39;00m\n\u001b[1;32m      <a href='vscode-notebook-cell://ssh-remote%2Bcluster/home/mpib/brinkmann/repros/algorithmic-institutions/notebooks/test_manager/simulate_backend.ipynb#W2sdnNjb2RlLXJlbW90ZQ%3D%3D?line=5'>6</a>\u001b[0m \u001b[39mimport\u001b[39;00m \u001b[39mnumpy\u001b[39;00m \u001b[39mas\u001b[39;00m \u001b[39mnp\u001b[39;00m\n\u001b[1;32m      <a href='vscode-notebook-cell://ssh-remote%2Bcluster/home/mpib/brinkmann/repros/algorithmic-institutions/notebooks/test_manager/simulate_backend.ipynb#W2sdnNjb2RlLXJlbW90ZQ%3D%3D?line=6'>7</a>\u001b[0m \u001b[39mimport\u001b[39;00m \u001b[39mseaborn\u001b[39;00m \u001b[39mas\u001b[39;00m \u001b[39msns\u001b[39;00m\n",
      "File \u001b[0;32m~/repros/algorithmic-institutions/.venv/lib/python3.9/site-packages/torch/__init__.py:231\u001b[0m, in \u001b[0;36m<module>\u001b[0;34m\u001b[0m\n\u001b[1;32m    216\u001b[0m         \u001b[39mraise\u001b[39;00m \u001b[39mImportError\u001b[39;00m(textwrap\u001b[39m.\u001b[39mdedent(\u001b[39m'''\u001b[39m\n\u001b[1;32m    217\u001b[0m \u001b[39m            Failed to load PyTorch C extensions:\u001b[39m\n\u001b[1;32m    218\u001b[0m \u001b[39m                It appears that PyTorch has loaded the `torch/_C` folder\u001b[39m\n\u001b[0;32m   (...)\u001b[0m\n\u001b[1;32m    226\u001b[0m \u001b[39m                or by running Python from a different directory.\u001b[39m\n\u001b[1;32m    227\u001b[0m \u001b[39m            \u001b[39m\u001b[39m'''\u001b[39m)\u001b[39m.\u001b[39mstrip()) \u001b[39mfrom\u001b[39;00m \u001b[39mNone\u001b[39m\n\u001b[1;32m    228\u001b[0m     \u001b[39mraise\u001b[39;00m  \u001b[39m# If __file__ is not None the cause is unknown, so just re-raise.\u001b[39;00m\n\u001b[0;32m--> 231\u001b[0m __all__ \u001b[39m+\u001b[39m\u001b[39m=\u001b[39m [name \u001b[39mfor\u001b[39;00m name \u001b[39min\u001b[39;00m \u001b[39mdir\u001b[39m(_C)\n\u001b[1;32m    232\u001b[0m             \u001b[39mif\u001b[39;00m name[\u001b[39m0\u001b[39m] \u001b[39m!=\u001b[39m \u001b[39m'\u001b[39m\u001b[39m_\u001b[39m\u001b[39m'\u001b[39m \u001b[39mand\u001b[39;00m\n\u001b[1;32m    233\u001b[0m             \u001b[39mnot\u001b[39;00m name\u001b[39m.\u001b[39mendswith(\u001b[39m'\u001b[39m\u001b[39mBase\u001b[39m\u001b[39m'\u001b[39m)]\n\u001b[1;32m    235\u001b[0m \u001b[39mif\u001b[39;00m \u001b[39mnot\u001b[39;00m TYPE_CHECKING:\n\u001b[1;32m    236\u001b[0m     \u001b[39m# issue 38137 and python issue 43367. Submodules of a C extension are\u001b[39;00m\n\u001b[1;32m    237\u001b[0m     \u001b[39m# non-standard, and attributes of those submodules cannot be pickled since\u001b[39;00m\n\u001b[1;32m    238\u001b[0m     \u001b[39m# pickle expect to be able to import them as \"from _C.sub import attr\"\u001b[39;00m\n\u001b[1;32m    239\u001b[0m     \u001b[39m# which fails with \"_C is not a package\u001b[39;00m\n\u001b[1;32m    240\u001b[0m     \u001b[39mfor\u001b[39;00m attr \u001b[39min\u001b[39;00m \u001b[39mdir\u001b[39m(_C):\n",
      "\u001b[0;31mNameError\u001b[0m: name '_C' is not defined"
     ]
    }
   ],
   "source": [
    "%load_ext autoreload\n",
    "%autoreload 2\n",
    "\n",
    "import os\n",
    "import torch as th\n",
    "import numpy as np\n",
    "import seaborn as sns\n",
    "import pandas as pd\n",
    "from itertools import count\n",
    "from aimanager.utils.utils import make_dir\n",
    "\n",
    "from aimanager.manager.memory import Memory\n",
    "from aimanager.manager.environment_v3 import ArtificialHumanEnv\n",
    "from aimanager.artificial_humans import GraphNetwork\n",
    "from aimanager.utils.array_to_df import using_multiindex, add_labels\n",
    "\n",
    "output_path = os.path.join(output_path, 'data')"
   ]
  },
  {
   "cell_type": "code",
   "execution_count": null,
   "metadata": {},
   "outputs": [
    {
     "name": "stdout",
     "output_type": "stream",
     "text": [
      "Failed to reach manager backend.\n"
     ]
    },
    {
     "ename": "AttributeError",
     "evalue": "'list' object has no attribute 'max'",
     "output_type": "error",
     "traceback": [
      "\u001b[0;31m---------------------------------------------------------------------------\u001b[0m",
      "\u001b[0;31mAttributeError\u001b[0m                            Traceback (most recent call last)",
      "\u001b[1;32m/home/mpib/brinkmann/repros/algorithmic-institutions/notebooks/test_manager/simulate_backend.ipynb Cell 4\u001b[0m in \u001b[0;36m<cell line: 16>\u001b[0;34m()\u001b[0m\n\u001b[1;32m     <a href='vscode-notebook-cell://ssh-remote%2Bcluster/home/mpib/brinkmann/repros/algorithmic-institutions/notebooks/test_manager/simulate_backend.ipynb#W3sdnNjb2RlLXJlbW90ZQ%3D%3D?line=24'>25</a>\u001b[0m encoded \u001b[39m=\u001b[39m mg\u001b[39m.\u001b[39mencode_pure(_state)\n\u001b[1;32m     <a href='vscode-notebook-cell://ssh-remote%2Bcluster/home/mpib/brinkmann/repros/algorithmic-institutions/notebooks/test_manager/simulate_backend.ipynb#W3sdnNjb2RlLXJlbW90ZQ%3D%3D?line=26'>27</a>\u001b[0m action, proba \u001b[39m=\u001b[39m mg\u001b[39m.\u001b[39mpredict_pure(encoded, reset_rnn\u001b[39m=\u001b[39mround_number \u001b[39m==\u001b[39m \u001b[39m0\u001b[39m, sample\u001b[39m=\u001b[39m\u001b[39mTrue\u001b[39;00m)\n\u001b[0;32m---> <a href='vscode-notebook-cell://ssh-remote%2Bcluster/home/mpib/brinkmann/repros/algorithmic-institutions/notebooks/test_manager/simulate_backend.ipynb#W3sdnNjb2RlLXJlbW90ZQ%3D%3D?line=28'>29</a>\u001b[0m state \u001b[39m=\u001b[39m env\u001b[39m.\u001b[39;49mpunish(b_action)\n\u001b[1;32m     <a href='vscode-notebook-cell://ssh-remote%2Bcluster/home/mpib/brinkmann/repros/algorithmic-institutions/notebooks/test_manager/simulate_backend.ipynb#W3sdnNjb2RlLXJlbW90ZQ%3D%3D?line=30'>31</a>\u001b[0m recorder\u001b[39m.\u001b[39madd(\u001b[39m*\u001b[39m\u001b[39m*\u001b[39m{k: v\u001b[39m.\u001b[39msqueeze(\u001b[39m-\u001b[39m\u001b[39m1\u001b[39m) \u001b[39mfor\u001b[39;00m k, v \u001b[39min\u001b[39;00m state\u001b[39m.\u001b[39mitems()}, control_punishment\u001b[39m=\u001b[39maction, episode_step\u001b[39m=\u001b[39mround_number)\n\u001b[1;32m     <a href='vscode-notebook-cell://ssh-remote%2Bcluster/home/mpib/brinkmann/repros/algorithmic-institutions/notebooks/test_manager/simulate_backend.ipynb#W3sdnNjb2RlLXJlbW90ZQ%3D%3D?line=31'>32</a>\u001b[0m state, reward, done \u001b[39m=\u001b[39m env\u001b[39m.\u001b[39mstep()\n",
      "File \u001b[0;32m/mnt/beegfs/home/brinkmann/repros/algorithmic-institutions/aimanager/manager/environment_v3.py:130\u001b[0m, in \u001b[0;36mArtificialHumanEnv.punish\u001b[0;34m(self, punishments)\u001b[0m\n\u001b[1;32m    129\u001b[0m \u001b[39mdef\u001b[39;00m \u001b[39mpunish\u001b[39m(\u001b[39mself\u001b[39m, punishments):\n\u001b[0;32m--> 130\u001b[0m     \u001b[39massert\u001b[39;00m punishments\u001b[39m.\u001b[39;49mmax() \u001b[39m<\u001b[39m \u001b[39mself\u001b[39m\u001b[39m.\u001b[39mn_punishments\n\u001b[1;32m    131\u001b[0m     \u001b[39massert\u001b[39;00m punishments\u001b[39m.\u001b[39mdtype \u001b[39m==\u001b[39m th\u001b[39m.\u001b[39mint64\n\u001b[1;32m    132\u001b[0m     \u001b[39mself\u001b[39m\u001b[39m.\u001b[39mpunishments \u001b[39m=\u001b[39m punishments\n",
      "\u001b[0;31mAttributeError\u001b[0m: 'list' object has no attribute 'max'"
     ]
    }
   ],
   "source": [
    "device = th.device('cpu')\n",
    "rec_device = th.device('cpu')\n",
    "artifical_humans = GraphNetwork.load(artificial_humans, device=device)\n",
    "\n",
    "env = ArtificialHumanEnv(\n",
    "    artifical_humans=artifical_humans, n_agents=4, n_contributions=21, n_punishments=31, \n",
    "    n_rounds=n_episode_steps, batch_size=1, device=device)\n",
    "mg = GraphNetwork.load(managers['humanlike']['path'], device=device)\n",
    "\n",
    "groups = ['human'] * 4\n",
    "session = 'asdasd'\n",
    "missing_inputs = [False] * 4\n",
    "\n",
    "recorder = Memory(n_episodes=n_episodes, n_episode_steps=n_episode_steps, output_file=None, device=device)\n",
    "\n",
    "for e in range(n_episodes):\n",
    "    state = env.reset()\n",
    "    for round_number in count():\n",
    "\n",
    "        contributions = state['contributions'].squeeze().tolist()\n",
    "        b_action = get_punishments(\n",
    "            contributions, missing_inputs, groups, session=session, group_idx=e, round=round_number)\n",
    "\n",
    "        _state = {**state, **env.get_batch_structure()}\n",
    "        encoded = mg.encode_pure(_state)\n",
    "\n",
    "        action, proba = mg.predict_pure(encoded, reset_rnn=round_number == 0, sample=True)\n",
    "\n",
    "        state = env.punish(b_action)\n",
    "\n",
    "        recorder.add(**{k: v.squeeze(-1) for k, v in state.items()}, control_punishment=action, episode_step=round_number)\n",
    "        state, reward, done = env.step()\n",
    "        if done:\n",
    "            break\n",
    "    recorder.next_episode(e)"
   ]
  },
  {
   "cell_type": "code",
   "execution_count": null,
   "metadata": {},
   "outputs": [],
   "source": [
    "columns = ['episode', 'round_number','participant_code']\n",
    "\n",
    "punishments = using_multiindex(recorder.memory['punishments'][0].numpy(), columns=columns, value_name='punishment')\n",
    "control_punishment = using_multiindex(recorder.memory['control_punishment'][0].numpy(), columns=columns, value_name='control_punishment')\n",
    "common_good = using_multiindex(recorder.memory['common_good'][0].numpy(), columns=columns, value_name='common_good')\n",
    "contributions = using_multiindex(recorder.memory['contributions'][0].numpy(), columns=columns, value_name='contribution')\n",
    "\n",
    "df_sim = punishments.merge(common_good).merge(contributions).merge(control_punishment)\n",
    "df_sim['punishment_diff'] = df_sim['punishments'] - df_sim['control_punishment']\n",
    "\n",
    "columns = ['round_number', 'common_good', 'contribution', 'participant_code', 'punishment', 'data_source']\n",
    "\n",
    "df = pd.concat([df_sim]).reset_index(drop=True)\n",
    "\n",
    "dfm = df.melt(\n",
    "    id_vars=['round_number', 'participant_code', 'data_source'], \n",
    "    value_vars=['punishment', 'contribution', 'punishment_diff', 'control_punishment'])"
   ]
  },
  {
   "cell_type": "code",
   "execution_count": null,
   "metadata": {},
   "outputs": [],
   "source": [
    "g = sns.relplot(\n",
    "    data=dfm,\n",
    "    x=\"round_number\", \n",
    "    y=\"value\",\n",
    "    col='variable',\n",
    "    kind=\"line\",\n",
    "    height=3, aspect=1,\n",
    ")"
   ]
  }
 ],
 "metadata": {
  "kernelspec": {
   "display_name": "Python 3.9.1 ('.venv': venv)",
   "language": "python",
   "name": "python3"
  },
  "language_info": {
   "codemirror_mode": {
    "name": "ipython",
    "version": 3
   },
   "file_extension": ".py",
   "mimetype": "text/x-python",
   "name": "python",
   "nbconvert_exporter": "python",
   "pygments_lexer": "ipython3",
   "version": "3.9.1"
  },
  "orig_nbformat": 4,
  "vscode": {
   "interpreter": {
    "hash": "83484b78e3eced0c1ebbaf37dd8049c2f9102f6dcade2a60a08a368fc0daac5f"
   }
  }
 },
 "nbformat": 4,
 "nbformat_minor": 2
}
