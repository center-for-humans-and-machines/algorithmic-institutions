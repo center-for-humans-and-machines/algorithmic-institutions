{
 "cells": [
  {
   "cell_type": "code",
   "execution_count": 1,
   "id": "d857fbbc",
   "metadata": {
    "tags": [
     "injected-parameters"
    ]
   },
   "outputs": [],
   "source": [
    "# Parameters\n",
    "n_cross_val = 6\n",
    "fraction_training = 1.0\n",
    "data_file = \"../../data/experiments/pilot_random1_player_round_slim.csv\"\n",
    "data_dir = \"../../data/artificial_humans/dev\"\n",
    "labels = {}\n",
    "model_name = \"graph\"\n",
    "job_id = 'dev'\n",
    "model_args = {\n",
    "    \"y_levels\": 31,\n",
    "    \"y_name\": \"punishments\",\n",
    "    \"add_rnn\": False,\n",
    "    \"add_edge_model\": False,\n",
    "    \"add_global_model\": False,\n",
    "    \"hidden_size\": 10,\n",
    "    \"x_encoding\": [\n",
    "        {\"name\": \"prev_contributions\", \"n_levels\": 21, \"encoding\": \"numeric\"},\n",
    "        {\"name\": \"prev_punishments\", \"n_levels\": 31, \"encoding\": \"numeric\"},\n",
    "        {\"name\": \"prev_valid\", \"etype\": \"bool\"},\n",
    "    ],\n",
    "    \"u_encoding\": [\n",
    "        {\"name\": \"prev_common_good\", \"norm\": 32, \"etype\": \"float\"},\n",
    "        {\"name\": \"round_number\", \"n_levels\": 16, \"encoding\": \"numeric\"},\n",
    "    ],\n",
    "}\n",
    "mask_name = \"manager_valid\"\n",
    "experiment_names = [\"trail_rounds_2\"]\n",
    "optimizer_args = {\"lr\": 0.001, \"weight_decay\": 1e-05}\n",
    "train_args = {\"epochs\": 100, \"batch_size\": 20, \"clamp_grad\": 1, \"eval_period\": 10}\n",
    "n_player = 4\n",
    "shuffle_features = [\"prev_punishments\", \"prev_contributions\", \"prev_common_good\"]\n",
    "device = \"cpu\"\n"
   ]
  },
  {
   "cell_type": "code",
   "execution_count": 2,
   "id": "44582683",
   "metadata": {
    "execution": {
     "iopub.execute_input": "2022-06-30T12:01:35.913454Z",
     "iopub.status.busy": "2022-06-30T12:01:35.913043Z",
     "iopub.status.idle": "2022-06-30T12:01:38.252980Z",
     "shell.execute_reply": "2022-06-30T12:01:38.252329Z"
    },
    "papermill": {
     "duration": 2.3494,
     "end_time": "2022-06-30T12:01:38.255085",
     "exception": false,
     "start_time": "2022-06-30T12:01:35.905685",
     "status": "completed"
    },
    "tags": []
   },
   "outputs": [
    {
     "name": "stderr",
     "output_type": "stream",
     "text": [
      "/Users/levinbrinkmann/repros/algorithmic-institutions/.venv/lib/python3.9/site-packages/tqdm/auto.py:22: TqdmWarning: IProgress not found. Please update jupyter and ipywidgets. See https://ipywidgets.readthedocs.io/en/stable/user_install.html\n",
      "  from .autonotebook import tqdm as notebook_tqdm\n"
     ]
    }
   ],
   "source": [
    "%load_ext autoreload\n",
    "%autoreload 2\n",
    "\n",
    "import os\n",
    "import pandas as pd\n",
    "import torch as th\n",
    "from aimanager.generic.data import create_torch_data, get_cross_validations\n",
    "from aimanager.artificial_humans import AH_MODELS\n",
    "from aimanager.artificial_humans.evaluation import Evaluator\n",
    "from aimanager.utils.array_to_df import using_multiindex\n",
    "from aimanager.utils.utils import make_dir\n",
    "from aimanager.generic.graph_encode import create_fully_connected\n",
    "from torch_geometric.data import Batch\n",
    "from torch_geometric.loader import DataLoader\n",
    "\n",
    "model_dir = os.path.join(data_dir, 'model')\n",
    "make_dir(model_dir)"
   ]
  },
  {
   "cell_type": "code",
   "execution_count": 3,
   "id": "e6659c46",
   "metadata": {
    "execution": {
     "iopub.execute_input": "2022-06-30T12:01:38.262665Z",
     "iopub.status.busy": "2022-06-30T12:01:38.262184Z",
     "iopub.status.idle": "2022-06-30T12:02:01.031743Z",
     "shell.execute_reply": "2022-06-30T12:02:01.031064Z"
    },
    "papermill": {
     "duration": 22.77529,
     "end_time": "2022-06-30T12:02:01.033741",
     "exception": false,
     "start_time": "2022-06-30T12:01:38.258451",
     "status": "completed"
    },
    "tags": []
   },
   "outputs": [],
   "source": [
    "df = pd.read_csv(data_file)\n",
    "\n",
    "df = df[df['experiment_name'].isin(experiment_names)]\n",
    "\n",
    "data, default_values = create_torch_data(df)"
   ]
  },
  {
   "cell_type": "code",
   "execution_count": 4,
   "id": "1f144b88",
   "metadata": {
    "execution": {
     "iopub.execute_input": "2022-06-30T12:02:01.072488Z",
     "iopub.status.busy": "2022-06-30T12:02:01.072155Z",
     "iopub.status.idle": "2022-06-30T12:07:48.970453Z",
     "shell.execute_reply": "2022-06-30T12:07:48.969564Z"
    },
    "papermill": {
     "duration": 347.93606,
     "end_time": "2022-06-30T12:07:48.972626",
     "exception": false,
     "start_time": "2022-06-30T12:02:01.036566",
     "status": "completed"
    },
    "tags": []
   },
   "outputs": [
    {
     "name": "stdout",
     "output_type": "stream",
     "text": [
      "CV 0 | Epoch 0 | Loss 3.3588746190071106\n",
      "CV 0 | Epoch 10 | Loss 3.17962509393692\n",
      "CV 0 | Epoch 20 | Loss 2.8160875737667084\n",
      "CV 0 | Epoch 30 | Loss 2.432343715429306\n",
      "CV 0 | Epoch 40 | Loss 2.116450172662735\n",
      "CV 0 | Epoch 50 | Loss 1.9050826609134675\n",
      "CV 0 | Epoch 60 | Loss 1.8458204686641693\n",
      "CV 0 | Epoch 70 | Loss 1.7881530046463012\n",
      "CV 0 | Epoch 80 | Loss 1.766160923242569\n",
      "CV 0 | Epoch 90 | Loss 1.756243845820427\n",
      "CV 0 | Epoch 99 | Loss 1.7488615413506825\n",
      "CV 1 | Epoch 0 | Loss 3.239340901374817\n",
      "CV 1 | Epoch 10 | Loss 3.0548894464969636\n",
      "CV 1 | Epoch 20 | Loss 2.6657093286514284\n",
      "CV 1 | Epoch 30 | Loss 2.2386551767587664\n",
      "CV 1 | Epoch 40 | Loss 1.9073200434446336\n",
      "CV 1 | Epoch 50 | Loss 1.7447148710489273\n",
      "CV 1 | Epoch 60 | Loss 1.673003113269806\n",
      "CV 1 | Epoch 70 | Loss 1.642028307914734\n",
      "CV 1 | Epoch 80 | Loss 1.621970808506012\n",
      "CV 1 | Epoch 90 | Loss 1.6071656942367554\n",
      "CV 1 | Epoch 99 | Loss 1.6096922159194946\n",
      "CV 2 | Epoch 0 | Loss 3.5894775986671448\n",
      "CV 2 | Epoch 10 | Loss 3.4040731608867647\n",
      "CV 2 | Epoch 20 | Loss 3.059489381313324\n",
      "CV 2 | Epoch 30 | Loss 2.6780664920806885\n",
      "CV 2 | Epoch 40 | Loss 2.305568239092827\n",
      "CV 2 | Epoch 50 | Loss 2.0251797795295716\n",
      "CV 2 | Epoch 60 | Loss 1.8691756218671798\n",
      "CV 2 | Epoch 70 | Loss 1.8143266528844832\n",
      "CV 2 | Epoch 80 | Loss 1.786775642633438\n",
      "CV 2 | Epoch 90 | Loss 1.7615466743707657\n",
      "CV 2 | Epoch 99 | Loss 1.7469050354427762\n",
      "CV 3 | Epoch 0 | Loss 3.361417770385742\n",
      "CV 3 | Epoch 10 | Loss 3.1584884226322174\n",
      "CV 3 | Epoch 20 | Loss 2.7922564089298247\n",
      "CV 3 | Epoch 30 | Loss 2.4083278477191925\n",
      "CV 3 | Epoch 40 | Loss 2.074163335561752\n",
      "CV 3 | Epoch 50 | Loss 1.8460146844387055\n",
      "CV 3 | Epoch 60 | Loss 1.7558620691299438\n",
      "CV 3 | Epoch 70 | Loss 1.6858189195394515\n",
      "CV 3 | Epoch 80 | Loss 1.6550527215003967\n",
      "CV 3 | Epoch 90 | Loss 1.6431860029697418\n",
      "CV 3 | Epoch 99 | Loss 1.6317133042547438\n",
      "CV 4 | Epoch 0 | Loss 3.4868469834327698\n",
      "CV 4 | Epoch 10 | Loss 3.2816656291484834\n",
      "CV 4 | Epoch 20 | Loss 2.897350561618805\n",
      "CV 4 | Epoch 30 | Loss 2.4933877885341644\n",
      "CV 4 | Epoch 40 | Loss 2.136740583181381\n",
      "CV 4 | Epoch 50 | Loss 1.9090909212827682\n",
      "CV 4 | Epoch 60 | Loss 1.8026530653238297\n",
      "CV 4 | Epoch 70 | Loss 1.7677220672369003\n",
      "CV 4 | Epoch 80 | Loss 1.7361217439174652\n",
      "CV 4 | Epoch 90 | Loss 1.7283932566642761\n",
      "CV 4 | Epoch 99 | Loss 1.7134876582357619\n",
      "CV 5 | Epoch 0 | Loss 3.631677210330963\n",
      "CV 5 | Epoch 10 | Loss 3.4233884692192076\n",
      "CV 5 | Epoch 20 | Loss 3.013838845491409\n",
      "CV 5 | Epoch 30 | Loss 2.566289168596268\n",
      "CV 5 | Epoch 40 | Loss 2.17000969350338\n",
      "CV 5 | Epoch 50 | Loss 1.911862426996231\n",
      "CV 5 | Epoch 60 | Loss 1.7839383959770203\n",
      "CV 5 | Epoch 70 | Loss 1.7239729195833207\n",
      "CV 5 | Epoch 80 | Loss 1.690468144416809\n",
      "CV 5 | Epoch 90 | Loss 1.701475927233696\n",
      "CV 5 | Epoch 99 | Loss 1.6711950533919864\n",
      "CV None | Epoch 0 | Loss 3.453878116607666\n",
      "CV None | Epoch 10 | Loss 3.2288997077941897\n",
      "CV None | Epoch 20 | Loss 2.763898482322693\n",
      "CV None | Epoch 30 | Loss 2.2600827550888063\n",
      "CV None | Epoch 40 | Loss 1.9125270581245422\n",
      "CV None | Epoch 50 | Loss 1.7770128798484803\n",
      "CV None | Epoch 60 | Loss 1.749221818447113\n",
      "CV None | Epoch 70 | Loss 1.6812561416625977\n",
      "CV None | Epoch 80 | Loss 1.6860286211967468\n",
      "CV None | Epoch 90 | Loss 1.690793526172638\n",
      "CV None | Epoch 99 | Loss 1.6667034281624689\n"
     ]
    }
   ],
   "source": [
    "th_device = th.device(device)\n",
    "\n",
    "metrics = []\n",
    "confusion_matrix = []\n",
    "syn_pred = []\n",
    "ev = Evaluator()\n",
    "\n",
    "th_device = th.device(device)\n",
    "\n",
    "syn_index = ['prev_punishments', 'prev_contributions']\n",
    "edge_index = create_fully_connected(n_player)\n",
    "\n",
    "\n",
    "def shuffle_feature(data, feature_name):\n",
    "    data = {**data}\n",
    "    data[feature_name] = data[feature_name][th.randperm(len(data[feature_name]))]\n",
    "    return data\n",
    "\n",
    "for i, train_data, test_data in get_cross_validations(data, n_cross_val, fraction_training):\n",
    "    model = AH_MODELS[model_name](default_values=default_values, **model_args).to(th_device)\n",
    "\n",
    "    train_data_ = model.encode(train_data, mask=mask_name, edge_index=edge_index)\n",
    "    if test_data is not None:\n",
    "        test_data_ = model.encode(test_data, mask=mask_name, edge_index=edge_index)\n",
    "\n",
    "    optimizer = th.optim.Adam(model.parameters(), **optimizer_args)\n",
    "    loss_fn = th.nn.CrossEntropyLoss(reduction='none')\n",
    "    sum_loss = 0\n",
    "    n_steps = 0\n",
    "\n",
    "    for e in range(train_args['epochs']):\n",
    "        ev.set_labels(cv_split=i, epoch=e)\n",
    "        model.train()\n",
    "        for j, batch_data in enumerate(iter(DataLoader(train_data_, shuffle=True, batch_size=train_args['batch_size']))):\n",
    "            optimizer.zero_grad()\n",
    "            py = model(batch_data).flatten(end_dim=-2)\n",
    "            y_true = batch_data['y_enc'].flatten(end_dim=-2)\n",
    "            loss = loss_fn(py, y_true)\n",
    "            mask = batch_data['mask'].flatten()\n",
    "            loss = (loss * mask).sum() / mask.sum()\n",
    "\n",
    "            loss.backward()\n",
    "\n",
    "            if train_args['clamp_grad']:\n",
    "                for param in model.parameters():\n",
    "                    param.grad.data.clamp_(-train_args['clamp_grad'], train_args['clamp_grad'])\n",
    "            optimizer.step()\n",
    "            sum_loss += loss.item()\n",
    "            n_steps +=1\n",
    "        \n",
    "        last_epoch = e == (train_args['epochs'] - 1)\n",
    "\n",
    "        if (e % train_args['eval_period'] == 0) or last_epoch:\n",
    "            avg_loss = sum_loss/n_steps\n",
    "            print(f'CV {i} | Epoch {e} | Loss {avg_loss}')\n",
    "            ev.add_loss(avg_loss)\n",
    "\n",
    "            ev.eval_set(model, train_data_, calc_confusion=last_epoch, set='train')\n",
    "            if test_data is not None:\n",
    "                ev.eval_set(model, test_data_, calc_confusion=last_epoch, set='test')\n",
    "                for sf in shuffle_features:\n",
    "                    shuffled_data = shuffle_feature(test_data, sf)\n",
    "                    shuffled_data = model.encode(shuffled_data, mask=mask_name, edge_index=edge_index)\n",
    "                    ev.eval_set(model, shuffled_data, calc_confusion=False, set='test', shuffle_feature=sf)\n",
    "            sum_loss = 0\n",
    "            n_steps = 0\n",
    "\n",
    "    if i is None:\n",
    "        ev.save(data_dir, labels, job_id=job_id)\n",
    "        model_path = os.path.join(model_dir, f'{job_id}.pt')\n",
    "        model.save(model_path)"
   ]
  }
 ],
 "metadata": {
  "kernelspec": {
   "display_name": "Python 3.9.10 ('.venv': venv)",
   "language": "python",
   "name": "python3"
  },
  "language_info": {
   "codemirror_mode": {
    "name": "ipython",
    "version": 3
   },
   "file_extension": ".py",
   "mimetype": "text/x-python",
   "name": "python",
   "nbconvert_exporter": "python",
   "pygments_lexer": "ipython3",
   "version": "3.9.10"
  },
  "papermill": {
   "default_parameters": {},
   "duration": 376.216797,
   "end_time": "2022-06-30T12:07:50.559416",
   "environment_variables": {},
   "exception": true,
   "input_path": "notebooks/artificial_humans/graph.ipynb",
   "output_path": "notebooks/artificial_humans/graph.ipynb",
   "parameters": {
    "data_file": "../../data/experiments/pilot_random1_player_round_slim.csv",
    "device": "cpu",
    "experiment_names": [
     "trail_rounds_2"
    ],
    "fraction_training": 1,
    "labels": {},
    "mask_name": "manager_valid",
    "model_args": {
     "add_edge_model": false,
     "add_global_model": false,
     "add_rnn": false,
     "hidden_size": 10,
     "u_encoding": [
      {
       "etype": "float",
       "name": "prev_common_good",
       "norm": 32
      },
      {
       "encoding": "numeric",
       "n_levels": 16,
       "name": "round_number"
      }
     ],
     "x_encoding": [
      {
       "encoding": "numeric",
       "n_levels": 21,
       "name": "prev_contributions"
      },
      {
       "encoding": "numeric",
       "n_levels": 31,
       "name": "prev_punishments"
      },
      {
       "etype": "bool",
       "name": "prev_valid"
      }
     ],
     "y_levels": 31,
     "y_name": "punishments"
    },
    "model_name": "graph",
    "n_cross_val": 2,
    "n_player": 4,
    "optimizer_args": {
     "lr": 0.0001,
     "weight_decay": 0.00001
    },
    "output_path": "../../data/training/dev",
    "shuffle_features": [
     "prev_punishments",
     "prev_contributions",
     "prev_common_good"
    ],
    "train_args": {
     "batch_size": 20,
     "clamp_grad": 1,
     "epochs": 100,
     "eval_period": 10
    }
   },
   "start_time": "2022-06-30T12:01:34.342619",
   "version": "2.3.4"
  },
  "vscode": {
   "interpreter": {
    "hash": "b1198fd9370ee0cf82025240fa26724f68bfab1e3f74dbb4acdc06e7861d0dbe"
   }
  }
 },
 "nbformat": 4,
 "nbformat_minor": 5
}
