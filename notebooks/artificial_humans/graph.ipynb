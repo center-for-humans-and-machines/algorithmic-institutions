{
 "cells": [
  {
   "cell_type": "code",
   "execution_count": 9,
   "id": "9dfed38b",
   "metadata": {
    "tags": [
     "injected-parameters"
    ]
   },
   "outputs": [],
   "source": [
    "# Parameters\n",
    "autoregression = False\n",
    "data_file = \"experiments/pilot_random1_player_round_slim.csv\"\n",
    "device = \"cpu\"\n",
    "experiment_names = [\"trail_rounds_2\", \"random_1\"]\n",
    "fraction_training = 1.0\n",
    "job_id = \"architecture_node+edge+rnn\"\n",
    "labels = {\"architecture\": \"node+edge+rnn\"}\n",
    "mask_name = \"contribution_valid\"\n",
    "model_args = {\n",
    "    \"add_edge_model\": True,\n",
    "    \"add_global_model\": False,\n",
    "    \"add_rnn\": True,\n",
    "    \"hidden_size\": 5,\n",
    "    \"x_encoding\": [\n",
    "        {\"encoding\": \"numeric\", \"n_levels\": 21, \"name\": \"prev_contribution\"},\n",
    "        {\"encoding\": \"numeric\", \"n_levels\": 31, \"name\": \"prev_punishment\"},\n",
    "        {\"etype\": \"bool\", \"name\": \"contribution_valid\"},\n",
    "    ],\n",
    "    \"y_levels\": 21,\n",
    "    \"y_name\": \"contribution\",\n",
    "}\n",
    "model_name = \"graph\"\n",
    "n_contributions = 21\n",
    "n_cross_val = 10\n",
    "n_player = 4\n",
    "n_punishments = 31\n",
    "optimizer_args = {\"lr\": 0.0003, \"weight_decay\": 1e-05}\n",
    "seed = 38381\n",
    "shuffle_features = [\"prev_punishment\", \"prev_contribution\", \"contribution_valid\"]\n",
    "train_args = {\n",
    "    \"batch_size\": 10,\n",
    "    \"clamp_grad\": 1,\n",
    "    \"epochs\": 10000,\n",
    "    \"eval_period\": 50,\n",
    "    \"l1_entropy\": 0,\n",
    "}\n",
    "output_dir = \"../../notebooks/artificial_humans/graph/node+edge+rnn\"\n",
    "basedir = \"../..\"\n"
   ]
  },
  {
   "cell_type": "code",
   "execution_count": 10,
   "id": "44582683",
   "metadata": {
    "execution": {
     "iopub.execute_input": "2022-06-30T12:01:35.913454Z",
     "iopub.status.busy": "2022-06-30T12:01:35.913043Z",
     "iopub.status.idle": "2022-06-30T12:01:38.252980Z",
     "shell.execute_reply": "2022-06-30T12:01:38.252329Z"
    },
    "papermill": {
     "duration": 2.3494,
     "end_time": "2022-06-30T12:01:38.255085",
     "exception": false,
     "start_time": "2022-06-30T12:01:35.905685",
     "status": "completed"
    },
    "tags": []
   },
   "outputs": [
    {
     "name": "stdout",
     "output_type": "stream",
     "text": [
      "The autoreload extension is already loaded. To reload it, use:\n",
      "  %reload_ext autoreload\n"
     ]
    }
   ],
   "source": [
    "%load_ext autoreload\n",
    "%autoreload 2\n",
    "\n",
    "import os\n",
    "import pandas as pd\n",
    "import numpy as np\n",
    "import random\n",
    "import torch as th\n",
    "from aimanager.generic.data import create_torch_data, get_cross_validations\n",
    "from aimanager.artificial_humans import AH_MODELS\n",
    "from aimanager.artificial_humans.evaluation import eval_model, Recorder\n",
    "from aimanager.utils.utils import make_dir\n",
    "from aimanager.generic.graph_encode import create_fully_connected\n",
    "from aimanager.generic.graph import Encoder\n",
    "from torch_geometric.loader import DataLoader\n",
    "from itertools import permutations\n",
    "\n",
    "\n",
    "model_dir = os.path.join(output_dir, 'model')\n",
    "make_dir(model_dir)\n",
    "\n",
    "th.random.manual_seed(seed)\n",
    "np.random.seed(seed)\n",
    "random.seed(seed)\n"
   ]
  },
  {
   "cell_type": "code",
   "execution_count": 11,
   "id": "e6659c46",
   "metadata": {
    "execution": {
     "iopub.execute_input": "2022-06-30T12:01:38.262665Z",
     "iopub.status.busy": "2022-06-30T12:01:38.262184Z",
     "iopub.status.idle": "2022-06-30T12:02:01.031743Z",
     "shell.execute_reply": "2022-06-30T12:02:01.031064Z"
    },
    "papermill": {
     "duration": 22.77529,
     "end_time": "2022-06-30T12:02:01.033741",
     "exception": false,
     "start_time": "2022-06-30T12:01:38.258451",
     "status": "completed"
    },
    "tags": []
   },
   "outputs": [],
   "source": [
    "\n",
    "df = pd.read_csv(os.path.join(basedir, data_file))\n",
    "\n",
    "df = df[df['experiment_name'].isin(experiment_names)]\n",
    "\n",
    "data, default_values = create_torch_data(df)"
   ]
  },
  {
   "cell_type": "code",
   "execution_count": 12,
   "id": "1f144b88",
   "metadata": {
    "execution": {
     "iopub.execute_input": "2022-06-30T12:02:01.072488Z",
     "iopub.status.busy": "2022-06-30T12:02:01.072155Z",
     "iopub.status.idle": "2022-06-30T12:07:48.970453Z",
     "shell.execute_reply": "2022-06-30T12:07:48.969564Z"
    },
    "papermill": {
     "duration": 347.93606,
     "end_time": "2022-06-30T12:07:48.972626",
     "exception": false,
     "start_time": "2022-06-30T12:02:01.036566",
     "status": "completed"
    },
    "tags": []
   },
   "outputs": [
    {
     "name": "stdout",
     "output_type": "stream",
     "text": [
      "CV 0 | Epoch 0 | Loss 2.96175084511439\n",
      "CV 0 | Epoch 50 | Loss 2.718048715194066\n",
      "CV 0 | Epoch 100 | Loss 2.464411797920863\n",
      "CV 0 | Epoch 150 | Loss 2.302970653971036\n",
      "CV 0 | Epoch 200 | Loss 2.1903495254119236\n",
      "CV 0 | Epoch 250 | Loss 2.1318046913544335\n",
      "CV 0 | Epoch 300 | Loss 2.0941408548752465\n",
      "CV 0 | Epoch 350 | Loss 2.0691683652003605\n",
      "CV 0 | Epoch 400 | Loss 2.0495652689536414\n"
     ]
    }
   ],
   "source": [
    "metrics = []\n",
    "confusion_matrix = []\n",
    "syn_pred = []\n",
    "rec = Recorder()\n",
    "\n",
    "th_device = th.device(device)\n",
    "\n",
    "syn_index = [\"prev_punishments\", \"prev_contributions\"]\n",
    "\n",
    "encodings = [\n",
    "    {\"name\": \"y_masked\", \"n_levels\": 31, \"encoding\": \"numeric\"},\n",
    "    {\"name\": \"y_valid\", \"etype\": \"bool\"},\n",
    "]\n",
    "\n",
    "x_add_encoder = Encoder(encodings=encodings)\n",
    "\n",
    "if autoregression:\n",
    "    # create a pattern for all possible permutations of the training mask\n",
    "    pattern = [\n",
    "        [True] * i + [False] * (n_player - i) for i in range(1, n_player + 1)\n",
    "    ]\n",
    "else:\n",
    "    pattern = [[True] * n_player]\n",
    "\n",
    "training_mask_pattern = list(set([pp for p in pattern for pp in permutations(p)]))\n",
    "training_mask_pattern = th.tensor(training_mask_pattern, dtype=th.bool)\n",
    "\n",
    "test_mask_pattern = th.tensor(pattern, dtype=th.bool)\n",
    "\n",
    "\n",
    "def shuffle_feature(data, feature_name):\n",
    "    data = {**data}\n",
    "    data[feature_name] = data[feature_name][th.randperm(len(data[feature_name]))]\n",
    "    return data\n",
    "\n",
    "\n",
    "def batch_loader(data, batch_size):\n",
    "    n = len(data[\"contribution\"])\n",
    "    all_idx = np.arange(n)\n",
    "    all_idx = np.random.permutation(all_idx)\n",
    "    n_batch = int(np.ceil(n / batch_size))\n",
    "    for i in range(n_batch):\n",
    "        batch_idx = all_idx[i * batch_size : (i + 1) * batch_size]\n",
    "        if len(batch_idx) != batch_size:\n",
    "            continue\n",
    "        batch = {k: v[batch_idx] for k, v in data.items()}\n",
    "        yield batch\n",
    "\n",
    "def mask_data(data, mask, targets, default_values):\n",
    "    for target in targets:\n",
    "        data[target + '_masked'] = data[target].clone()\n",
    "        if mask.shape[0] != data[target + '_masked'].shape[0]:\n",
    "            mask = mask.repeat(data[target + '_masked'].shape[0], 1)\n",
    "        data[target + '_masked'][mask] = default_values[target]\n",
    "    return data\n",
    "\n",
    "def apply_mask_pattern(data, mask_pattern, y_name, mask_name, default_values):\n",
    "    data = mask_data(data, mask_pattern, [y_name], default_values)\n",
    "    data[mask_name] = data[mask_name] & mask_pattern[:, :, np.newaxis]\n",
    "    data[\"autoreg_mask\"] = th.ones_like(data[mask_name]) & mask_pattern[:, :, np.newaxis]\n",
    "    return data\n",
    "\n",
    "\n",
    "def create_fully_connected(n_nodes, n_groups=1, device=th.device('cpu')):\n",
    "    return th.tensor(\n",
    "        [\n",
    "            [i + k * n_nodes, j + k * n_nodes]\n",
    "            for k in range(n_groups)\n",
    "            for i in range(n_nodes)\n",
    "            for j in range(n_nodes)\n",
    "            if i != j\n",
    "        ], device=device\n",
    "    ).T\n",
    "\n",
    "\n",
    "for i, train_data, test_data in get_cross_validations(\n",
    "    data, n_cross_val, fraction_training\n",
    "):\n",
    "    model = AH_MODELS[model_name](default_values=default_values, **model_args).to(\n",
    "        th_device\n",
    "    )\n",
    "\n",
    "    batch_size = train_args[\"batch_size\"]\n",
    "    batch_edge_index = create_fully_connected(n_player, n_groups=batch_size)\n",
    "    train_edge_index = create_fully_connected(n_player, n_groups=train_data['contribution'].shape[0])\n",
    "    if test_data is not None:\n",
    "        test_edge_index = create_fully_connected(n_player, n_groups=test_data['contribution'].shape[0])\n",
    "\n",
    "    y_name = model_args[\"y_name\"]\n",
    "\n",
    "    optimizer = th.optim.Adam(model.parameters(), **optimizer_args)\n",
    "    loss_fn = th.nn.CrossEntropyLoss(reduction=\"none\")\n",
    "    sum_loss = 0\n",
    "    n_steps = 0\n",
    "\n",
    "    for e in range(train_args[\"epochs\"]):\n",
    "        rec.set_labels(cv_split=i, epoch=e)\n",
    "        model.train()\n",
    "        for j, b_data in enumerate(batch_loader(train_data, batch_size)):\n",
    "            optimizer.zero_grad()\n",
    "\n",
    "            p_idx = th.randint(0, len(training_mask_pattern), (batch_size,))\n",
    "            b_data = apply_mask_pattern(b_data, training_mask_pattern[p_idx], y_name, mask_name, default_values)\n",
    "            batch_data = model.encode(b_data, mask=mask_name, edge_index=batch_edge_index, device=th_device)\n",
    "\n",
    "            y_logit = model(batch_data).flatten(end_dim=-2)\n",
    "            y_pred = y_logit.softmax(-1)\n",
    "            y_true = batch_data[\"y_enc\"].flatten(end_dim=-2)\n",
    "            mask = batch_data[\"mask\"].flatten()\n",
    "\n",
    "            loss = (\n",
    "                loss_fn(y_logit, y_true)\n",
    "                + (y_pred * y_pred.log()).sum(-1) * train_args[\"l1_entropy\"]\n",
    "            )\n",
    "            \n",
    "            loss = (loss * mask).sum() / mask.sum()\n",
    "\n",
    "            loss.backward(retain_graph=True)\n",
    "\n",
    "            if train_args[\"clamp_grad\"]:\n",
    "                for param in model.parameters():\n",
    "                    param.grad.data.clamp_(\n",
    "                        -train_args[\"clamp_grad\"], train_args[\"clamp_grad\"]\n",
    "                    )\n",
    "            optimizer.step()\n",
    "            sum_loss += loss.item()\n",
    "            n_steps += 1\n",
    "\n",
    "        last_epoch = e == (train_args[\"epochs\"] - 1)\n",
    "\n",
    "        if (e % train_args[\"eval_period\"] == 0) or last_epoch:\n",
    "            avg_loss = sum_loss / n_steps\n",
    "            print(f\"CV {i} | Epoch {e} | Loss {avg_loss}\")\n",
    "\n",
    "            rec.rec(value=avg_loss, set=\"train\")\n",
    "\n",
    "            # evalute on training data for all possible mask patterns\n",
    "            for j, mask in enumerate(test_mask_pattern): \n",
    "                n_pred = mask.sum().item()\n",
    "                _d = apply_mask_pattern(train_data, mask[np.newaxis], y_name, mask_name, default_values)\n",
    "                _d = model.encode(_d, mask=mask_name, edge_index=train_edge_index, device=th_device)\n",
    "                metrics = eval_model(model, _d)\n",
    "                rec.rec_many(metrics, set=\"train\", n_pred=n_pred, mask=j)\n",
    "                \n",
    "            if test_data is not None:\n",
    "                # evalute on training data for all possible mask patterns\n",
    "                for j, mask in enumerate(test_mask_pattern): \n",
    "                    n_pred = mask.sum().item()\n",
    "                    _d = apply_mask_pattern(test_data, mask[np.newaxis], y_name, mask_name, default_values)\n",
    "                    _d = model.encode(_d, mask=mask_name, edge_index=test_edge_index, device=th_device)\n",
    "                    metrics = eval_model(model, _d)\n",
    "                    rec.rec_many(metrics, set=\"test\", n_pred=n_pred, mask=j)\n",
    "                    # evalute on training data, shuffled features\n",
    "                    for sf in shuffle_features:\n",
    "                        _d = shuffle_feature(test_data, sf)\n",
    "                        _d = apply_mask_pattern(_d, mask[np.newaxis], y_name, mask_name, default_values)\n",
    "                        _d = model.encode(\n",
    "                            _d, mask=mask_name, edge_index=test_edge_index, device=th_device\n",
    "                        )\n",
    "                        metrics = eval_model(model, _d)\n",
    "                        rec.rec_many(metrics, set=\"test\", shuffle_feature=sf, n_pred=n_pred, mask=j)\n",
    "            sum_loss = 0\n",
    "            n_steps = 0\n",
    "\n",
    "    if i is None:\n",
    "        model_path = os.path.join(model_dir, f\"{job_id}.pt\")\n",
    "        model.save(model_path)\n",
    "\n",
    "    rec.save(output_dir, labels, job_id=job_id)\n"
   ]
  }
 ],
 "metadata": {
  "kernelspec": {
   "display_name": ".venv",
   "language": "python",
   "name": "python3"
  },
  "language_info": {
   "codemirror_mode": {
    "name": "ipython",
    "version": 3
   },
   "file_extension": ".py",
   "mimetype": "text/x-python",
   "name": "python",
   "nbconvert_exporter": "python",
   "pygments_lexer": "ipython3",
   "version": "3.9.16"
  },
  "papermill": {
   "default_parameters": {},
   "duration": 376.216797,
   "end_time": "2022-06-30T12:07:50.559416",
   "environment_variables": {},
   "exception": true,
   "input_path": "notebooks/artificial_humans/graph.ipynb",
   "output_path": "notebooks/artificial_humans/graph.ipynb",
   "parameters": {
    "autoregression": false,
    "basedir": "../..",
    "data_file": "experiments/pilot_random1_player_round_slim.csv",
    "device": "cpu",
    "experiment_names": [
     "trail_rounds_2",
     "random_1"
    ],
    "fraction_training": 1,
    "job_id": "architecture_node+edge+rnn",
    "labels": {
     "architecture": "node+edge+rnn"
    },
    "mask_name": "contribution_valid",
    "model_args": {
     "add_edge_model": true,
     "add_global_model": false,
     "add_rnn": true,
     "hidden_size": 5,
     "x_encoding": [
      {
       "encoding": "numeric",
       "n_levels": 21,
       "name": "prev_contribution"
      },
      {
       "encoding": "numeric",
       "n_levels": 31,
       "name": "prev_punishment"
      },
      {
       "etype": "bool",
       "name": "contribution_valid"
      }
     ],
     "y_levels": 21,
     "y_name": "contribution"
    },
    "model_name": "graph",
    "n_contributions": 21,
    "n_cross_val": 10,
    "n_player": 4,
    "n_punishments": 31,
    "optimizer_args": {
     "lr": 0.0003,
     "weight_decay": 0.00001
    },
    "output_dir": "../../notebooks/artificial_humans/graph/node+edge+rnn",
    "seed": 38381,
    "shuffle_features": [
     "prev_punishment",
     "prev_contribution",
     "contribution_valid"
    ],
    "train_args": {
     "batch_size": 10,
     "clamp_grad": 1,
     "epochs": 10000,
     "eval_period": 50,
     "l1_entropy": 0
    }
   },
   "start_time": "2022-06-30T12:01:34.342619",
   "version": "2.3.4"
  },
  "vscode": {
   "interpreter": {
    "hash": "b1198fd9370ee0cf82025240fa26724f68bfab1e3f74dbb4acdc06e7861d0dbe"
   }
  }
 },
 "nbformat": 4,
 "nbformat_minor": 5
}
