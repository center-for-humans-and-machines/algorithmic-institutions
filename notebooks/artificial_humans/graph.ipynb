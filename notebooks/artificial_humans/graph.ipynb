{
 "cells": [
  {
   "cell_type": "code",
   "execution_count": 59,
   "id": "d857fbbc",
   "metadata": {
    "tags": [
     "injected-parameters"
    ]
   },
   "outputs": [],
   "source": [
    "# Parameters\n",
    "n_cross_val = None\n",
    "fraction_training = 1.0\n",
    "data_file = \"../../data/experiments/pilot_random1_player_round_slim.csv\"\n",
    "data_dir = \"../../data/artificial_humans/dev\"\n",
    "labels = {}\n",
    "model_name = \"graph\"\n",
    "job_id = 'dev'\n",
    "model_args = {\n",
    "    \"y_levels\": 31,\n",
    "    \"y_name\": \"punishment\",\n",
    "    \"add_rnn\": False,\n",
    "    \"add_edge_model\": False,\n",
    "    \"add_global_model\": False,\n",
    "    \"hidden_size\": 10,\n",
    "    \"x_encoding\": [\n",
    "        {\"name\": \"contribution\", \"n_levels\": 21, \"encoding\": \"numeric\"},\n",
    "        {\"name\": \"prev_punishment\", \"n_levels\": 31, \"encoding\": \"numeric\"},\n",
    "        {\"name\": \"valid\", \"etype\": \"bool\"},\n",
    "        {\"name\": \"prev_manager_valid\", \"etype\": \"bool\"},\n",
    "        {\"name\": \"punishment_masked\", \"n_levels\": 31, \"encoding\": \"numeric\"},\n",
    "        {\"name\": \"autoreg_mask\", \"etype\": \"bool\"},\n",
    "    ],\n",
    "    # \"u_encoding\": [\n",
    "    #     {\"name\": \"prev_common_good\", \"norm\": 32, \"etype\": \"float\"},\n",
    "    #     {\"name\": \"round_number\", \"n_levels\": 16, \"encoding\": \"numeric\"},\n",
    "    # ],\n",
    "}\n",
    "mask_name = \"manager_valid\"\n",
    "experiment_names = [\"trail_rounds_2\"]\n",
    "optimizer_args = {\"lr\": 0.001, \"weight_decay\": 1e-05}\n",
    "train_args = {\"epochs\": 10, \"batch_size\": 20, \"clamp_grad\": 1, \"eval_period\": 10, 'l1_entropy': 0.1}\n",
    "n_player = 4\n",
    "shuffle_features = [\"prev_punishment\", \"prev_contribution\", \"prev_common_good\"]\n",
    "device = \"cpu\"\n",
    "seed = 123\n",
    "autoregression = True\n"
   ]
  },
  {
   "cell_type": "code",
   "execution_count": 60,
   "id": "44582683",
   "metadata": {
    "execution": {
     "iopub.execute_input": "2022-06-30T12:01:35.913454Z",
     "iopub.status.busy": "2022-06-30T12:01:35.913043Z",
     "iopub.status.idle": "2022-06-30T12:01:38.252980Z",
     "shell.execute_reply": "2022-06-30T12:01:38.252329Z"
    },
    "papermill": {
     "duration": 2.3494,
     "end_time": "2022-06-30T12:01:38.255085",
     "exception": false,
     "start_time": "2022-06-30T12:01:35.905685",
     "status": "completed"
    },
    "tags": []
   },
   "outputs": [
    {
     "name": "stdout",
     "output_type": "stream",
     "text": [
      "The autoreload extension is already loaded. To reload it, use:\n",
      "  %reload_ext autoreload\n"
     ]
    }
   ],
   "source": [
    "%load_ext autoreload\n",
    "%autoreload 2\n",
    "\n",
    "import os\n",
    "import pandas as pd\n",
    "import numpy as np\n",
    "import random\n",
    "import torch as th\n",
    "from aimanager.generic.data import create_torch_data, get_cross_validations\n",
    "from aimanager.artificial_humans import AH_MODELS\n",
    "from aimanager.artificial_humans.evaluation import eval_model, Recorder\n",
    "from aimanager.utils.utils import make_dir\n",
    "from aimanager.generic.graph_encode import create_fully_connected\n",
    "from aimanager.generic.graph import Encoder\n",
    "from torch_geometric.loader import DataLoader\n",
    "from itertools import permutations\n",
    "\n",
    "\n",
    "model_dir = os.path.join(data_dir, 'model')\n",
    "make_dir(model_dir)\n",
    "\n",
    "th.random.manual_seed(seed)\n",
    "np.random.seed(seed)\n",
    "random.seed(seed)\n"
   ]
  },
  {
   "cell_type": "code",
   "execution_count": 61,
   "id": "e6659c46",
   "metadata": {
    "execution": {
     "iopub.execute_input": "2022-06-30T12:01:38.262665Z",
     "iopub.status.busy": "2022-06-30T12:01:38.262184Z",
     "iopub.status.idle": "2022-06-30T12:02:01.031743Z",
     "shell.execute_reply": "2022-06-30T12:02:01.031064Z"
    },
    "papermill": {
     "duration": 22.77529,
     "end_time": "2022-06-30T12:02:01.033741",
     "exception": false,
     "start_time": "2022-06-30T12:01:38.258451",
     "status": "completed"
    },
    "tags": []
   },
   "outputs": [],
   "source": [
    "df = pd.read_csv(data_file)\n",
    "\n",
    "df = df[df['experiment_name'].isin(experiment_names)]\n",
    "\n",
    "data, default_values = create_torch_data(df)"
   ]
  },
  {
   "cell_type": "code",
   "execution_count": 69,
   "id": "1f144b88",
   "metadata": {
    "execution": {
     "iopub.execute_input": "2022-06-30T12:02:01.072488Z",
     "iopub.status.busy": "2022-06-30T12:02:01.072155Z",
     "iopub.status.idle": "2022-06-30T12:07:48.970453Z",
     "shell.execute_reply": "2022-06-30T12:07:48.969564Z"
    },
    "papermill": {
     "duration": 347.93606,
     "end_time": "2022-06-30T12:07:48.972626",
     "exception": false,
     "start_time": "2022-06-30T12:02:01.036566",
     "status": "completed"
    },
    "tags": []
   },
   "outputs": [
    {
     "ename": "KeyError",
     "evalue": "'y'",
     "output_type": "error",
     "traceback": [
      "\u001b[0;31m---------------------------------------------------------------------------\u001b[0m",
      "\u001b[0;31mKeyError\u001b[0m                                  Traceback (most recent call last)",
      "\u001b[1;32m/Users/levinbrinkmann/repros/algorithmic-institutions/notebooks/artificial_humans/graph.ipynb Cell 4\u001b[0m in \u001b[0;36m<cell line: 79>\u001b[0;34m()\u001b[0m\n\u001b[1;32m     <a href='vscode-notebook-cell:/Users/levinbrinkmann/repros/algorithmic-institutions/notebooks/artificial_humans/graph.ipynb#W4sZmlsZQ%3D%3D?line=94'>95</a>\u001b[0m model\u001b[39m.\u001b[39mtrain()\n\u001b[1;32m     <a href='vscode-notebook-cell:/Users/levinbrinkmann/repros/algorithmic-institutions/notebooks/artificial_humans/graph.ipynb#W4sZmlsZQ%3D%3D?line=95'>96</a>\u001b[0m batch_size \u001b[39m=\u001b[39m train_args[\u001b[39m\"\u001b[39m\u001b[39mbatch_size\u001b[39m\u001b[39m\"\u001b[39m]\n\u001b[0;32m---> <a href='vscode-notebook-cell:/Users/levinbrinkmann/repros/algorithmic-institutions/notebooks/artificial_humans/graph.ipynb#W4sZmlsZQ%3D%3D?line=96'>97</a>\u001b[0m \u001b[39mfor\u001b[39;00m j, b_data \u001b[39min\u001b[39;00m \u001b[39menumerate\u001b[39m(batch_loader(train_data, batch_size)):\n\u001b[1;32m     <a href='vscode-notebook-cell:/Users/levinbrinkmann/repros/algorithmic-institutions/notebooks/artificial_humans/graph.ipynb#W4sZmlsZQ%3D%3D?line=97'>98</a>\u001b[0m     optimizer\u001b[39m.\u001b[39mzero_grad()\n\u001b[1;32m    <a href='vscode-notebook-cell:/Users/levinbrinkmann/repros/algorithmic-institutions/notebooks/artificial_humans/graph.ipynb#W4sZmlsZQ%3D%3D?line=99'>100</a>\u001b[0m     p_idx \u001b[39m=\u001b[39m np\u001b[39m.\u001b[39mrandom\u001b[39m.\u001b[39mrandint(\u001b[39mlen\u001b[39m(training_mask_pattern))\n",
      "\u001b[1;32m/Users/levinbrinkmann/repros/algorithmic-institutions/notebooks/artificial_humans/graph.ipynb Cell 4\u001b[0m in \u001b[0;36mbatch_loader\u001b[0;34m(data, batch_size)\u001b[0m\n\u001b[1;32m     <a href='vscode-notebook-cell:/Users/levinbrinkmann/repros/algorithmic-institutions/notebooks/artificial_humans/graph.ipynb#W4sZmlsZQ%3D%3D?line=38'>39</a>\u001b[0m \u001b[39mdef\u001b[39;00m \u001b[39mbatch_loader\u001b[39m(data, batch_size):\n\u001b[0;32m---> <a href='vscode-notebook-cell:/Users/levinbrinkmann/repros/algorithmic-institutions/notebooks/artificial_humans/graph.ipynb#W4sZmlsZQ%3D%3D?line=39'>40</a>\u001b[0m     n \u001b[39m=\u001b[39m \u001b[39mlen\u001b[39m(data[\u001b[39m\"\u001b[39;49m\u001b[39my\u001b[39;49m\u001b[39m\"\u001b[39;49m])\n\u001b[1;32m     <a href='vscode-notebook-cell:/Users/levinbrinkmann/repros/algorithmic-institutions/notebooks/artificial_humans/graph.ipynb#W4sZmlsZQ%3D%3D?line=40'>41</a>\u001b[0m     all_idx \u001b[39m=\u001b[39m np\u001b[39m.\u001b[39marange(n)\n\u001b[1;32m     <a href='vscode-notebook-cell:/Users/levinbrinkmann/repros/algorithmic-institutions/notebooks/artificial_humans/graph.ipynb#W4sZmlsZQ%3D%3D?line=41'>42</a>\u001b[0m     all_idx \u001b[39m=\u001b[39m np\u001b[39m.\u001b[39mrandom\u001b[39m.\u001b[39mpermutation(all_idx)\n",
      "\u001b[0;31mKeyError\u001b[0m: 'y'"
     ]
    }
   ],
   "source": [
    "th_device = th.device(device)\n",
    "\n",
    "metrics = []\n",
    "confusion_matrix = []\n",
    "syn_pred = []\n",
    "rec = Recorder()\n",
    "\n",
    "th_device = th.device(device)\n",
    "\n",
    "syn_index = [\"prev_punishments\", \"prev_contributions\"]\n",
    "\n",
    "encodings = [\n",
    "    {\"name\": \"y_masked\", \"n_levels\": 31, \"encoding\": \"numeric\"},\n",
    "    {\"name\": \"y_valid\", \"etype\": \"bool\"},\n",
    "]\n",
    "\n",
    "x_add_encoder = Encoder(encodings=encodings)\n",
    "\n",
    "if autoregression:\n",
    "    # create a pattern for all possible permutations of the training mask\n",
    "    pattern = [\n",
    "        [True] * i + [False] * (n_player - i) for i in range(1, n_player + 1)\n",
    "    ]\n",
    "else:\n",
    "    pattern = [[True] * n_player]\n",
    "\n",
    "training_mask_pattern = list(set([pp for p in pattern for pp in permutations(p)]))\n",
    "training_mask_pattern = th.tensor(training_mask_pattern, dtype=th.bool)\n",
    "\n",
    "test_mask_pattern = th.tensor(pattern, dtype=th.bool)\n",
    "\n",
    "\n",
    "def shuffle_feature(data, feature_name):\n",
    "    data = {**data}\n",
    "    data[feature_name] = data[feature_name][th.randperm(len(data[feature_name]))]\n",
    "    return data\n",
    "\n",
    "\n",
    "def batch_loader(data, batch_size):\n",
    "    n = len(data[\"y\"])\n",
    "    all_idx = np.arange(n)\n",
    "    all_idx = np.random.permutation(all_idx)\n",
    "    n_batch = int(np.ceil(n / batch_size))\n",
    "    for i in range(n_batch):\n",
    "        batch_idx = all_idx[i * batch_size : (i + 1) * batch_size]\n",
    "        batch = {k: v[batch_idx] for k, v in data.items()}\n",
    "        yield batch\n",
    "\n",
    "def mask_data(data, mask, targets, default_values):\n",
    "    for target in targets:\n",
    "        data[target + '_masked'] = data[target].clone()\n",
    "        data[target + '_masked'][mask] = default_values[target]\n",
    "    return data\n",
    "\n",
    "def apply_mask_pattern(data, mask_pattern):\n",
    "    data['autoreg_mask'] = mask_pattern[:, np.newaxis]\n",
    "    data = mask_data(data, data['autoreg_mask'], [y_name], default_values)\n",
    "    data[mask_name] = data[mask_name] & data['autoreg_mask']\n",
    "    return data\n",
    "\n",
    "def create_fully_connected(n_nodes, n_groups=1):\n",
    "    return th.tensor([[i+k*n_nodes, j+k*n_nodes]\n",
    "                      for i in range(n_nodes)\n",
    "                      for j in range(n_nodes)\n",
    "                      for k in range(n_groups)\n",
    "                      if i != j\n",
    "                      ]).T\n",
    "\n",
    "\n",
    "\n",
    "def flat_groups(data):\n",
    "    n_groups, n_player, n_rounds = data['contribution'].shape\n",
    "    data = {k: v.flatten(0) for k, v in data.items()}\n",
    "    data['batch'] = th.arange(n_groups).repeat(n_player)\n",
    "    data['edge_index'] = create_fully_connected(n_player, n_groups)\n",
    "    return data\n",
    "\n",
    "\n",
    "for i, train_data, test_data in get_cross_validations(\n",
    "    data, n_cross_val, fraction_training\n",
    "):\n",
    "    model = AH_MODELS[model_name](default_values=default_values, **model_args).to(\n",
    "        th_device\n",
    "    )\n",
    "\n",
    "    y_name = model_args[\"y_name\"]\n",
    "\n",
    "    optimizer = th.optim.Adam(model.parameters(), **optimizer_args)\n",
    "    loss_fn = th.nn.CrossEntropyLoss(reduction=\"none\")\n",
    "    sum_loss = 0\n",
    "    n_steps = 0\n",
    "\n",
    "    for e in range(train_args[\"epochs\"]):\n",
    "        rec.set_labels(cv_split=i, epoch=e)\n",
    "        model.train()\n",
    "        batch_size = train_args[\"batch_size\"]\n",
    "        for j, b_data in enumerate(batch_loader(train_data, batch_size)):\n",
    "            optimizer.zero_grad()\n",
    "\n",
    "            p_idx = np.random.randint(len(training_mask_pattern))\n",
    "            b_data = apply_mask_pattern(b_data, training_mask_pattern[p_idx])\n",
    "            batch_data = model.encode_pure(b_data, mask=mask_name)\n",
    "\n",
    "            batch_data = batch_data.to_dict()\n",
    "            y_logit = model(batch_data).flatten(end_dim=-2)\n",
    "            y_pred = y_logit.softmax(-1)\n",
    "            y_true = batch_data[\"y_enc\"].flatten(end_dim=-2)\n",
    "            mask = batch_data[\"mask\"].flatten()\n",
    "\n",
    "            loss = (\n",
    "                loss_fn(y_logit, y_true)\n",
    "                + (y_pred * y_pred.log()).sum(-1) * train_args[\"l1_entropy\"]\n",
    "            )\n",
    "            \n",
    "            loss = (loss * mask).sum() / mask.sum()\n",
    "\n",
    "            loss.backward(retain_graph=True)\n",
    "\n",
    "            if train_args[\"clamp_grad\"]:\n",
    "                for param in model.parameters():\n",
    "                    param.grad.data.clamp_(\n",
    "                        -train_args[\"clamp_grad\"], train_args[\"clamp_grad\"]\n",
    "                    )\n",
    "            optimizer.step()\n",
    "            sum_loss += loss.item()\n",
    "            n_steps += 1\n",
    "\n",
    "        last_epoch = e == (train_args[\"epochs\"] - 1)\n",
    "\n",
    "        if (e % train_args[\"eval_period\"] == 0) or last_epoch:\n",
    "            avg_loss = sum_loss / n_steps\n",
    "            print(f\"CV {i} | Epoch {e} | Loss {avg_loss}\")\n",
    "\n",
    "            rec.rec(loss=avg_loss, set=\"train\")\n",
    "\n",
    "            # evalute on training data for all possible mask patterns\n",
    "            for mask in enumerate(test_mask_pattern): \n",
    "                n_pred = mask.sum()\n",
    "                _d = apply_mask_pattern(train_data, mask)\n",
    "                _d = model.encode_pure(_d, mask=mask_name, edge_index=edge_index)\n",
    "                metrics = eval_model(model, _d)\n",
    "                rec.rec_many(metrics, set=\"train\", n_pred=n_pred)\n",
    "                \n",
    "            if test_data is not None:\n",
    "                # evalute on training data for all possible mask patterns\n",
    "                for mask in enumerate(test_mask_pattern): \n",
    "                    n_pred = mask.sum()\n",
    "                    _d = apply_mask_pattern(test_data, mask)\n",
    "                    _d = model.encode_pure(_d, mask=mask_name, edge_index=edge_index)\n",
    "                    metrics = eval_model(model, _d)\n",
    "                    rec.rec_many(metrics, set=\"test\", n_pred=n_pred)\n",
    "                # evalute on training data, shuffled features\n",
    "                for sf in shuffle_features:\n",
    "                    _d = shuffle_feature(test_data, sf)\n",
    "                    _d = model.encode(\n",
    "                        _d, mask=mask_name, edge_index=edge_index\n",
    "                    )\n",
    "                    metrics = eval_model(model, _d)\n",
    "                    rec.rec_many(metrics, set=\"test\", shuffle_feature=sf)\n",
    "            sum_loss = 0\n",
    "            n_steps = 0\n",
    "\n",
    "    if i is None:\n",
    "        model_path = os.path.join(model_dir, f\"{job_id}.pt\")\n",
    "        model.save(model_path)\n",
    "\n",
    "    rec.save(data_dir, labels, job_id=job_id)\n"
   ]
  },
  {
   "cell_type": "code",
   "execution_count": 70,
   "id": "b5929d1e",
   "metadata": {},
   "outputs": [
    {
     "data": {
      "text/plain": [
       "{'round_number': tensor([0, 1, 2,  ..., 5, 6, 7], dtype=torch.int32),\n",
       " 'is_first': tensor([ True, False, False,  ..., False, False, False]),\n",
       " 'contribution': tensor([ 9,  9, 10,  ..., 20, 20, 15], dtype=torch.int32),\n",
       " 'punishment': tensor([0, 7, 6,  ..., 2, 2, 5], dtype=torch.int32),\n",
       " 'common_good': tensor([24.5000,  8.7500, 17.0000,  ..., 24.0000, 21.2500, 21.7500]),\n",
       " 'contribution_valid': tensor([True, True, True,  ..., True, True, True]),\n",
       " 'punishment_valid': tensor([False,  True,  True,  ...,  True,  True,  True]),\n",
       " 'prev_contribution': tensor([13,  9,  9,  ..., 20, 20, 20], dtype=torch.int32),\n",
       " 'prev_punishment': tensor([0, 0, 7,  ..., 0, 2, 2], dtype=torch.int32),\n",
       " 'prev_common_good': tensor([16.7500, 24.5000,  8.7500,  ..., 26.6667, 24.0000, 21.2500]),\n",
       " 'prev_contribution_valid': tensor([False,  True,  True,  ...,  True,  True,  True]),\n",
       " 'prev_punishment_valid': tensor([False, False,  True,  ..., False,  True,  True]),\n",
       " 'batch': tensor([ 0,  1,  2,  3,  4,  5,  6,  7,  8,  9, 10, 11, 12, 13, 14, 15, 16, 17,\n",
       "         18, 19, 20, 21, 22, 23, 24, 25, 26, 27, 28, 29, 30, 31, 32, 33, 34, 35,\n",
       "         36, 37, 38, 39, 40, 41, 42, 43, 44, 45, 46, 47, 48, 49, 50, 51, 52, 53,\n",
       "         54, 55, 56, 57, 58, 59, 60, 61, 62, 63, 64, 65, 66, 67, 68, 69, 70, 71,\n",
       "         72, 73, 74, 75, 76, 77, 78, 79, 80, 81, 82, 83, 84, 85,  0,  1,  2,  3,\n",
       "          4,  5,  6,  7,  8,  9, 10, 11, 12, 13, 14, 15, 16, 17, 18, 19, 20, 21,\n",
       "         22, 23, 24, 25, 26, 27, 28, 29, 30, 31, 32, 33, 34, 35, 36, 37, 38, 39,\n",
       "         40, 41, 42, 43, 44, 45, 46, 47, 48, 49, 50, 51, 52, 53, 54, 55, 56, 57,\n",
       "         58, 59, 60, 61, 62, 63, 64, 65, 66, 67, 68, 69, 70, 71, 72, 73, 74, 75,\n",
       "         76, 77, 78, 79, 80, 81, 82, 83, 84, 85,  0,  1,  2,  3,  4,  5,  6,  7,\n",
       "          8,  9, 10, 11, 12, 13, 14, 15, 16, 17, 18, 19, 20, 21, 22, 23, 24, 25,\n",
       "         26, 27, 28, 29, 30, 31, 32, 33, 34, 35, 36, 37, 38, 39, 40, 41, 42, 43,\n",
       "         44, 45, 46, 47, 48, 49, 50, 51, 52, 53, 54, 55, 56, 57, 58, 59, 60, 61,\n",
       "         62, 63, 64, 65, 66, 67, 68, 69, 70, 71, 72, 73, 74, 75, 76, 77, 78, 79,\n",
       "         80, 81, 82, 83, 84, 85,  0,  1,  2,  3,  4,  5,  6,  7,  8,  9, 10, 11,\n",
       "         12, 13, 14, 15, 16, 17, 18, 19, 20, 21, 22, 23, 24, 25, 26, 27, 28, 29,\n",
       "         30, 31, 32, 33, 34, 35, 36, 37, 38, 39, 40, 41, 42, 43, 44, 45, 46, 47,\n",
       "         48, 49, 50, 51, 52, 53, 54, 55, 56, 57, 58, 59, 60, 61, 62, 63, 64, 65,\n",
       "         66, 67, 68, 69, 70, 71, 72, 73, 74, 75, 76, 77, 78, 79, 80, 81, 82, 83,\n",
       "         84, 85]),\n",
       " 'edge_index': tensor([[  0,   4,   8,  ..., 335, 339, 343],\n",
       "         [  1,   5,   9,  ..., 334, 338, 342]])}"
      ]
     },
     "execution_count": 70,
     "metadata": {},
     "output_type": "execute_result"
    }
   ],
   "source": [
    "flat_groups(train_data)\n"
   ]
  }
 ],
 "metadata": {
  "kernelspec": {
   "display_name": "Python 3.9.10 ('.venv': venv)",
   "language": "python",
   "name": "python3"
  },
  "language_info": {
   "codemirror_mode": {
    "name": "ipython",
    "version": 3
   },
   "file_extension": ".py",
   "mimetype": "text/x-python",
   "name": "python",
   "nbconvert_exporter": "python",
   "pygments_lexer": "ipython3",
   "version": "3.9.14 (main, Sep  6 2022, 23:29:09) \n[Clang 13.1.6 (clang-1316.0.21.2.5)]"
  },
  "papermill": {
   "default_parameters": {},
   "duration": 376.216797,
   "end_time": "2022-06-30T12:07:50.559416",
   "environment_variables": {},
   "exception": true,
   "input_path": "notebooks/artificial_humans/graph.ipynb",
   "output_path": "notebooks/artificial_humans/graph.ipynb",
   "parameters": {
    "data_file": "../../data/experiments/pilot_random1_player_round_slim.csv",
    "device": "cpu",
    "experiment_names": [
     "trail_rounds_2"
    ],
    "fraction_training": 1,
    "labels": {},
    "mask_name": "manager_valid",
    "model_args": {
     "add_edge_model": false,
     "add_global_model": false,
     "add_rnn": false,
     "hidden_size": 10,
     "u_encoding": [
      {
       "etype": "float",
       "name": "prev_common_good",
       "norm": 32
      },
      {
       "encoding": "numeric",
       "n_levels": 16,
       "name": "round_number"
      }
     ],
     "x_encoding": [
      {
       "encoding": "numeric",
       "n_levels": 21,
       "name": "prev_contributions"
      },
      {
       "encoding": "numeric",
       "n_levels": 31,
       "name": "prev_punishments"
      },
      {
       "etype": "bool",
       "name": "prev_valid"
      }
     ],
     "y_levels": 31,
     "y_name": "punishments"
    },
    "model_name": "graph",
    "n_cross_val": 2,
    "n_player": 4,
    "optimizer_args": {
     "lr": 0.0001,
     "weight_decay": 0.00001
    },
    "output_path": "../../data/training/dev",
    "shuffle_features": [
     "prev_punishments",
     "prev_contributions",
     "prev_common_good"
    ],
    "train_args": {
     "batch_size": 20,
     "clamp_grad": 1,
     "epochs": 100,
     "eval_period": 10
    }
   },
   "start_time": "2022-06-30T12:01:34.342619",
   "version": "2.3.4"
  },
  "vscode": {
   "interpreter": {
    "hash": "b1198fd9370ee0cf82025240fa26724f68bfab1e3f74dbb4acdc06e7861d0dbe"
   }
  }
 },
 "nbformat": 4,
 "nbformat_minor": 5
}
