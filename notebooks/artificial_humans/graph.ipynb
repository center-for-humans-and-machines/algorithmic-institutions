{
 "cells": [
  {
   "cell_type": "code",
   "execution_count": 1,
   "id": "d857fbbc",
   "metadata": {
    "tags": [
     "injected-parameters"
    ]
   },
   "outputs": [],
   "source": [
    "# Parameters\n",
    "n_cross_val = 3\n",
    "fraction_training = 1.0\n",
    "data_file = \"../../data/experiments/pilot_random1_player_round_slim.csv\"\n",
    "data_dir = \"../../data/artificial_humans/dev\"\n",
    "labels = {}\n",
    "model_name = \"graph\"\n",
    "job_id = 'dev'\n",
    "model_args = {\n",
    "    \"y_levels\": 31,\n",
    "    \"y_name\": \"punishment\",\n",
    "    \"add_rnn\": False,\n",
    "    \"add_edge_model\": False,\n",
    "    \"add_global_model\": False,\n",
    "    \"hidden_size\": 10,\n",
    "    \"x_encoding\": [\n",
    "        {\"name\": \"contribution\", \"n_levels\": 21, \"encoding\": \"numeric\"},\n",
    "        {\"name\": \"prev_punishment\", \"n_levels\": 31, \"encoding\": \"numeric\"},\n",
    "        {\"name\": \"contribution_valid\", \"etype\": \"bool\"},\n",
    "        {\"name\": \"prev_punishment_valid\", \"etype\": \"bool\"},\n",
    "        {\"name\": \"punishment_masked\", \"n_levels\": 31, \"encoding\": \"numeric\"},\n",
    "        {\"name\": \"autoreg_mask\", \"etype\": \"bool\"},\n",
    "    ],\n",
    "}\n",
    "mask_name = \"recorded\"\n",
    "experiment_names = [\"trail_rounds_2\"]\n",
    "optimizer_args = {\"lr\": 0.001, \"weight_decay\": 1e-05}\n",
    "train_args = {\"epochs\": 10, \"batch_size\": 20, \"clamp_grad\": 1, \"eval_period\": 10, 'l1_entropy': 0.1}\n",
    "n_player = 4\n",
    "shuffle_features = [\"prev_punishment\", \"prev_contribution\", \"prev_common_good\"]\n",
    "device = \"cpu\"\n",
    "seed = 123\n",
    "autoregression = True\n"
   ]
  },
  {
   "cell_type": "code",
   "execution_count": 2,
   "id": "44582683",
   "metadata": {
    "execution": {
     "iopub.execute_input": "2022-06-30T12:01:35.913454Z",
     "iopub.status.busy": "2022-06-30T12:01:35.913043Z",
     "iopub.status.idle": "2022-06-30T12:01:38.252980Z",
     "shell.execute_reply": "2022-06-30T12:01:38.252329Z"
    },
    "papermill": {
     "duration": 2.3494,
     "end_time": "2022-06-30T12:01:38.255085",
     "exception": false,
     "start_time": "2022-06-30T12:01:35.905685",
     "status": "completed"
    },
    "tags": []
   },
   "outputs": [
    {
     "name": "stderr",
     "output_type": "stream",
     "text": [
      "/home/mpib/brinkmann/repros/algorithmic-institutions/.venv/lib/python3.9/site-packages/torch/cuda/__init__.py:82: UserWarning: CUDA initialization: The NVIDIA driver on your system is too old (found version 10010). Please update your GPU driver by downloading and installing a new version from the URL: http://www.nvidia.com/Download/index.aspx Alternatively, go to: https://pytorch.org to install a PyTorch version that has been compiled with your version of the CUDA driver. (Triggered internally at  ../c10/cuda/CUDAFunctions.cpp:112.)\n",
      "  return torch._C._cuda_getDeviceCount() > 0\n"
     ]
    }
   ],
   "source": [
    "%load_ext autoreload\n",
    "%autoreload 2\n",
    "\n",
    "import os\n",
    "import pandas as pd\n",
    "import numpy as np\n",
    "import random\n",
    "import torch as th\n",
    "from aimanager.generic.data import create_torch_data, get_cross_validations\n",
    "from aimanager.artificial_humans import AH_MODELS\n",
    "from aimanager.artificial_humans.evaluation import eval_model, Recorder\n",
    "from aimanager.utils.utils import make_dir\n",
    "from aimanager.generic.graph_encode import create_fully_connected\n",
    "from aimanager.generic.graph import Encoder\n",
    "from torch_geometric.loader import DataLoader\n",
    "from itertools import permutations\n",
    "\n",
    "\n",
    "model_dir = os.path.join(data_dir, 'model')\n",
    "make_dir(model_dir)\n",
    "\n",
    "th.random.manual_seed(seed)\n",
    "np.random.seed(seed)\n",
    "random.seed(seed)\n"
   ]
  },
  {
   "cell_type": "code",
   "execution_count": 3,
   "id": "e6659c46",
   "metadata": {
    "execution": {
     "iopub.execute_input": "2022-06-30T12:01:38.262665Z",
     "iopub.status.busy": "2022-06-30T12:01:38.262184Z",
     "iopub.status.idle": "2022-06-30T12:02:01.031743Z",
     "shell.execute_reply": "2022-06-30T12:02:01.031064Z"
    },
    "papermill": {
     "duration": 22.77529,
     "end_time": "2022-06-30T12:02:01.033741",
     "exception": false,
     "start_time": "2022-06-30T12:01:38.258451",
     "status": "completed"
    },
    "tags": []
   },
   "outputs": [],
   "source": [
    "df = pd.read_csv(data_file)\n",
    "\n",
    "df = df[df['experiment_name'].isin(experiment_names)]\n",
    "\n",
    "data, default_values = create_torch_data(df)"
   ]
  },
  {
   "cell_type": "code",
   "execution_count": 4,
   "id": "1f144b88",
   "metadata": {
    "execution": {
     "iopub.execute_input": "2022-06-30T12:02:01.072488Z",
     "iopub.status.busy": "2022-06-30T12:02:01.072155Z",
     "iopub.status.idle": "2022-06-30T12:07:48.970453Z",
     "shell.execute_reply": "2022-06-30T12:07:48.969564Z"
    },
    "papermill": {
     "duration": 347.93606,
     "end_time": "2022-06-30T12:07:48.972626",
     "exception": false,
     "start_time": "2022-06-30T12:02:01.036566",
     "status": "completed"
    },
    "tags": []
   },
   "outputs": [
    {
     "name": "stdout",
     "output_type": "stream",
     "text": [
      "CV 0 | Epoch 0 | Loss 3.114483952522278\n"
     ]
    },
    {
     "ename": "RecursionError",
     "evalue": "maximum recursion depth exceeded in comparison",
     "output_type": "error",
     "traceback": [
      "\u001b[0;31m---------------------------------------------------------------------------\u001b[0m",
      "\u001b[0;31mRecursionError\u001b[0m                            Traceback (most recent call last)",
      "\u001b[1;32m/home/mpib/brinkmann/repros/algorithmic-institutions/notebooks/artificial_humans/graph.ipynb Cell 4\u001b[0m in \u001b[0;36m<cell line: 76>\u001b[0;34m()\u001b[0m\n\u001b[1;32m    <a href='vscode-notebook-cell://ssh-remote%2Bcluster/home/mpib/brinkmann/repros/algorithmic-institutions/notebooks/artificial_humans/graph.ipynb#W3sdnNjb2RlLXJlbW90ZQ%3D%3D?line=139'>140</a>\u001b[0m     _d \u001b[39m=\u001b[39m apply_mask_pattern(train_data, mask[np\u001b[39m.\u001b[39mnewaxis], y_name, mask_name, default_values)\n\u001b[1;32m    <a href='vscode-notebook-cell://ssh-remote%2Bcluster/home/mpib/brinkmann/repros/algorithmic-institutions/notebooks/artificial_humans/graph.ipynb#W3sdnNjb2RlLXJlbW90ZQ%3D%3D?line=140'>141</a>\u001b[0m     _d \u001b[39m=\u001b[39m model\u001b[39m.\u001b[39mencode(_d, mask\u001b[39m=\u001b[39mmask_name, edge_index\u001b[39m=\u001b[39mtrain_edge_index, device\u001b[39m=\u001b[39mth_device)\n\u001b[0;32m--> <a href='vscode-notebook-cell://ssh-remote%2Bcluster/home/mpib/brinkmann/repros/algorithmic-institutions/notebooks/artificial_humans/graph.ipynb#W3sdnNjb2RlLXJlbW90ZQ%3D%3D?line=141'>142</a>\u001b[0m     metrics \u001b[39m=\u001b[39m eval_model(model, _d)\n\u001b[1;32m    <a href='vscode-notebook-cell://ssh-remote%2Bcluster/home/mpib/brinkmann/repros/algorithmic-institutions/notebooks/artificial_humans/graph.ipynb#W3sdnNjb2RlLXJlbW90ZQ%3D%3D?line=142'>143</a>\u001b[0m     rec\u001b[39m.\u001b[39mrec_many(metrics, \u001b[39mset\u001b[39m\u001b[39m=\u001b[39m\u001b[39m\"\u001b[39m\u001b[39mtrain\u001b[39m\u001b[39m\"\u001b[39m, n_pred\u001b[39m=\u001b[39mn_pred, mask\u001b[39m=\u001b[39mj)\n\u001b[1;32m    <a href='vscode-notebook-cell://ssh-remote%2Bcluster/home/mpib/brinkmann/repros/algorithmic-institutions/notebooks/artificial_humans/graph.ipynb#W3sdnNjb2RlLXJlbW90ZQ%3D%3D?line=144'>145</a>\u001b[0m \u001b[39mif\u001b[39;00m test_data \u001b[39mis\u001b[39;00m \u001b[39mnot\u001b[39;00m \u001b[39mNone\u001b[39;00m:\n\u001b[1;32m    <a href='vscode-notebook-cell://ssh-remote%2Bcluster/home/mpib/brinkmann/repros/algorithmic-institutions/notebooks/artificial_humans/graph.ipynb#W3sdnNjb2RlLXJlbW90ZQ%3D%3D?line=145'>146</a>\u001b[0m     \u001b[39m# evalute on training data for all possible mask patterns\u001b[39;00m\n",
      "File \u001b[0;32m/mnt/beegfs/home/brinkmann/repros/algorithmic-institutions/aimanager/artificial_humans/evaluation.py:18\u001b[0m, in \u001b[0;36meval_model\u001b[0;34m(model, data)\u001b[0m\n\u001b[1;32m     16\u001b[0m \u001b[39mfor\u001b[39;00m strategy \u001b[39min\u001b[39;00m strategies:\n\u001b[1;32m     17\u001b[0m     \u001b[39mif\u001b[39;00m strategy \u001b[39m==\u001b[39m \u001b[39m\"\u001b[39m\u001b[39mgreedy\u001b[39m\u001b[39m\"\u001b[39m:\n\u001b[0;32m---> 18\u001b[0m         y_pred, y_pred_proba \u001b[39m=\u001b[39m model\u001b[39m.\u001b[39;49mpredict(data, sample\u001b[39m=\u001b[39;49m\u001b[39mFalse\u001b[39;49;00m)\n\u001b[1;32m     19\u001b[0m     \u001b[39melif\u001b[39;00m strategy \u001b[39m==\u001b[39m \u001b[39m\"\u001b[39m\u001b[39msampling\u001b[39m\u001b[39m\"\u001b[39m:\n\u001b[1;32m     20\u001b[0m         y_pred, y_pred_proba \u001b[39m=\u001b[39m model\u001b[39m.\u001b[39mpredict(data, sample\u001b[39m=\u001b[39m\u001b[39mTrue\u001b[39;00m)\n",
      "File \u001b[0;32m/mnt/beegfs/home/brinkmann/repros/algorithmic-institutions/aimanager/generic/graph.py:344\u001b[0m, in \u001b[0;36mGraphNetwork.predict\u001b[0;34m(self, *args, **kwargs)\u001b[0m\n\u001b[1;32m    342\u001b[0m     \u001b[39mreturn\u001b[39;00m \u001b[39mself\u001b[39m\u001b[39m.\u001b[39mpredict_autoreg(\u001b[39m*\u001b[39margs, \u001b[39m*\u001b[39m\u001b[39m*\u001b[39mkwargs)\n\u001b[1;32m    343\u001b[0m \u001b[39melse\u001b[39;00m:\n\u001b[0;32m--> 344\u001b[0m     \u001b[39mreturn\u001b[39;00m \u001b[39mself\u001b[39;49m\u001b[39m.\u001b[39;49mpredict(\u001b[39m*\u001b[39;49margs, \u001b[39m*\u001b[39;49m\u001b[39m*\u001b[39;49mkwargs)\n",
      "File \u001b[0;32m/mnt/beegfs/home/brinkmann/repros/algorithmic-institutions/aimanager/generic/graph.py:344\u001b[0m, in \u001b[0;36mGraphNetwork.predict\u001b[0;34m(self, *args, **kwargs)\u001b[0m\n\u001b[1;32m    342\u001b[0m     \u001b[39mreturn\u001b[39;00m \u001b[39mself\u001b[39m\u001b[39m.\u001b[39mpredict_autoreg(\u001b[39m*\u001b[39margs, \u001b[39m*\u001b[39m\u001b[39m*\u001b[39mkwargs)\n\u001b[1;32m    343\u001b[0m \u001b[39melse\u001b[39;00m:\n\u001b[0;32m--> 344\u001b[0m     \u001b[39mreturn\u001b[39;00m \u001b[39mself\u001b[39;49m\u001b[39m.\u001b[39;49mpredict(\u001b[39m*\u001b[39;49margs, \u001b[39m*\u001b[39;49m\u001b[39m*\u001b[39;49mkwargs)\n",
      "    \u001b[0;31m[... skipping similar frames: GraphNetwork.predict at line 344 (2969 times)]\u001b[0m\n",
      "File \u001b[0;32m/mnt/beegfs/home/brinkmann/repros/algorithmic-institutions/aimanager/generic/graph.py:344\u001b[0m, in \u001b[0;36mGraphNetwork.predict\u001b[0;34m(self, *args, **kwargs)\u001b[0m\n\u001b[1;32m    342\u001b[0m     \u001b[39mreturn\u001b[39;00m \u001b[39mself\u001b[39m\u001b[39m.\u001b[39mpredict_autoreg(\u001b[39m*\u001b[39margs, \u001b[39m*\u001b[39m\u001b[39m*\u001b[39mkwargs)\n\u001b[1;32m    343\u001b[0m \u001b[39melse\u001b[39;00m:\n\u001b[0;32m--> 344\u001b[0m     \u001b[39mreturn\u001b[39;00m \u001b[39mself\u001b[39;49m\u001b[39m.\u001b[39;49mpredict(\u001b[39m*\u001b[39;49margs, \u001b[39m*\u001b[39;49m\u001b[39m*\u001b[39;49mkwargs)\n",
      "\u001b[0;31mRecursionError\u001b[0m: maximum recursion depth exceeded in comparison"
     ]
    }
   ],
   "source": [
    "metrics = []\n",
    "confusion_matrix = []\n",
    "syn_pred = []\n",
    "rec = Recorder()\n",
    "\n",
    "th_device = th.device(device)\n",
    "\n",
    "syn_index = [\"prev_punishments\", \"prev_contributions\"]\n",
    "\n",
    "encodings = [\n",
    "    {\"name\": \"y_masked\", \"n_levels\": 31, \"encoding\": \"numeric\"},\n",
    "    {\"name\": \"y_valid\", \"etype\": \"bool\"},\n",
    "]\n",
    "\n",
    "x_add_encoder = Encoder(encodings=encodings)\n",
    "\n",
    "if autoregression:\n",
    "    # create a pattern for all possible permutations of the training mask\n",
    "    pattern = [\n",
    "        [True] * i + [False] * (n_player - i) for i in range(1, n_player + 1)\n",
    "    ]\n",
    "else:\n",
    "    pattern = [[True] * n_player]\n",
    "\n",
    "training_mask_pattern = list(set([pp for p in pattern for pp in permutations(p)]))\n",
    "training_mask_pattern = th.tensor(training_mask_pattern, dtype=th.bool)\n",
    "\n",
    "test_mask_pattern = th.tensor(pattern, dtype=th.bool)\n",
    "\n",
    "\n",
    "def shuffle_feature(data, feature_name):\n",
    "    data = {**data}\n",
    "    data[feature_name] = data[feature_name][th.randperm(len(data[feature_name]))]\n",
    "    return data\n",
    "\n",
    "\n",
    "def batch_loader(data, batch_size):\n",
    "    n = len(data[\"contribution\"])\n",
    "    all_idx = np.arange(n)\n",
    "    all_idx = np.random.permutation(all_idx)\n",
    "    n_batch = int(np.ceil(n / batch_size))\n",
    "    for i in range(n_batch):\n",
    "        batch_idx = all_idx[i * batch_size : (i + 1) * batch_size]\n",
    "        if len(batch_idx) != batch_size:\n",
    "            continue\n",
    "        batch = {k: v[batch_idx] for k, v in data.items()}\n",
    "        yield batch\n",
    "\n",
    "def mask_data(data, mask, targets, default_values):\n",
    "    for target in targets:\n",
    "        data[target + '_masked'] = data[target].clone()\n",
    "        if mask.shape[0] != data[target + '_masked'].shape[0]:\n",
    "            mask = mask.repeat(data[target + '_masked'].shape[0], 1)\n",
    "        data[target + '_masked'][mask] = default_values[target]\n",
    "    return data\n",
    "\n",
    "def apply_mask_pattern(data, mask_pattern, y_name, mask_name, default_values):\n",
    "    data = mask_data(data, mask_pattern, [y_name], default_values)\n",
    "    data[mask_name] = data[mask_name] & mask_pattern[:, :, np.newaxis]\n",
    "    data[\"autoreg_mask\"] = th.ones_like(data[mask_name]) & mask_pattern[:, :, np.newaxis]\n",
    "    return data\n",
    "\n",
    "\n",
    "def create_fully_connected(n_nodes, n_groups=1, device=th.device('cpu')):\n",
    "    return th.tensor(\n",
    "        [\n",
    "            [i + k * n_nodes, j + k * n_nodes]\n",
    "            for k in range(n_groups)\n",
    "            for i in range(n_nodes)\n",
    "            for j in range(n_nodes)\n",
    "            if i != j\n",
    "        ], device=device\n",
    "    ).T\n",
    "\n",
    "\n",
    "for i, train_data, test_data in get_cross_validations(\n",
    "    data, n_cross_val, fraction_training\n",
    "):\n",
    "    model = AH_MODELS[model_name](default_values=default_values, **model_args).to(\n",
    "        th_device\n",
    "    )\n",
    "\n",
    "    batch_size = train_args[\"batch_size\"]\n",
    "    batch_edge_index = create_fully_connected(n_player, n_groups=batch_size)\n",
    "    train_edge_index = create_fully_connected(n_player, n_groups=train_data['contribution'].shape[0])\n",
    "    if test_data is not None:\n",
    "        test_edge_index = create_fully_connected(n_player, n_groups=test_data['contribution'].shape[0])\n",
    "\n",
    "    y_name = model_args[\"y_name\"]\n",
    "\n",
    "    optimizer = th.optim.Adam(model.parameters(), **optimizer_args)\n",
    "    loss_fn = th.nn.CrossEntropyLoss(reduction=\"none\")\n",
    "    sum_loss = 0\n",
    "    n_steps = 0\n",
    "\n",
    "    for e in range(train_args[\"epochs\"]):\n",
    "        rec.set_labels(cv_split=i, epoch=e)\n",
    "        model.train()\n",
    "        for j, b_data in enumerate(batch_loader(train_data, batch_size)):\n",
    "            optimizer.zero_grad()\n",
    "\n",
    "            p_idx = th.randint(0, len(training_mask_pattern), (batch_size,))\n",
    "            b_data = apply_mask_pattern(b_data, training_mask_pattern[p_idx], y_name, mask_name, default_values)\n",
    "            batch_data = model.encode(b_data, mask=mask_name, edge_index=batch_edge_index, device=th_device)\n",
    "\n",
    "            y_logit = model(batch_data).flatten(end_dim=-2)\n",
    "            y_pred = y_logit.softmax(-1)\n",
    "            y_true = batch_data[\"y_enc\"].flatten(end_dim=-2)\n",
    "            mask = batch_data[\"mask\"].flatten()\n",
    "\n",
    "            loss = (\n",
    "                loss_fn(y_logit, y_true)\n",
    "                + (y_pred * y_pred.log()).sum(-1) * train_args[\"l1_entropy\"]\n",
    "            )\n",
    "            \n",
    "            loss = (loss * mask).sum() / mask.sum()\n",
    "\n",
    "            loss.backward(retain_graph=True)\n",
    "\n",
    "            if train_args[\"clamp_grad\"]:\n",
    "                for param in model.parameters():\n",
    "                    param.grad.data.clamp_(\n",
    "                        -train_args[\"clamp_grad\"], train_args[\"clamp_grad\"]\n",
    "                    )\n",
    "            optimizer.step()\n",
    "            sum_loss += loss.item()\n",
    "            n_steps += 1\n",
    "\n",
    "        last_epoch = e == (train_args[\"epochs\"] - 1)\n",
    "\n",
    "        if (e % train_args[\"eval_period\"] == 0) or last_epoch:\n",
    "            avg_loss = sum_loss / n_steps\n",
    "            print(f\"CV {i} | Epoch {e} | Loss {avg_loss}\")\n",
    "\n",
    "            rec.rec(value=avg_loss, set=\"train\")\n",
    "\n",
    "            # evalute on training data for all possible mask patterns\n",
    "            for j, mask in enumerate(test_mask_pattern): \n",
    "                n_pred = mask.sum().item()\n",
    "                _d = apply_mask_pattern(train_data, mask[np.newaxis], y_name, mask_name, default_values)\n",
    "                _d = model.encode(_d, mask=mask_name, edge_index=train_edge_index, device=th_device)\n",
    "                metrics = eval_model(model, _d)\n",
    "                rec.rec_many(metrics, set=\"train\", n_pred=n_pred, mask=j)\n",
    "                \n",
    "            if test_data is not None:\n",
    "                # evalute on training data for all possible mask patterns\n",
    "                for j, mask in enumerate(test_mask_pattern): \n",
    "                    n_pred = mask.sum().item()\n",
    "                    _d = apply_mask_pattern(test_data, mask[np.newaxis], y_name, mask_name, default_values)\n",
    "                    _d = model.encode(_d, mask=mask_name, edge_index=test_edge_index, device=th_device)\n",
    "                    metrics = eval_model(model, _d)\n",
    "                    rec.rec_many(metrics, set=\"test\", n_pred=n_pred, mask=j)\n",
    "                    # evalute on training data, shuffled features\n",
    "                    for sf in shuffle_features:\n",
    "                        _d = shuffle_feature(test_data, sf)\n",
    "                        _d = apply_mask_pattern(_d, mask[np.newaxis], y_name, mask_name, default_values)\n",
    "                        _d = model.encode(\n",
    "                            _d, mask=mask_name, edge_index=test_edge_index, device=th_device\n",
    "                        )\n",
    "                        metrics = eval_model(model, _d)\n",
    "                        rec.rec_many(metrics, set=\"test\", shuffle_feature=sf, n_pred=n_pred, mask=j)\n",
    "            sum_loss = 0\n",
    "            n_steps = 0\n",
    "\n",
    "    if i is None:\n",
    "        model_path = os.path.join(model_dir, f\"{job_id}.pt\")\n",
    "        model.save(model_path)\n",
    "\n",
    "    rec.save(data_dir, labels, job_id=job_id)\n"
   ]
  }
 ],
 "metadata": {
  "kernelspec": {
   "display_name": ".venv",
   "language": "python",
   "name": "python3"
  },
  "language_info": {
   "codemirror_mode": {
    "name": "ipython",
    "version": 3
   },
   "file_extension": ".py",
   "mimetype": "text/x-python",
   "name": "python",
   "nbconvert_exporter": "python",
   "pygments_lexer": "ipython3",
   "version": "3.9.16"
  },
  "papermill": {
   "default_parameters": {},
   "duration": 376.216797,
   "end_time": "2022-06-30T12:07:50.559416",
   "environment_variables": {},
   "exception": true,
   "input_path": "notebooks/artificial_humans/graph.ipynb",
   "output_path": "notebooks/artificial_humans/graph.ipynb",
   "parameters": {
    "data_file": "../../data/experiments/pilot_random1_player_round_slim.csv",
    "device": "cpu",
    "experiment_names": [
     "trail_rounds_2"
    ],
    "fraction_training": 1,
    "labels": {},
    "mask_name": "manager_valid",
    "model_args": {
     "add_edge_model": false,
     "add_global_model": false,
     "add_rnn": false,
     "hidden_size": 10,
     "u_encoding": [
      {
       "etype": "float",
       "name": "prev_common_good",
       "norm": 32
      },
      {
       "encoding": "numeric",
       "n_levels": 16,
       "name": "round_number"
      }
     ],
     "x_encoding": [
      {
       "encoding": "numeric",
       "n_levels": 21,
       "name": "prev_contributions"
      },
      {
       "encoding": "numeric",
       "n_levels": 31,
       "name": "prev_punishments"
      },
      {
       "etype": "bool",
       "name": "prev_valid"
      }
     ],
     "y_levels": 31,
     "y_name": "punishments"
    },
    "model_name": "graph",
    "n_cross_val": 2,
    "n_player": 4,
    "optimizer_args": {
     "lr": 0.0001,
     "weight_decay": 0.00001
    },
    "output_path": "../../data/training/dev",
    "shuffle_features": [
     "prev_punishments",
     "prev_contributions",
     "prev_common_good"
    ],
    "train_args": {
     "batch_size": 20,
     "clamp_grad": 1,
     "epochs": 100,
     "eval_period": 10
    }
   },
   "start_time": "2022-06-30T12:01:34.342619",
   "version": "2.3.4"
  },
  "vscode": {
   "interpreter": {
    "hash": "b1198fd9370ee0cf82025240fa26724f68bfab1e3f74dbb4acdc06e7861d0dbe"
   }
  }
 },
 "nbformat": 4,
 "nbformat_minor": 5
}
