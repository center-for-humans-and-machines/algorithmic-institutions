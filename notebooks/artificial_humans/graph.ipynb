{
 "cells": [
  {
   "cell_type": "code",
   "execution_count": 11,
   "id": "d857fbbc",
   "metadata": {
    "tags": [
     "injected-parameters"
    ]
   },
   "outputs": [],
   "source": [
    "# Parameters\n",
    "n_cross_val = None\n",
    "fraction_training = 1.0\n",
    "data_file = \"../../data/experiments/pilot_random1_player_round_slim.csv\"\n",
    "data_dir = \"../../data/artificial_humans/dev\"\n",
    "labels = {}\n",
    "model_name = \"graph\"\n",
    "job_id = 'dev'\n",
    "model_args = {\n",
    "    \"y_levels\": 31,\n",
    "    \"y_name\": \"punishments\",\n",
    "    \"add_rnn\": False,\n",
    "    \"add_edge_model\": False,\n",
    "    \"add_global_model\": False,\n",
    "    \"hidden_size\": 10,\n",
    "    \"x_encoding\": [\n",
    "        {\"name\": \"contributions\", \"n_levels\": 21, \"encoding\": \"numeric\"},\n",
    "        {\"name\": \"prev_punishments\", \"n_levels\": 31, \"encoding\": \"numeric\"},\n",
    "        {\"name\": \"valid\", \"etype\": \"bool\"},\n",
    "        {\"name\": \"episode_group_idx\", \"n_levels\": 86, \"encoding\": \"projection\"},\n",
    "    ],\n",
    "    # \"u_encoding\": [\n",
    "    #     {\"name\": \"prev_common_good\", \"norm\": 32, \"etype\": \"float\"},\n",
    "    #     {\"name\": \"round_number\", \"n_levels\": 16, \"encoding\": \"numeric\"},\n",
    "    # ],\n",
    "}\n",
    "mask_name = \"manager_valid\"\n",
    "experiment_names = [\"trail_rounds_2\"]\n",
    "optimizer_args = {\"lr\": 0.001, \"weight_decay\": 1e-05}\n",
    "train_args = {\"epochs\": 50, \"batch_size\": 20, \"clamp_grad\": 1, \"eval_period\": 10, 'l1_entropy': 0.1}\n",
    "n_player = 4\n",
    "shuffle_features = [\"prev_punishments\", \"prev_contributions\", \"prev_common_good\"]\n",
    "device = \"cpu\"\n",
    "seed = 123\n"
   ]
  },
  {
   "cell_type": "code",
   "execution_count": 12,
   "id": "44582683",
   "metadata": {
    "execution": {
     "iopub.execute_input": "2022-06-30T12:01:35.913454Z",
     "iopub.status.busy": "2022-06-30T12:01:35.913043Z",
     "iopub.status.idle": "2022-06-30T12:01:38.252980Z",
     "shell.execute_reply": "2022-06-30T12:01:38.252329Z"
    },
    "papermill": {
     "duration": 2.3494,
     "end_time": "2022-06-30T12:01:38.255085",
     "exception": false,
     "start_time": "2022-06-30T12:01:35.905685",
     "status": "completed"
    },
    "tags": []
   },
   "outputs": [
    {
     "name": "stdout",
     "output_type": "stream",
     "text": [
      "The autoreload extension is already loaded. To reload it, use:\n",
      "  %reload_ext autoreload\n"
     ]
    }
   ],
   "source": [
    "%load_ext autoreload\n",
    "%autoreload 2\n",
    "\n",
    "import os\n",
    "import pandas as pd\n",
    "import numpy as np\n",
    "import random\n",
    "import torch as th\n",
    "from aimanager.generic.data import create_torch_data, get_cross_validations\n",
    "from aimanager.artificial_humans import AH_MODELS\n",
    "from aimanager.artificial_humans.evaluation import Evaluator\n",
    "from aimanager.utils.array_to_df import using_multiindex\n",
    "from aimanager.utils.utils import make_dir\n",
    "from aimanager.generic.graph_encode import create_fully_connected\n",
    "from torch_geometric.data import Batch\n",
    "from torch_geometric.loader import DataLoader\n",
    "\n",
    "model_dir = os.path.join(data_dir, 'model')\n",
    "make_dir(model_dir)\n",
    "\n",
    "th.random.manual_seed(seed)\n",
    "np.random.seed(seed)\n",
    "random.seed(seed)\n"
   ]
  },
  {
   "cell_type": "code",
   "execution_count": 13,
   "id": "e6659c46",
   "metadata": {
    "execution": {
     "iopub.execute_input": "2022-06-30T12:01:38.262665Z",
     "iopub.status.busy": "2022-06-30T12:01:38.262184Z",
     "iopub.status.idle": "2022-06-30T12:02:01.031743Z",
     "shell.execute_reply": "2022-06-30T12:02:01.031064Z"
    },
    "papermill": {
     "duration": 22.77529,
     "end_time": "2022-06-30T12:02:01.033741",
     "exception": false,
     "start_time": "2022-06-30T12:01:38.258451",
     "status": "completed"
    },
    "tags": []
   },
   "outputs": [],
   "source": [
    "df = pd.read_csv(data_file)\n",
    "\n",
    "df = df[df['experiment_name'].isin(experiment_names)]\n",
    "\n",
    "data, default_values = create_torch_data(df)"
   ]
  },
  {
   "cell_type": "code",
   "execution_count": 14,
   "id": "4c5e7c53",
   "metadata": {},
   "outputs": [
    {
     "data": {
      "text/plain": [
       "dict_keys(['punishments', 'contributions', 'valid', 'recorded', 'common_good', 'round_number', 'is_first', 'manager_valid', 'episode_group_idx', 'prev_punishments', 'prev_contributions', 'prev_valid', 'prev_recorded', 'prev_common_good', 'prev_manager_valid'])"
      ]
     },
     "execution_count": 14,
     "metadata": {},
     "output_type": "execute_result"
    }
   ],
   "source": [
    "data.keys()"
   ]
  },
  {
   "cell_type": "code",
   "execution_count": 15,
   "id": "1f144b88",
   "metadata": {
    "execution": {
     "iopub.execute_input": "2022-06-30T12:02:01.072488Z",
     "iopub.status.busy": "2022-06-30T12:02:01.072155Z",
     "iopub.status.idle": "2022-06-30T12:07:48.970453Z",
     "shell.execute_reply": "2022-06-30T12:07:48.969564Z"
    },
    "papermill": {
     "duration": 347.93606,
     "end_time": "2022-06-30T12:07:48.972626",
     "exception": false,
     "start_time": "2022-06-30T12:02:01.036566",
     "status": "completed"
    },
    "tags": []
   },
   "outputs": [
    {
     "name": "stdout",
     "output_type": "stream",
     "text": [
      "CV None | Epoch 0 | Loss 3.0323800086975097\n",
      "CV None | Epoch 10 | Loss 2.8145063638687136\n",
      "CV None | Epoch 20 | Loss 2.411294705867767\n",
      "CV None | Epoch 30 | Loss 2.0147968769073485\n",
      "CV None | Epoch 40 | Loss 1.7126077103614807\n",
      "CV None | Epoch 49 | Loss 1.5775903993182712\n"
     ]
    }
   ],
   "source": [
    "th_device = th.device(device)\n",
    "\n",
    "metrics = []\n",
    "confusion_matrix = []\n",
    "syn_pred = []\n",
    "ev = Evaluator()\n",
    "\n",
    "th_device = th.device(device)\n",
    "\n",
    "syn_index = ['prev_punishments', 'prev_contributions']\n",
    "edge_index = create_fully_connected(n_player)\n",
    "\n",
    "\n",
    "def shuffle_feature(data, feature_name):\n",
    "    data = {**data}\n",
    "    data[feature_name] = data[feature_name][th.randperm(len(data[feature_name]))]\n",
    "    return data\n",
    "\n",
    "for i, train_data, test_data in get_cross_validations(data, n_cross_val, fraction_training):\n",
    "    model = AH_MODELS[model_name](default_values=default_values, **model_args).to(th_device)\n",
    "\n",
    "    train_data_ = model.encode(train_data, mask=mask_name, edge_index=edge_index)\n",
    "    if test_data is not None:\n",
    "        test_data_ = model.encode(test_data, mask=mask_name, edge_index=edge_index)\n",
    "\n",
    "    optimizer = th.optim.Adam(model.parameters(), **optimizer_args)\n",
    "    loss_fn = th.nn.CrossEntropyLoss(reduction='none')\n",
    "    sum_loss = 0\n",
    "    n_steps = 0\n",
    "\n",
    "    for e in range(train_args['epochs']):\n",
    "        ev.set_labels(cv_split=i, epoch=e)\n",
    "        model.train()\n",
    "        for j, batch_data in enumerate(iter(DataLoader(train_data_, shuffle=True, batch_size=train_args['batch_size']))):\n",
    "            optimizer.zero_grad()\n",
    "            py = model(batch_data).flatten(end_dim=-2)\n",
    "            y_true = batch_data['y_enc'].flatten(end_dim=-2)\n",
    "            py_soft = py.softmax(-1)\n",
    "            loss = loss_fn(py, y_true) + (py_soft * py_soft.log()).sum(-1) * train_args['l1_entropy']\n",
    "\n",
    "            mask = batch_data['mask'].flatten()\n",
    "            loss = (loss * mask).sum() / mask.sum()\n",
    "\n",
    "            loss.backward(retain_graph=True)\n",
    "\n",
    "            if train_args['clamp_grad']:\n",
    "                for param in model.parameters():\n",
    "                    param.grad.data.clamp_(-train_args['clamp_grad'], train_args['clamp_grad'])\n",
    "            optimizer.step()\n",
    "            sum_loss += loss.item()\n",
    "            n_steps +=1\n",
    "        \n",
    "        last_epoch = e == (train_args['epochs'] - 1)\n",
    "\n",
    "        if (e % train_args['eval_period'] == 0) or last_epoch:\n",
    "            avg_loss = sum_loss/n_steps\n",
    "            print(f'CV {i} | Epoch {e} | Loss {avg_loss}')\n",
    "            ev.add_loss(avg_loss)\n",
    "\n",
    "            ev.eval_set(model, train_data_, calc_confusion=last_epoch, set='train')\n",
    "            if test_data is not None:\n",
    "                ev.eval_set(model, test_data_, calc_confusion=last_epoch, set='test')\n",
    "                for sf in shuffle_features:\n",
    "                    shuffled_data = shuffle_feature(test_data, sf)\n",
    "                    shuffled_data = model.encode(shuffled_data, mask=mask_name, edge_index=edge_index)\n",
    "                    ev.eval_set(model, shuffled_data, calc_confusion=False, set='test', shuffle_feature=sf)\n",
    "            sum_loss = 0\n",
    "            n_steps = 0\n",
    "\n",
    "    if i is None:\n",
    "        ev.save(data_dir, labels, job_id=job_id)\n",
    "        model_path = os.path.join(model_dir, f'{job_id}.pt')\n",
    "        model.save(model_path)"
   ]
  }
 ],
 "metadata": {
  "kernelspec": {
   "display_name": "Python 3.9.1 ('.venv': venv)",
   "language": "python",
   "name": "python3"
  },
  "language_info": {
   "codemirror_mode": {
    "name": "ipython",
    "version": 3
   },
   "file_extension": ".py",
   "mimetype": "text/x-python",
   "name": "python",
   "nbconvert_exporter": "python",
   "pygments_lexer": "ipython3",
   "version": "3.9.1"
  },
  "papermill": {
   "default_parameters": {},
   "duration": 376.216797,
   "end_time": "2022-06-30T12:07:50.559416",
   "environment_variables": {},
   "exception": true,
   "input_path": "notebooks/artificial_humans/graph.ipynb",
   "output_path": "notebooks/artificial_humans/graph.ipynb",
   "parameters": {
    "data_file": "../../data/experiments/pilot_random1_player_round_slim.csv",
    "device": "cpu",
    "experiment_names": [
     "trail_rounds_2"
    ],
    "fraction_training": 1,
    "labels": {},
    "mask_name": "manager_valid",
    "model_args": {
     "add_edge_model": false,
     "add_global_model": false,
     "add_rnn": false,
     "hidden_size": 10,
     "u_encoding": [
      {
       "etype": "float",
       "name": "prev_common_good",
       "norm": 32
      },
      {
       "encoding": "numeric",
       "n_levels": 16,
       "name": "round_number"
      }
     ],
     "x_encoding": [
      {
       "encoding": "numeric",
       "n_levels": 21,
       "name": "prev_contributions"
      },
      {
       "encoding": "numeric",
       "n_levels": 31,
       "name": "prev_punishments"
      },
      {
       "etype": "bool",
       "name": "prev_valid"
      }
     ],
     "y_levels": 31,
     "y_name": "punishments"
    },
    "model_name": "graph",
    "n_cross_val": 2,
    "n_player": 4,
    "optimizer_args": {
     "lr": 0.0001,
     "weight_decay": 0.00001
    },
    "output_path": "../../data/training/dev",
    "shuffle_features": [
     "prev_punishments",
     "prev_contributions",
     "prev_common_good"
    ],
    "train_args": {
     "batch_size": 20,
     "clamp_grad": 1,
     "epochs": 100,
     "eval_period": 10
    }
   },
   "start_time": "2022-06-30T12:01:34.342619",
   "version": "2.3.4"
  },
  "vscode": {
   "interpreter": {
    "hash": "83484b78e3eced0c1ebbaf37dd8049c2f9102f6dcade2a60a08a368fc0daac5f"
   }
  }
 },
 "nbformat": 4,
 "nbformat_minor": 5
}
