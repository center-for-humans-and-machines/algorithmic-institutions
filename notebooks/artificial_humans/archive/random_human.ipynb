{
 "cells": [
  {
   "cell_type": "code",
   "execution_count": 13,
   "metadata": {},
   "outputs": [],
   "source": [
    "import torch as th"
   ]
  },
  {
   "cell_type": "code",
   "execution_count": 14,
   "metadata": {},
   "outputs": [],
   "source": [
    "class RandomArtificialHumans(th.nn.Module):\n",
    "    def __init__(self, *, device, max_contribution):\n",
    "        super(RandomArtificialHumans, self).__init__()\n",
    "        self.max_contribution = max_contribution\n",
    "        self.device = device\n",
    "    \n",
    "    def forward(self, view):\n",
    "        \"\"\"\n",
    "            view: batch (b), round (r), agents (a), inputs (i)\n",
    "        \"\"\"\n",
    "        n_batch, n_rounds, n_agents, n_inputs  = view.shape \n",
    "\n",
    "        q = th.rand((n_batch, n_rounds, n_agents, self.max_contribution), device=self.device)\n",
    "        return q"
   ]
  },
  {
   "cell_type": "code",
   "execution_count": 15,
   "metadata": {},
   "outputs": [
    {
     "name": "stdout",
     "output_type": "stream",
     "text": [
      "tensor([[[[0.3731, 0.4325, 0.0425, 0.1174, 0.4488],\n",
      "          [0.6026, 0.6359, 0.9027, 0.4030, 0.0936]],\n",
      "\n",
      "         [[0.6869, 0.2037, 0.4506, 0.0929, 0.1293],\n",
      "          [0.5483, 0.1649, 0.9091, 0.0682, 0.9527]],\n",
      "\n",
      "         [[0.4399, 0.4882, 0.3714, 0.8477, 0.4682],\n",
      "          [0.7578, 0.0536, 0.1600, 0.4353, 0.7369]]],\n",
      "\n",
      "\n",
      "        [[[0.3832, 0.7594, 0.9964, 0.7476, 0.3680],\n",
      "          [0.6098, 0.7669, 0.2803, 0.5546, 0.3590]],\n",
      "\n",
      "         [[0.9807, 0.4970, 0.5607, 0.7501, 0.5248],\n",
      "          [0.2581, 0.0811, 0.7104, 0.2142, 0.7301]],\n",
      "\n",
      "         [[0.7683, 0.5401, 0.7040, 0.0297, 0.2447],\n",
      "          [0.6233, 0.2784, 0.5992, 0.4208, 0.2161]]],\n",
      "\n",
      "\n",
      "        [[[0.7815, 0.0749, 0.5148, 0.9596, 0.0283],\n",
      "          [0.7017, 0.4940, 0.6389, 0.4697, 0.0277]],\n",
      "\n",
      "         [[0.0082, 0.5905, 0.8618, 0.8607, 0.7529],\n",
      "          [0.7762, 0.3839, 0.0303, 0.2380, 0.0020]],\n",
      "\n",
      "         [[0.8714, 0.8744, 0.0215, 0.1848, 0.2663],\n",
      "          [0.7331, 0.2510, 0.9987, 0.5825, 0.5607]]],\n",
      "\n",
      "\n",
      "        [[[0.8892, 0.2037, 0.4081, 0.6827, 0.2040],\n",
      "          [0.4653, 0.6290, 0.3810, 0.4702, 0.4835]],\n",
      "\n",
      "         [[0.8019, 0.8939, 0.7708, 0.3418, 0.4538],\n",
      "          [0.0268, 0.2937, 0.3605, 0.8206, 0.2663]],\n",
      "\n",
      "         [[0.6667, 0.2009, 0.6614, 0.7111, 0.3163],\n",
      "          [0.8206, 0.6164, 0.5584, 0.8789, 0.9227]]]])\n"
     ]
    }
   ],
   "source": [
    "n_batch, n_rounds, n_agents, n_inputs = 4, 3, 2, 5\n",
    "device = th.device('cpu')\n",
    "\n",
    "ah = RandomArtificialHumans(max_contribution=5, device=device)\n",
    "\n",
    "view = th.rand(size=(n_batch, n_rounds, n_agents, n_inputs))\n",
    "\n",
    "q = ah(view)\n",
    "print(q)\n"
   ]
  },
  {
   "cell_type": "code",
   "execution_count": 16,
   "metadata": {},
   "outputs": [
    {
     "ename": "IndexError",
     "evalue": "index 4 is out of bounds for dimension 0 with size 4",
     "output_type": "error",
     "traceback": [
      "\u001b[0;31m---------------------------------------------------------------------------\u001b[0m",
      "\u001b[0;31mIndexError\u001b[0m                                Traceback (most recent call last)",
      "\u001b[1;32m/Users/levinbrinkmann/repros/algorithmic-institutions/notebooks/random_human.ipynb Cell 4'\u001b[0m in \u001b[0;36m<module>\u001b[0;34m\u001b[0m\n\u001b[1;32m      <a href='vscode-notebook-cell:/Users/levinbrinkmann/repros/algorithmic-institutions/notebooks/random_human.ipynb#ch0000004?line=1'>2</a>\u001b[0m action_idx \u001b[39m=\u001b[39m th\u001b[39m.\u001b[39mrandint(low\u001b[39m=\u001b[39m\u001b[39m0\u001b[39m, high\u001b[39m=\u001b[39mmax_contribution, size\u001b[39m=\u001b[39m(n_batch, n_rounds, n_agents), device\u001b[39m=\u001b[39mdevice)\n\u001b[1;32m      <a href='vscode-notebook-cell:/Users/levinbrinkmann/repros/algorithmic-institutions/notebooks/random_human.ipynb#ch0000004?line=2'>3</a>\u001b[0m q \u001b[39m=\u001b[39m th\u001b[39m.\u001b[39mzeros((n_batch, n_rounds, n_agents, max_contribution))\n\u001b[0;32m----> <a href='vscode-notebook-cell:/Users/levinbrinkmann/repros/algorithmic-institutions/notebooks/random_human.ipynb#ch0000004?line=4'>5</a>\u001b[0m q[action_idx] \u001b[39m=\u001b[39m \u001b[39m1\u001b[39m\n",
      "\u001b[0;31mIndexError\u001b[0m: index 4 is out of bounds for dimension 0 with size 4"
     ]
    }
   ],
   "source": [
    "max_contribution = 5\n",
    "action_idx = th.randint(low=0, high=max_contribution, size=(n_batch, n_rounds, n_agents), device=device)\n",
    "q = th.zeros((n_batch, n_rounds, n_agents, max_contribution))\n",
    "\n",
    "q[action_idx] = 1"
   ]
  },
  {
   "cell_type": "code",
   "execution_count": null,
   "metadata": {},
   "outputs": [],
   "source": []
  }
 ],
 "metadata": {
  "interpreter": {
   "hash": "b1198fd9370ee0cf82025240fa26724f68bfab1e3f74dbb4acdc06e7861d0dbe"
  },
  "kernelspec": {
   "display_name": "Python 3.9.10 ('.venv': venv)",
   "language": "python",
   "name": "python3"
  },
  "language_info": {
   "codemirror_mode": {
    "name": "ipython",
    "version": 3
   },
   "file_extension": ".py",
   "mimetype": "text/x-python",
   "name": "python",
   "nbconvert_exporter": "python",
   "pygments_lexer": "ipython3",
   "version": "3.9.10"
  },
  "orig_nbformat": 4
 },
 "nbformat": 4,
 "nbformat_minor": 2
}
