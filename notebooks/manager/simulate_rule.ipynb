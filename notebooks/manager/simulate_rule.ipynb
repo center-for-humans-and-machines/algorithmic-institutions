{
 "cells": [
  {
   "cell_type": "code",
   "execution_count": null,
   "id": "b41480c1",
   "metadata": {
    "tags": [
     "injected-parameters"
    ]
   },
   "outputs": [],
   "source": [
    "# Parameters\n",
    "artificial_humans = \"../../data/artificial_humans/ah_1_1/data/model.pt\"\n",
    "artificial_humans_model = \"graph\"\n",
    "output_path = \"../../data/manager/simulate_rule/v1_comp/\"\n",
    "n_episode_steps = 16\n",
    "s = 0\n",
    "b = 0\n",
    "c = 0\n",
    "n_episodes = 1000\n",
    "agents = None\n",
    "round_numbers = None\n"
   ]
  },
  {
   "cell_type": "code",
   "execution_count": 12,
   "id": "42c92424",
   "metadata": {
    "papermill": {},
    "tags": []
   },
   "outputs": [
    {
     "name": "stdout",
     "output_type": "stream",
     "text": [
      "The autoreload extension is already loaded. To reload it, use:\n",
      "  %reload_ext autoreload\n"
     ]
    }
   ],
   "source": [
    "%load_ext autoreload\n",
    "%autoreload 2\n",
    "\n",
    "import os\n",
    "import torch as th\n",
    "from itertools import count\n",
    "from aimanager.utils.utils import make_dir\n",
    "\n",
    "from aimanager.manager.memory import Memory\n",
    "from aimanager.manager.environment import ArtificialHumanEnv\n",
    "from aimanager.artificial_humans import AH_MODELS\n",
    "from aimanager.utils.array_to_df import using_multiindex, add_labels\n",
    "\n",
    "output_path = os.path.join(output_path, 'data')"
   ]
  },
  {
   "cell_type": "code",
   "execution_count": 13,
   "id": "550f4cec",
   "metadata": {
    "papermill": {},
    "tags": []
   },
   "outputs": [],
   "source": [
    "class RuleManager:\n",
    "    def __init__(self, s, b, c, agents=None, round_numbers=None):\n",
    "        self.s = s\n",
    "        self.b = b\n",
    "        self.c = c\n",
    "        self.agents = agents\n",
    "        self.round_numbers = round_numbers\n",
    "\n",
    "    def get_punishment(self, contributions, round_number,  **_):\n",
    "        punishments = th.zeros_like(contributions)\n",
    "        if (self.round_numbers is None) or (round_number[0] in self.round_numbers):\n",
    "            punishments = (20-contributions) * self.s + (20 != contributions).to(th.float) * self.c - self.b\n",
    "            punishments = punishments.round().to(th.int64)\n",
    "            punishments = th.minimum(th.maximum(punishments, th.zeros_like(punishments)), th.full_like(punishments, 30))\n",
    "        if self.agents is not None:\n",
    "            punishments_ = th.zeros_like(contributions)\n",
    "            punishments_[self.agents] = punishments[self.agents]\n",
    "            punishments = punishments_\n",
    "\n",
    "        return punishments"
   ]
  },
  {
   "cell_type": "code",
   "execution_count": null,
   "id": "ea9c4b25",
   "metadata": {
    "papermill": {},
    "tags": []
   },
   "outputs": [],
   "source": [
    "rec_keys = [\n",
    "    'punishments', 'contributions', 'common_good', 'contributor_payoff', 'manager_payoff']\n",
    "\n",
    "def run_batch(manager, env):\n",
    "    state = env.reset()\n",
    "    metric_list = []\n",
    "    for round_number in count():      \n",
    "        encoded = manager.encode_pure(state)\n",
    "        \n",
    "        batch_structure = env.get_batch_structure()\n",
    "\n",
    "        obs = {**encoded, **batch_structure}\n",
    "\n",
    "        # Get q values from controller\n",
    "        action = manager.punishments(obs, first=round_number == 0)\n",
    "\n",
    "        state = env.punish(action)\n",
    "        \n",
    "        metrics = {k: state[k].to(th.float).mean().item() for k in rec_keys}\n",
    "\n",
    "        # pass actions to environment and advance by one step\n",
    "        state, reward, done = env.step()\n",
    "    \n",
    "        metrics['next_reward'] = reward.mean().item()\n",
    "        metrics['round_number'] = round_number\n",
    "        metric_list.append(metrics)\n",
    "         \n",
    "        if done:\n",
    "            break\n",
    "    return metric_list"
   ]
  },
  {
   "cell_type": "code",
   "execution_count": 14,
   "id": "02d293a0",
   "metadata": {
    "papermill": {},
    "tags": []
   },
   "outputs": [],
   "source": [
    "device = th.device('cpu')\n",
    "rec_device = th.device('cpu')\n",
    "artifical_humans = AH_MODELS[artificial_humans_model].load(artificial_humans).to(device)\n",
    "\n",
    "env = ArtificialHumanEnv(\n",
    "    artifical_humans=artifical_humans, n_agents=4, n_contributions=21, n_punishments=31, episode_steps=n_episode_steps, device=device)\n",
    "\n",
    "recorder = Memory(n_episodes=n_episodes, n_episode_steps=n_episode_steps, output_file=None, device=device)\n",
    "\n",
    "for episode in range(n_episodes):\n",
    "    manager = RuleManager(s=s, b=b, c=c, agents=agents, round_numbers=round_numbers)\n",
    "    state = env.init_episode()\n",
    "    for step in count():\n",
    "        action = manager.get_punishment(**state)\n",
    "        state = env.punish(action)\n",
    "        recorder.add(**state, episode_step=step)\n",
    "        state, reward, done = env.step()\n",
    "        if done:\n",
    "            break\n",
    "    recorder.next_episode(episode)"
   ]
  },
  {
   "cell_type": "code",
   "execution_count": 15,
   "id": "926b07b2",
   "metadata": {
    "papermill": {},
    "tags": []
   },
   "outputs": [],
   "source": [
    "punishments = using_multiindex(recorder.memory['punishments'].numpy(), columns=['idx','round_number', 'agent'], value_name='punishments')\n",
    "common_good = using_multiindex(recorder.memory['common_good'].numpy(), columns=['idx','round_number', 'agent'], value_name='common_good')\n",
    "contributions = using_multiindex(recorder.memory['contributions'].numpy(), columns=['idx','round_number', 'agent'], value_name='contributions')\n",
    "payoffs = using_multiindex(recorder.memory['payoffs'].numpy(), columns=['idx','round_number', 'agent'], value_name='payoffs')\n",
    "\n",
    "df = punishments.merge(common_good).merge(contributions).merge(payoffs)\n",
    "\n",
    "df = df.drop(columns=['idx'])\n",
    "\n",
    "df = df.groupby(['round_number', 'agent']).mean().reset_index()\n",
    "df = add_labels(df, labels=labels)\n",
    "\n",
    "\n",
    "\n",
    "make_dir(output_path)\n",
    "df.to_csv(os.path.join(output_path, 'trace.csv'))"
   ]
  }
 ],
 "metadata": {
  "kernelspec": {
   "display_name": "Python 3.9.10 ('.venv': venv)",
   "language": "python",
   "name": "python3"
  },
  "language_info": {
   "codemirror_mode": {
    "name": "ipython",
    "version": 3
   },
   "file_extension": ".py",
   "mimetype": "text/x-python",
   "name": "python",
   "nbconvert_exporter": "python",
   "pygments_lexer": "ipython3",
   "version": "3.9.10"
  },
  "papermill": {
   "default_parameters": {},
   "environment_variables": {},
   "input_path": "notebooks/manager/simulate_rule.ipynb",
   "output_path": "notebooks/manager/simulate_rule.ipynb",
   "parameters": {
    "agents": null,
    "artificial_humans": "../../data/artificial_humans/ah_1_1/data/model.pt",
    "artificial_humans_model": "graph",
    "b": 0,
    "c": 0,
    "n_episode_steps": 16,
    "n_episodes": 1000,
    "output_path": "../../data/manager/simulate_rule/v1_comp/",
    "round_numbers": null,
    "s": 0
   },
   "version": "2.3.4"
  },
  "vscode": {
   "interpreter": {
    "hash": "b1198fd9370ee0cf82025240fa26724f68bfab1e3f74dbb4acdc06e7861d0dbe"
   }
  }
 },
 "nbformat": 4,
 "nbformat_minor": 5
}