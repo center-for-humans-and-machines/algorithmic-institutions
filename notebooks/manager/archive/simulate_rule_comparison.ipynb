{
 "cells": [
  {
   "cell_type": "code",
   "execution_count": 30,
   "id": "67de35c5",
   "metadata": {
    "tags": [
     "injected-parameters"
    ]
   },
   "outputs": [],
   "source": [
    "# Parameters\n",
    "artificial_humans = {\n",
    "    \"simple\": \"../../data/artificial_humans/ah_1_1_simple/data/model.pt\",\n",
    "    \"complex\": \"../../data/artificial_humans/ah_1_1/data/model.pt\",\n",
    "}\n",
    "artificial_humans_model = \"graph\"\n",
    "output_path = \"../../data/manager/simulate_rule/v2/dev\"\n",
    "n_episode_steps = 16\n",
    "manager_args = {\"s\": 0, \"b\": 0, \"c\": 0}\n",
    "n_episodes = 1\n",
    "agents = None\n",
    "round_numbers = None\n"
   ]
  },
  {
   "cell_type": "code",
   "execution_count": 31,
   "id": "42c92424",
   "metadata": {
    "papermill": {},
    "tags": []
   },
   "outputs": [
    {
     "name": "stdout",
     "output_type": "stream",
     "text": [
      "The autoreload extension is already loaded. To reload it, use:\n",
      "  %reload_ext autoreload\n"
     ]
    }
   ],
   "source": [
    "%load_ext autoreload\n",
    "%autoreload 2\n",
    "\n",
    "import os\n",
    "import torch as th\n",
    "import numpy as np\n",
    "import pandas as pd\n",
    "from itertools import count\n",
    "from aimanager.utils.utils import make_dir\n",
    "\n",
    "from aimanager.artificial_humans import AH_MODELS\n",
    "\n",
    "output_path = os.path.join(output_path, 'data')\n",
    "\n",
    "make_dir(output_path)"
   ]
  },
  {
   "cell_type": "code",
   "execution_count": 32,
   "id": "550f4cec",
   "metadata": {
    "papermill": {},
    "tags": []
   },
   "outputs": [],
   "source": [
    "class RuleManager:\n",
    "    def __init__(self, s, b, c, agents=None, round_numbers=None):\n",
    "        self.s = s\n",
    "        self.b = b\n",
    "        self.c = c\n",
    "        self.agents = agents\n",
    "        self.round_numbers = round_numbers\n",
    "\n",
    "    def get_punishment(self, contributions, round_number,  **_):\n",
    "        punishments = th.zeros_like(contributions)\n",
    "        if (self.round_numbers is None) or (round_number[0] in self.round_numbers):\n",
    "            punishments = (20-contributions) * self.s + (20 != contributions).to(th.float) * self.c - self.b\n",
    "            punishments = punishments.round().to(th.int64)\n",
    "            punishments = th.minimum(th.maximum(punishments, th.zeros_like(punishments)), th.full_like(punishments, 30))\n",
    "        if self.agents is not None:\n",
    "            punishments_ = th.zeros_like(contributions)\n",
    "            punishments_[self.agents] = punishments[self.agents]\n",
    "            punishments = punishments_\n",
    "\n",
    "        return punishments"
   ]
  },
  {
   "cell_type": "code",
   "execution_count": 33,
   "id": "4c3163ad",
   "metadata": {},
   "outputs": [],
   "source": [
    "all_memory = {}"
   ]
  },
  {
   "cell_type": "code",
   "execution_count": 40,
   "id": "02d293a0",
   "metadata": {
    "papermill": {},
    "tags": []
   },
   "outputs": [],
   "source": [
    "from aimanager.manager.environment_v3 import ArtificialHumanEnv as ArtificialHumanEnv_v3\n",
    "from aimanager.manager.memory_v3 import Memory as Memory_v3\n",
    "from aimanager.manager.memory import Memory\n",
    "\n",
    "\n",
    "\n",
    "device = th.device('cpu')\n",
    "\n",
    "rec_keys = ['punishments', 'contributions', 'common_good', 'contributor_payoff', 'manager_payoff']\n",
    "metric_list = []\n",
    "\n",
    "\n",
    "\n",
    "for ah_name, ah in artificial_humans.items():\n",
    "    ah = AH_MODELS[artificial_humans_model].load(ah).to(device)\n",
    "    env = ArtificialHumanEnv_v3(\n",
    "        artifical_humans=ah, n_agents=4, n_contributions=21, n_punishments=31, batch_size=n_episodes, n_rounds=16, device=device)\n",
    "    replay_mem = Memory(n_episodes=1, n_episode_steps=n_episode_steps, output_file=None, device=device)\n",
    "\n",
    "\n",
    "    manager = RuleManager(agents=agents, round_numbers=round_numbers, **manager_args)\n",
    "    state = env.reset()\n",
    "    for round_number in count():\n",
    "        action = manager.get_punishment(**state)\n",
    "        state = env.punish(action)\n",
    "        \n",
    "        replay_mem.add(episode_step=round_number, action=action, **state)\n",
    "\n",
    "        metrics = {\n",
    "            k: state[k].to(th.float).mean().item() for k in rec_keys}\n",
    "        \n",
    "        metrics = {**metrics,'artificial_humans': ah_name}\n",
    "\n",
    "        # pass actions to environment and advance by one step\n",
    "        state, reward, done = env.step()\n",
    "\n",
    "        metrics['next_reward'] = reward.mean().item()\n",
    "        metrics['round_number'] = round_number\n",
    "        metric_list.append(metrics)\n",
    "        # break\n",
    "        if done:\n",
    "            break\n",
    "    all_memory[f'new_{ah_name}'] = replay_mem.memory"
   ]
  },
  {
   "cell_type": "code",
   "execution_count": 41,
   "id": "bce0c5e4",
   "metadata": {},
   "outputs": [],
   "source": [
    "from aimanager.manager.environment import ArtificialHumanEnv\n",
    "from aimanager.manager.memory import Memory\n",
    "\n",
    "device = th.device('cpu')\n",
    "rec_device = th.device('cpu')\n",
    "\n",
    "for ah_name, ah in artificial_humans.items():\n",
    "    ah = AH_MODELS[artificial_humans_model].load(ah).to(device)\n",
    "    env = ArtificialHumanEnv(\n",
    "        artifical_humans=ah, n_agents=4, n_contributions=21, n_punishments=31, episode_steps=n_episode_steps, device=device)\n",
    "    recorder = Memory(n_episodes=n_episodes, n_episode_steps=n_episode_steps, output_file=None, device=device)\n",
    "    for episode in range(n_episodes):\n",
    "        manager = RuleManager(agents=agents, round_numbers=round_numbers, **manager_args)\n",
    "        state = env.init_episode()\n",
    "        for step in count():\n",
    "            action = manager.get_punishment(**state)\n",
    "            state = env.punish(action)\n",
    "            recorder.add(**state, episode_step=step)\n",
    "            state, reward, done = env.step()\n",
    "            if done:\n",
    "                break\n",
    "        recorder.next_episode(episode)\n",
    "    \n",
    "    all_memory[f'old_{ah_name}'] = recorder.memory"
   ]
  },
  {
   "cell_type": "code",
   "execution_count": 42,
   "id": "fbe798bd",
   "metadata": {},
   "outputs": [
    {
     "data": {
      "text/plain": [
       "torch.Size([100, 16, 4])"
      ]
     },
     "execution_count": 42,
     "metadata": {},
     "output_type": "execute_result"
    }
   ],
   "source": [
    "all_memory['old_complex']['contributions'].shape"
   ]
  },
  {
   "cell_type": "code",
   "execution_count": 43,
   "id": "82efb842",
   "metadata": {},
   "outputs": [
    {
     "data": {
      "text/plain": [
       "torch.Size([1, 16, 400, 1])"
      ]
     },
     "execution_count": 43,
     "metadata": {},
     "output_type": "execute_result"
    }
   ],
   "source": [
    "all_memory['new_complex']['contributions'].shape"
   ]
  },
  {
   "cell_type": "code",
   "execution_count": null,
   "id": "8931880c",
   "metadata": {},
   "outputs": [
    {
     "data": {
      "text/plain": [
       "torch.Size([4000, 1])"
      ]
     },
     "execution_count": 5,
     "metadata": {},
     "output_type": "execute_result"
    }
   ],
   "source": [
    "state['prev_punishments'].shape"
   ]
  },
  {
   "cell_type": "code",
   "execution_count": null,
   "id": "926b07b2",
   "metadata": {
    "papermill": {},
    "tags": []
   },
   "outputs": [],
   "source": [
    "# id_vars = ['round_number', 's', 'c', 'b', 'artificial_humans']\n",
    "\n",
    "# df = pd.DataFrame.from_records(metric_list)\n",
    "\n",
    "# value_vars = list(set(df.columns) - set(id_vars))\n",
    "# df = df.melt(id_vars=id_vars, value_vars=value_vars, var_name='metric')\n",
    "\n",
    "# df.to_parquet(os.path.join(output_path, f'metrics.parquet'))"
   ]
  }
 ],
 "metadata": {
  "kernelspec": {
   "display_name": "Python 3.9.10 ('.venv': venv)",
   "language": "python",
   "name": "python3"
  },
  "language_info": {
   "codemirror_mode": {
    "name": "ipython",
    "version": 3
   },
   "file_extension": ".py",
   "mimetype": "text/x-python",
   "name": "python",
   "nbconvert_exporter": "python",
   "pygments_lexer": "ipython3",
   "version": "3.9.10"
  },
  "papermill": {
   "default_parameters": {},
   "environment_variables": {},
   "input_path": "notebooks/manager/simulate_rule_v2.ipynb",
   "output_path": "notebooks/manager/simulate_rule_v2.ipynb",
   "parameters": {
    "agents": null,
    "artificial_humans": {
     "complex": "../../data/artificial_humans/ah_1_1/data/model.pt",
     "simple": "../../data/artificial_humans/ah_1_1_simple/data/model.pt"
    },
    "artificial_humans_model": "graph",
    "manager_args": {
     "b": 0,
     "c": 0,
     "s": 0
    },
    "n_episode_steps": 16,
    "n_episodes": 100,
    "output_path": "../../data/manager/simulate_rule/v2/dev",
    "round_numbers": null
   },
   "version": "2.3.4"
  },
  "vscode": {
   "interpreter": {
    "hash": "b1198fd9370ee0cf82025240fa26724f68bfab1e3f74dbb4acdc06e7861d0dbe"
   }
  }
 },
 "nbformat": 4,
 "nbformat_minor": 5
}
