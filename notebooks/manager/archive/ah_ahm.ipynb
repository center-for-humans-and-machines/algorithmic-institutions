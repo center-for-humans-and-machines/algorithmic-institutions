{
 "cells": [
  {
   "cell_type": "code",
   "execution_count": 1,
   "id": "737cdca3",
   "metadata": {
    "tags": [
     "injected-parameters"
    ]
   },
   "outputs": [],
   "source": [
    "# Parameters\n",
    "artificial_humans = \"../../data/artificial_humans/ah_1_1/data/model.pt\"\n",
    "artificial_humans_model = \"graph\"\n",
    "artificial_human_manager = \"../../data/artificial_humans/ahm_1_0/data/model.pt\"\n",
    "artificial_human_manager_model = \"graph\"\n",
    "output_path = \"../../data/manager/vhm/ah_1_1__ahm_1_0\"\n",
    "n_episode_steps = 16\n",
    "\n",
    "n_episodes = 100\n",
    "labels = {}"
   ]
  },
  {
   "cell_type": "code",
   "execution_count": 2,
   "id": "42c92424",
   "metadata": {
    "papermill": {},
    "tags": []
   },
   "outputs": [
    {
     "name": "stderr",
     "output_type": "stream",
     "text": [
      "/home/mpib/brinkmann/repros/algorithmic-institutions/.venv/lib/python3.9/site-packages/tqdm/auto.py:22: TqdmWarning: IProgress not found. Please update jupyter and ipywidgets. See https://ipywidgets.readthedocs.io/en/stable/user_install.html\n",
      "  from .autonotebook import tqdm as notebook_tqdm\n",
      "/home/mpib/brinkmann/repros/algorithmic-institutions/.venv/lib/python3.9/site-packages/torch/cuda/__init__.py:82: UserWarning: CUDA initialization: The NVIDIA driver on your system is too old (found version 10010). Please update your GPU driver by downloading and installing a new version from the URL: http://www.nvidia.com/Download/index.aspx Alternatively, go to: https://pytorch.org to install a PyTorch version that has been compiled with your version of the CUDA driver. (Triggered internally at  ../c10/cuda/CUDAFunctions.cpp:112.)\n",
      "  return torch._C._cuda_getDeviceCount() > 0\n"
     ]
    }
   ],
   "source": [
    "%load_ext autoreload\n",
    "%autoreload 2\n",
    "\n",
    "import os\n",
    "import torch as th\n",
    "from aimanager.utils.utils import make_dir\n",
    "\n",
    "from aimanager.manager.environment import ArtificialHumanEnv\n",
    "from aimanager.manager.evaluation import ManagerEvaluator\n",
    "from aimanager.artificial_humans import AH_MODELS\n",
    "from aimanager.utils.array_to_df import using_multiindex, add_labels\n",
    "\n",
    "output_path = os.path.join(output_path, 'data')"
   ]
  },
  {
   "cell_type": "code",
   "execution_count": 13,
   "id": "fc4e5600",
   "metadata": {},
   "outputs": [],
   "source": [
    "class ArtificialHumanManager(th.nn.Module):\n",
    "    def __init__(self, model_name, model_path):\n",
    "        super(ArtificialHumanManager, self).__init__()\n",
    "        self.model = AH_MODELS[model_name].load(model_path)\n",
    "\n",
    "    def get_action(self, state, edge_index, first):\n",
    "        state = {k: v.unsqueeze(0).unsqueeze(-1) for k, v in state.items()}\n",
    "        enc = self.model.encode(state, edge_index=edge_index, mask='manager_valid', y_encode=False)\n",
    "        y_pred = self.model.predict_one(enc[0], reset_rnn=first, sample=True)[0]\n",
    "        return y_pred.squeeze(-1)\n"
   ]
  },
  {
   "cell_type": "code",
   "execution_count": 15,
   "id": "02d293a0",
   "metadata": {
    "papermill": {},
    "tags": []
   },
   "outputs": [],
   "source": [
    "device = th.device('cpu')\n",
    "rec_device = th.device('cpu')\n",
    "artifical_humans = AH_MODELS[artificial_humans_model].load(artificial_humans).to(device)\n",
    "artifical_humans.device = device\n",
    "manager = ArtificialHumanManager(model_name=artificial_human_manager_model, model_path=artificial_human_manager).to(device)\n",
    "manager.model.device = device\n",
    "\n",
    "\n",
    "env = ArtificialHumanEnv(\n",
    "    artifical_humans=artifical_humans, n_agents=4, n_contributions=21, n_punishments=31, episode_steps=n_episode_steps, device=device)\n",
    "\n",
    "\n",
    "evaluator = ManagerEvaluator(n_test_episodes=n_episodes, n_episode_steps=n_episode_steps, output_file=None)\n",
    "\n",
    "evaluator.eval(manager, env)\n",
    "\n",
    "recorder = evaluator.recorder"
   ]
  },
  {
   "cell_type": "code",
   "execution_count": 16,
   "id": "926b07b2",
   "metadata": {
    "papermill": {},
    "tags": []
   },
   "outputs": [],
   "source": [
    "punishments = using_multiindex(recorder.memory['punishments'].numpy(), columns=['idx','round_number', 'agent'], value_name='punishments')\n",
    "common_good = using_multiindex(recorder.memory['common_good'].numpy(), columns=['idx','round_number', 'agent'], value_name='common_good')\n",
    "contributions = using_multiindex(recorder.memory['contributions'].numpy(), columns=['idx','round_number', 'agent'], value_name='contributions')\n",
    "payoffs = using_multiindex(recorder.memory['payoffs'].numpy(), columns=['idx','round_number', 'agent'], value_name='payoffs')\n",
    "\n",
    "df = punishments.merge(common_good).merge(contributions).merge(payoffs)\n",
    "\n",
    "df = df.drop(columns=['idx'])\n",
    "\n",
    "df = df.groupby(['round_number', 'agent']).mean().reset_index()\n",
    "df = add_labels(df, labels=labels)\n",
    "\n",
    "\n",
    "\n",
    "make_dir(output_path)\n",
    "df.to_csv(os.path.join(output_path, 'trace.csv'))"
   ]
  }
 ],
 "metadata": {
  "kernelspec": {
   "display_name": "Python 3.9.1 ('.venv': venv)",
   "language": "python",
   "name": "python3"
  },
  "language_info": {
   "codemirror_mode": {
    "name": "ipython",
    "version": 3
   },
   "file_extension": ".py",
   "mimetype": "text/x-python",
   "name": "python",
   "nbconvert_exporter": "python",
   "pygments_lexer": "ipython3",
   "version": "3.9.1"
  },
  "papermill": {
   "default_parameters": {},
   "environment_variables": {},
   "input_path": "notebooks/manager/simulate_rule.ipynb",
   "output_path": "notebooks/manager/simulate_rule.ipynb",
   "parameters": {
    "artificial_humans": "../../data/training/ah_10/data/model.pt",
    "artificial_humans_model": "graph",
    "b": 0,
    "c": 0,
    "n_episode_steps": 16,
    "n_episodes": 2,
    "output_file": "../../data/manager/simulate_rule/v1/data.pt",
    "s": 0
   },
   "version": "2.3.4"
  },
  "vscode": {
   "interpreter": {
    "hash": "83484b78e3eced0c1ebbaf37dd8049c2f9102f6dcade2a60a08a368fc0daac5f"
   }
  }
 },
 "nbformat": 4,
 "nbformat_minor": 5
}
