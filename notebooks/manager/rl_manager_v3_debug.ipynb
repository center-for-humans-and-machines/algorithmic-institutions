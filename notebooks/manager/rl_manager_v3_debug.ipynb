{
 "cells": [
  {
   "cell_type": "code",
   "execution_count": 16,
   "id": "b0983680",
   "metadata": {
    "tags": [
     "injected-parameters"
    ]
   },
   "outputs": [],
   "source": [
    "# Parameters\n",
    "artificial_humans = \"../../data/training/ah_10/data/model.pt\"\n",
    "artificial_humans_model = \"graph\"\n",
    "data_dir = \"../../train_data/manager/v2/dev/\"\n",
    "manager_args = {\n",
    "    \"opt_args\": {\"lr\": 0.003},\n",
    "    \"gamma\": 1.0,\n",
    "    \"eps\": 0.2,\n",
    "    \"target_update_freq\": 20,\n",
    "    \"model_args\": {\n",
    "        \"hidden_size\": 5,\n",
    "        \"add_rnn\": True,\n",
    "        \"add_edge_model\": True,\n",
    "        \"add_global_model\": False,\n",
    "        \"x_encoding\": [\n",
    "            {\"name\": \"contributions\", \"n_levels\": 21, \"encoding\": \"numeric\"},\n",
    "            {\"name\": \"prev_punishments\", \"n_levels\": 31, \"encoding\": \"numeric\"},\n",
    "        ],\n",
    "        \"u_encoding\": [\n",
    "            {\"name\": \"round_number\", \"n_levels\": 16, \"encoding\": \"numeric\"},\n",
    "            {\"name\": \"prev_common_good\", \"norm\": 128, \"etype\": \"float\"},\n",
    "        ],\n",
    "    },\n",
    "}\n",
    "replay_memory_args = {\"n_batches\": 10}\n",
    "n_update_steps = 30\n",
    "eval_period = 5\n",
    "env_args = {\n",
    "    \"n_agents\": 4,\n",
    "    \"n_contributions\": 21,\n",
    "    \"n_punishments\": 31,\n",
    "    \"n_rounds\": 16,\n",
    "    \"batch_size\": 5,\n",
    "}\n",
    "device = \"cpu\"\n",
    "job_id = \"dev\"\n",
    "labels = {}\n"
   ]
  },
  {
   "cell_type": "code",
   "execution_count": 17,
   "id": "42c92424",
   "metadata": {
    "papermill": {},
    "tags": []
   },
   "outputs": [
    {
     "name": "stdout",
     "output_type": "stream",
     "text": [
      "The autoreload extension is already loaded. To reload it, use:\n",
      "  %reload_ext autoreload\n"
     ]
    }
   ],
   "source": [
    "%load_ext autoreload\n",
    "%autoreload 2\n",
    "\n",
    "import torch as th\n",
    "import pandas as pd\n",
    "import os\n",
    "from itertools import count\n",
    "\n",
    "from aimanager.manager.memory import Memory\n",
    "from aimanager.manager.environment_v3 import ArtificialHumanEnv\n",
    "from aimanager.artificial_humans import AH_MODELS\n",
    "from aimanager.manager.manager import ArtificalManager\n",
    "from aimanager.utils.utils import make_dir\n",
    "from aimanager.utils.array_to_df import add_labels\n",
    "\n",
    "metrics_dir = os.path.join(data_dir, 'metrics')\n",
    "model_dir = os.path.join(data_dir, 'model')\n",
    "make_dir(metrics_dir)\n",
    "make_dir(model_dir)"
   ]
  },
  {
   "cell_type": "code",
   "execution_count": 23,
   "id": "51d7b77e",
   "metadata": {},
   "outputs": [
    {
     "name": "stdout",
     "output_type": "stream",
     "text": [
      "0 None None\n",
      "None\n",
      "1 0 20\n",
      "[[4, 5, 6, 7], [0, 1, 2, 3], [12, 13, 14, 15], [8, 9, 10, 11], [16, 17, 18, 19]]\n",
      "tensor([0, 0, 0, 0, 0, 0, 0, 0, 0, 0, 0, 0, 0, 0, 0, 0, 0, 0, 0, 0])\n",
      "2 20 40\n",
      "[[28, 29, 30, 31], [24, 25, 26, 27], [32, 33, 34, 35], [8, 9, 10, 11], [20, 21, 22, 23]]\n",
      "tensor([1, 1, 1, 1, 1, 1, 1, 1, 1, 1, 1, 1, 0, 0, 0, 0, 1, 1, 1, 1])\n",
      "3 40 60\n",
      "[[12, 13, 14, 15], [0, 1, 2, 3], [32, 33, 34, 35], [56, 57, 58, 59], [24, 25, 26, 27]]\n",
      "tensor([0, 0, 0, 0, 0, 0, 0, 0, 1, 1, 1, 1, 2, 2, 2, 2, 1, 1, 1, 1])\n",
      "4 60 80\n",
      "[[0, 1, 2, 3], [56, 57, 58, 59], [16, 17, 18, 19], [28, 29, 30, 31], [68, 69, 70, 71]]\n",
      "tensor([0, 0, 0, 0, 2, 2, 2, 2, 0, 0, 0, 0, 1, 1, 1, 1, 3, 3, 3, 3])\n",
      "5 80 100\n",
      "[[92, 93, 94, 95], [88, 89, 90, 91], [56, 57, 58, 59], [96, 97, 98, 99], [24, 25, 26, 27]]\n",
      "tensor([4, 4, 4, 4, 4, 4, 4, 4, 2, 2, 2, 2, 4, 4, 4, 4, 1, 1, 1, 1])\n",
      "6 100 120\n",
      "[[12, 13, 14, 15], [116, 117, 118, 119], [100, 101, 102, 103], [76, 77, 78, 79], [36, 37, 38, 39]]\n",
      "tensor([0, 0, 0, 0, 5, 5, 5, 5, 5, 5, 5, 5, 3, 3, 3, 3, 1, 1, 1, 1])\n",
      "7 120 140\n",
      "[[72, 73, 74, 75], [40, 41, 42, 43], [32, 33, 34, 35], [88, 89, 90, 91], [0, 1, 2, 3]]\n",
      "tensor([3, 3, 3, 3, 2, 2, 2, 2, 1, 1, 1, 1, 4, 4, 4, 4, 0, 0, 0, 0])\n",
      "8 140 160\n",
      "[[80, 81, 82, 83], [108, 109, 110, 111], [92, 93, 94, 95], [140, 141, 142, 143], [112, 113, 114, 115]]\n",
      "tensor([4, 4, 4, 4, 5, 5, 5, 5, 4, 4, 4, 4, 7, 7, 7, 7, 5, 5, 5, 5])\n",
      "9 160 180\n",
      "[[148, 149, 150, 151], [132, 133, 134, 135], [108, 109, 110, 111], [88, 89, 90, 91], [4, 5, 6, 7]]\n",
      "tensor([7, 7, 7, 7, 6, 6, 6, 6, 5, 5, 5, 5, 4, 4, 4, 4, 9, 9, 9, 9])\n",
      "10 0 20\n",
      "[[168, 169, 170, 171], [164, 165, 166, 167], [156, 157, 158, 159], [28, 29, 30, 31], [96, 97, 98, 99]]\n",
      "tensor([ 8,  8,  8,  8,  8,  8,  8,  8,  7,  7,  7,  7, 10, 10, 10, 10,  4,  4,\n",
      "         4,  4])\n",
      "11 20 40\n",
      "[[28, 29, 30, 31], [76, 77, 78, 79], [12, 13, 14, 15], [164, 165, 166, 167], [36, 37, 38, 39]]\n",
      "tensor([10, 10, 10, 10,  3,  3,  3,  3,  9,  9,  9,  9,  8,  8,  8,  8, 10, 10,\n",
      "        10, 10])\n",
      "12 40 60\n",
      "[[32, 33, 34, 35], [120, 121, 122, 123], [128, 129, 130, 131], [124, 125, 126, 127], [80, 81, 82, 83]]\n",
      "tensor([10, 10, 10, 10,  6,  6,  6,  6,  6,  6,  6,  6,  6,  6,  6,  6,  4,  4,\n",
      "         4,  4])\n",
      "13 60 80\n",
      "[[72, 73, 74, 75], [124, 125, 126, 127], [16, 17, 18, 19], [72, 73, 74, 75], [156, 157, 158, 159]]\n",
      "tensor([12, 12, 12, 12,  6,  6,  6,  6,  9,  9,  9,  9, 12, 12, 12, 12,  7,  7,\n",
      "         7,  7])\n",
      "14 80 100\n",
      "[[12, 13, 14, 15], [0, 1, 2, 3], [172, 173, 174, 175], [60, 61, 62, 63], [4, 5, 6, 7]]\n",
      "tensor([ 9,  9,  9,  9,  9,  9,  9,  9,  8,  8,  8,  8, 12, 12, 12, 12,  9,  9,\n",
      "         9,  9])\n",
      "15 100 120\n",
      "[[168, 169, 170, 171], [160, 161, 162, 163], [100, 101, 102, 103], [148, 149, 150, 151], [16, 17, 18, 19]]\n",
      "tensor([ 8,  8,  8,  8,  8,  8,  8,  8, 14, 14, 14, 14,  7,  7,  7,  7,  9,  9,\n",
      "         9,  9])\n",
      "16 120 140\n",
      "[[108, 109, 110, 111], [172, 173, 174, 175], [148, 149, 150, 151], [164, 165, 166, 167], [4, 5, 6, 7]]\n",
      "tensor([14, 14, 14, 14,  8,  8,  8,  8, 16, 16, 16, 16,  8,  8,  8,  8,  9,  9,\n",
      "         9,  9])\n",
      "17 140 160\n",
      "[[112, 113, 114, 115], [160, 161, 162, 163], [60, 61, 62, 63], [4, 5, 6, 7], [76, 77, 78, 79]]\n",
      "tensor([14, 14, 14, 14, 17, 17, 17, 17, 12, 12, 12, 12,  9,  9,  9,  9, 12, 12,\n",
      "        12, 12])\n",
      "18 160 180\n",
      "[[32, 33, 34, 35], [116, 117, 118, 119], [24, 25, 26, 27], [120, 121, 122, 123], [128, 129, 130, 131]]\n",
      "tensor([10, 10, 10, 10, 14, 14, 14, 14, 10, 10, 10, 10, 15, 15, 15, 15, 15, 15,\n",
      "        15, 15])\n",
      "19 0 20\n",
      "[[120, 121, 122, 123], [144, 145, 146, 147], [64, 65, 66, 67], [36, 37, 38, 39], [156, 157, 158, 159]]\n",
      "tensor([15, 15, 15, 15, 16, 16, 16, 16, 12, 12, 12, 12, 19, 19, 19, 19, 16, 16,\n",
      "        16, 16])\n",
      "20 20 40\n",
      "[[104, 105, 106, 107], [16, 17, 18, 19], [156, 157, 158, 159], [164, 165, 166, 167], [40, 41, 42, 43]]\n",
      "tensor([14, 14, 14, 14, 18, 18, 18, 18, 16, 16, 16, 16, 17, 17, 17, 17, 20, 20,\n",
      "        20, 20])\n",
      "21 40 60\n",
      "[[176, 177, 178, 179], [36, 37, 38, 39], [44, 45, 46, 47], [12, 13, 14, 15], [24, 25, 26, 27]]\n",
      "tensor([17, 17, 17, 17, 19, 19, 19, 19, 20, 20, 20, 20, 18, 18, 18, 18, 19, 19,\n",
      "        19, 19])\n",
      "22 60 80\n",
      "[[76, 77, 78, 79], [136, 137, 138, 139], [32, 33, 34, 35], [80, 81, 82, 83], [48, 49, 50, 51]]\n",
      "tensor([21, 21, 21, 21, 15, 15, 15, 15, 19, 19, 19, 19, 22, 22, 22, 22, 20, 20,\n",
      "        20, 20])\n",
      "23 80 100\n",
      "[[140, 141, 142, 143], [100, 101, 102, 103], [92, 93, 94, 95], [48, 49, 50, 51], [128, 129, 130, 131]]\n",
      "tensor([16, 16, 16, 16, 23, 23, 23, 23, 22, 22, 22, 22, 20, 20, 20, 20, 15, 15,\n",
      "        15, 15])\n",
      "24 100 120\n",
      "[[176, 177, 178, 179], [148, 149, 150, 151], [112, 113, 114, 115], [12, 13, 14, 15], [52, 53, 54, 55]]\n",
      "tensor([17, 17, 17, 17, 16, 16, 16, 16, 23, 23, 23, 23, 18, 18, 18, 18, 20, 20,\n",
      "        20, 20])\n",
      "25 120 140\n",
      "[[40, 41, 42, 43], [20, 21, 22, 23], [0, 1, 2, 3], [44, 45, 46, 47], [28, 29, 30, 31]]\n",
      "tensor([20, 20, 20, 20, 19, 19, 19, 19, 18, 18, 18, 18, 20, 20, 20, 20, 19, 19,\n",
      "        19, 19])\n",
      "26 140 160\n",
      "[[140, 141, 142, 143], [172, 173, 174, 175], [88, 89, 90, 91], [8, 9, 10, 11], [12, 13, 14, 15]]\n",
      "tensor([25, 25, 25, 25, 26, 26, 26, 26, 22, 22, 22, 22, 18, 18, 18, 18, 18, 18,\n",
      "        18, 18])\n",
      "27 160 180\n",
      "[[52, 53, 54, 55], [80, 81, 82, 83], [172, 173, 174, 175], [160, 161, 162, 163], [84, 85, 86, 87]]\n",
      "tensor([20, 20, 20, 20, 22, 22, 22, 22, 26, 26, 26, 26, 26, 26, 26, 26, 22, 22,\n",
      "        22, 22])\n",
      "28 0 20\n",
      "[[132, 133, 134, 135], [48, 49, 50, 51], [108, 109, 110, 111], [168, 169, 170, 171], [144, 145, 146, 147]]\n",
      "tensor([24, 24, 24, 24, 20, 20, 20, 20, 23, 23, 23, 23, 26, 26, 26, 26, 25, 25,\n",
      "        25, 25])\n",
      "29 20 40\n",
      "[[160, 161, 162, 163], [24, 25, 26, 27], [152, 153, 154, 155], [32, 33, 34, 35], [56, 57, 58, 59]]\n",
      "tensor([26, 26, 26, 26, 28, 28, 28, 28, 25, 25, 25, 25, 28, 28, 28, 28, 29, 29,\n",
      "        29, 29])\n"
     ]
    }
   ],
   "source": [
    "device = th.device(device)\n",
    "cpu = th.device('cpu')\n",
    "\n",
    "artifical_humans = AH_MODELS[artificial_humans_model].load(artificial_humans).to(device)\n",
    "\n",
    "env = ArtificialHumanEnv(\n",
    "    artifical_humans=artifical_humans, device=device, **env_args)\n",
    "\n",
    "manager = ArtificalManager(\n",
    "    n_contributions=env.n_contributions, n_punishments=env.n_punishments, \n",
    "    default_values=artifical_humans.default_values, device=device, **manager_args)\n",
    "\n",
    "replay_mem = Memory(\n",
    "    n_rounds=env.n_rounds, device=cpu, batch_size=env.batch_size, group_size=env.n_agents,\n",
    "    **replay_memory_args)\n",
    "\n",
    "\n",
    "state = env.reset()\n",
    "encoded = manager.encode_pure(state)\n",
    "\n",
    "batch_structure = env.get_batch_structure()\n",
    "\n",
    "obs = {**encoded, **batch_structure}\n",
    "\n",
    "# Get q values from controller\n",
    "q_values = manager.get_q(obs, first=True)\n",
    "action = q_values.argmax(-1)\n",
    "\n",
    "state = env.punish(action)\n",
    "\n",
    "# pass actions to environment and advance by one step\n",
    "state, reward, done = env.step()\n",
    "for update_step in range(n_update_steps):\n",
    "    print(update_step, replay_mem.start_row, replay_mem.end_row)\n",
    "    replay_mem.start_batch(env.groups)\n",
    "    for round_number in count():\n",
    "        if replay_mem is not None:\n",
    "            us_ten = th.full_like(action, fill_value=update_step)\n",
    "            replay_mem.add(\n",
    "                round_number=round_number, action=action, reward=reward, update_step=us_ten,\n",
    "                **encoded)\n",
    "\n",
    "        if round_number == 14:\n",
    "            break\n",
    "\n",
    "    sample, groups = replay_mem.sample(device=device)\n",
    "    print(groups)\n",
    "    if sample is not None:\n",
    "        print(sample['update_step'][:,0])\n",
    "    replay_mem.finish_batch()"
   ]
  },
  {
   "cell_type": "code",
   "execution_count": null,
   "id": "ba4c85aa",
   "metadata": {},
   "outputs": [
    {
     "data": {
      "text/plain": [
       "dict_keys(['action', 'reward', 'update_step', 'mask', 'x', 'y_enc', 'y', 'u'])"
      ]
     },
     "execution_count": 11,
     "metadata": {},
     "output_type": "execute_result"
    }
   ],
   "source": [
    "sample.keys()"
   ]
  },
  {
   "cell_type": "code",
   "execution_count": null,
   "id": "734d8a36",
   "metadata": {},
   "outputs": [
    {
     "data": {
      "text/plain": [
       "tensor([24, 24, 24, 24, 28, 28, 28, 28, 23, 23, 23, 23, 28, 28, 28, 28, 27, 27,\n",
       "        27, 27])"
      ]
     },
     "execution_count": 15,
     "metadata": {},
     "output_type": "execute_result"
    }
   ],
   "source": [
    "sample['update_step'][:20,0]"
   ]
  },
  {
   "cell_type": "code",
   "execution_count": null,
   "id": "ae17a6cd",
   "metadata": {},
   "outputs": [
    {
     "data": {
      "text/plain": [
       "torch.Size([4000, 1, 31])"
      ]
     },
     "execution_count": 30,
     "metadata": {},
     "output_type": "execute_result"
    }
   ],
   "source": [
    "q_values.shape"
   ]
  }
 ],
 "metadata": {
  "kernelspec": {
   "display_name": "Python 3.9.10 ('.venv': venv)",
   "language": "python",
   "name": "python3"
  },
  "language_info": {
   "codemirror_mode": {
    "name": "ipython",
    "version": 3
   },
   "file_extension": ".py",
   "mimetype": "text/x-python",
   "name": "python",
   "nbconvert_exporter": "python",
   "pygments_lexer": "ipython3",
   "version": "3.9.10"
  },
  "papermill": {
   "default_parameters": {},
   "environment_variables": {},
   "input_path": "notebooks/manager/rl_manager_v3.ipynb",
   "output_path": "notebooks/manager/rl_manager_v3.ipynb",
   "parameters": {
    "artificial_humans": "../../data/training/ah_10/data/model.pt",
    "artificial_humans_model": "graph",
    "data_path": "../../train_data/manager/v2/dev/",
    "device": "cpu",
    "env_args": {
     "batch_size": 1000,
     "n_agents": 4,
     "n_contributions": 21,
     "n_punishments": 31,
     "n_rounds": 16
    },
    "eval_period": 5,
    "job_id": "dev",
    "manager_args": {
     "eps": 0.2,
     "gamma": 1,
     "model_args": {
      "add_edge_model": true,
      "add_global_model": false,
      "add_rnn": true,
      "hidden_size": 5,
      "u_encoding": [
       {
        "encoding": "numeric",
        "n_levels": 16,
        "name": "round_number"
       },
       {
        "etype": "float",
        "name": "prev_common_good",
        "norm": 128
       }
      ],
      "x_encoding": [
       {
        "encoding": "numeric",
        "n_levels": 21,
        "name": "contributions"
       },
       {
        "encoding": "numeric",
        "n_levels": 31,
        "name": "prev_punishments"
       }
      ]
     },
     "opt_args": {
      "lr": 0.003
     },
     "target_update_freq": 20
    },
    "n_update_steps": 10,
    "replay_memory_args": {
     "n_batches": 20
    }
   },
   "version": "2.3.4"
  },
  "vscode": {
   "interpreter": {
    "hash": "b1198fd9370ee0cf82025240fa26724f68bfab1e3f74dbb4acdc06e7861d0dbe"
   }
  }
 },
 "nbformat": 4,
 "nbformat_minor": 5
}
