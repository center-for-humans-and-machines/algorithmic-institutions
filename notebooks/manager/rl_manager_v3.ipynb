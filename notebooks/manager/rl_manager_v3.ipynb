{
 "cells": [
  {
   "cell_type": "code",
   "execution_count": 1,
   "id": "677a0765",
   "metadata": {
    "tags": [
     "injected-parameters"
    ]
   },
   "outputs": [],
   "source": [
    "# Parameters\n",
    "artificial_humans = \"../../data/artificial_humans/ah_1_1_simple/data/model.pt\"\n",
    "artificial_humans_model = \"graph\"\n",
    "data_dir = \"../../data/manager_v3/dev/\"\n",
    "manager_args = {\n",
    "    \"opt_args\": {\"lr\": 0.003},\n",
    "    \"gamma\": 1.0,\n",
    "    \"eps\": 0.2,\n",
    "    \"target_update_freq\": 20,\n",
    "    \"model_args\": {\n",
    "        \"hidden_size\": 5,\n",
    "        \"add_rnn\": False,\n",
    "        \"add_edge_model\": False,\n",
    "        \"add_global_model\": False,\n",
    "        \"x_encoding\": [\n",
    "            {\"name\": \"contributions\", \"n_levels\": 21, \"encoding\": \"numeric\"},\n",
    "            {\"name\": \"round_number\", \"n_levels\": 16, \"encoding\": \"onehot\"}\n",
    "        ],\n",
    "        # \"b_encoding\": [{\"name\": \"round_number\", \"n_levels\": 16, \"encoding\": \"onehot\"}],\n",
    "    },\n",
    "}\n",
    "replay_memory_args = {\"n_episodes\": 100}\n",
    "n_update_steps = 500\n",
    "eval_period = 20\n",
    "env_args = {\n",
    "    \"n_agents\": 4,\n",
    "    \"n_contributions\": 21,\n",
    "    \"n_punishments\": 31,\n",
    "    \"n_rounds\": 16,\n",
    "    \"batch_size\": 1000,\n",
    "}\n",
    "device = \"cpu\"\n",
    "job_id = \"dev\"\n",
    "labels = {}\n"
   ]
  },
  {
   "cell_type": "code",
   "execution_count": 2,
   "id": "42c92424",
   "metadata": {
    "papermill": {},
    "tags": []
   },
   "outputs": [
    {
     "name": "stderr",
     "output_type": "stream",
     "text": [
      "/home/mpib/brinkmann/repros/algorithmic-institutions/.venv/lib/python3.9/site-packages/tqdm/auto.py:22: TqdmWarning: IProgress not found. Please update jupyter and ipywidgets. See https://ipywidgets.readthedocs.io/en/stable/user_install.html\n",
      "  from .autonotebook import tqdm as notebook_tqdm\n",
      "/home/mpib/brinkmann/repros/algorithmic-institutions/.venv/lib/python3.9/site-packages/torch/cuda/__init__.py:82: UserWarning: CUDA initialization: The NVIDIA driver on your system is too old (found version 10010). Please update your GPU driver by downloading and installing a new version from the URL: http://www.nvidia.com/Download/index.aspx Alternatively, go to: https://pytorch.org to install a PyTorch version that has been compiled with your version of the CUDA driver. (Triggered internally at  ../c10/cuda/CUDAFunctions.cpp:112.)\n",
      "  return torch._C._cuda_getDeviceCount() > 0\n"
     ]
    }
   ],
   "source": [
    "%load_ext autoreload\n",
    "%autoreload 2\n",
    "\n",
    "import torch as th\n",
    "import pandas as pd\n",
    "import os\n",
    "from itertools import count\n",
    "\n",
    "from aimanager.manager.memory_v1_2 import Memory\n",
    "from aimanager.manager.environment_v3 import ArtificialHumanEnv\n",
    "from aimanager.artificial_humans import AH_MODELS\n",
    "from aimanager.manager.manager import ArtificalManager\n",
    "from aimanager.utils.utils import make_dir\n",
    "from aimanager.utils.array_to_df import add_labels\n",
    "\n",
    "metrics_dir = os.path.join(data_dir, 'metrics')\n",
    "model_dir = os.path.join(data_dir, 'model')\n",
    "make_dir(metrics_dir)\n",
    "make_dir(model_dir)"
   ]
  },
  {
   "cell_type": "code",
   "execution_count": 3,
   "id": "e9400cf5",
   "metadata": {
    "papermill": {},
    "tags": []
   },
   "outputs": [],
   "source": [
    "rec_keys = [\n",
    "    'punishments', 'contributions', 'common_good', 'contributor_payoff', 'manager_payoff']\n",
    "\n",
    "def run_batch(manager, env, replay_mem=None, on_policy=True, update_step=None):\n",
    "\n",
    "    state = env.reset()\n",
    "    metric_list = []\n",
    "    for round_number in count():\n",
    "        _state = {**state, **env.get_batch_structure()}\n",
    "        encoded = manager.encode_pure(_state)\n",
    "\n",
    "        # Get q values from controller\n",
    "        q_values = manager.get_q(encoded, first=round_number == 0)\n",
    "    \n",
    "        if on_policy:\n",
    "            action = q_values.argmax(-1)\n",
    "        else:\n",
    "            # Sample a action\n",
    "            action = manager.eps_greedy(q_values=q_values)\n",
    "\n",
    "        state = env.punish(action)\n",
    "        \n",
    "        metrics = {k: state[k].to(th.float).mean().item() for k in rec_keys}\n",
    "\n",
    "        # pass actions to environment and advance by one step\n",
    "        state, reward, done = env.step()\n",
    "        if replay_mem is not None:\n",
    "            replay_mem.add(\n",
    "                episode_step=round_number, action=action, reward=reward, \n",
    "                **{k:v for k, v in encoded.items() if k not in ['edge_index', 'batch']})\n",
    "\n",
    "        metrics['next_reward'] = reward.mean().item()\n",
    "        metrics['q_min'] = q_values.min().item()\n",
    "        metrics['q_max'] = q_values.max().item()\n",
    "        metrics['q_mean'] = q_values.mean().item()\n",
    "        metrics['round_number'] = round_number\n",
    "        metrics['sampling'] = 'greedy' if on_policy else 'eps-greedy'\n",
    "        metrics['update_step'] = update_step\n",
    "        metric_list.append(metrics)\n",
    "        \n",
    "        if done:\n",
    "            break\n",
    "    return metric_list"
   ]
  },
  {
   "cell_type": "code",
   "execution_count": 4,
   "id": "02d293a0",
   "metadata": {
    "papermill": {},
    "tags": []
   },
   "outputs": [
    {
     "ename": "KeyboardInterrupt",
     "evalue": "",
     "output_type": "error",
     "traceback": [
      "\u001b[0;31m---------------------------------------------------------------------------\u001b[0m",
      "\u001b[0;31mKeyboardInterrupt\u001b[0m                         Traceback (most recent call last)",
      "\u001b[1;32m/home/mpib/brinkmann/repros/algorithmic-institutions/notebooks/manager/rl_manager_v3.ipynb Cell 4\u001b[0m in \u001b[0;36m<cell line: 18>\u001b[0;34m()\u001b[0m\n\u001b[1;32m     <a href='vscode-notebook-cell://ssh-remote%2Bcluster/home/mpib/brinkmann/repros/algorithmic-institutions/notebooks/manager/rl_manager_v3.ipynb#W3sdnNjb2RlLXJlbW90ZQ%3D%3D?line=15'>16</a>\u001b[0m metrics_list \u001b[39m=\u001b[39m []\n\u001b[1;32m     <a href='vscode-notebook-cell://ssh-remote%2Bcluster/home/mpib/brinkmann/repros/algorithmic-institutions/notebooks/manager/rl_manager_v3.ipynb#W3sdnNjb2RlLXJlbW90ZQ%3D%3D?line=17'>18</a>\u001b[0m \u001b[39mfor\u001b[39;00m update_step \u001b[39min\u001b[39;00m \u001b[39mrange\u001b[39m(n_update_steps):\n\u001b[1;32m     <a href='vscode-notebook-cell://ssh-remote%2Bcluster/home/mpib/brinkmann/repros/algorithmic-institutions/notebooks/manager/rl_manager_v3.ipynb#W3sdnNjb2RlLXJlbW90ZQ%3D%3D?line=18'>19</a>\u001b[0m     \u001b[39m# replay_mem.start_batch(env.groups)\u001b[39;00m\n\u001b[1;32m     <a href='vscode-notebook-cell://ssh-remote%2Bcluster/home/mpib/brinkmann/repros/algorithmic-institutions/notebooks/manager/rl_manager_v3.ipynb#W3sdnNjb2RlLXJlbW90ZQ%3D%3D?line=19'>20</a>\u001b[0m \n\u001b[1;32m     <a href='vscode-notebook-cell://ssh-remote%2Bcluster/home/mpib/brinkmann/repros/algorithmic-institutions/notebooks/manager/rl_manager_v3.ipynb#W3sdnNjb2RlLXJlbW90ZQ%3D%3D?line=20'>21</a>\u001b[0m     \u001b[39m# here we sample one batch of episodes and add them to the replay buffer\u001b[39;00m\n\u001b[0;32m---> <a href='vscode-notebook-cell://ssh-remote%2Bcluster/home/mpib/brinkmann/repros/algorithmic-institutions/notebooks/manager/rl_manager_v3.ipynb#W3sdnNjb2RlLXJlbW90ZQ%3D%3D?line=21'>22</a>\u001b[0m     off_policy_metrics \u001b[39m=\u001b[39m run_batch(manager, env, replay_mem, on_policy\u001b[39m=\u001b[39;49m\u001b[39mFalse\u001b[39;49;00m, update_step\u001b[39m=\u001b[39;49mupdate_step)\n\u001b[1;32m     <a href='vscode-notebook-cell://ssh-remote%2Bcluster/home/mpib/brinkmann/repros/algorithmic-institutions/notebooks/manager/rl_manager_v3.ipynb#W3sdnNjb2RlLXJlbW90ZQ%3D%3D?line=23'>24</a>\u001b[0m     replay_mem\u001b[39m.\u001b[39mnext_episode(update_step)\n\u001b[1;32m     <a href='vscode-notebook-cell://ssh-remote%2Bcluster/home/mpib/brinkmann/repros/algorithmic-institutions/notebooks/manager/rl_manager_v3.ipynb#W3sdnNjb2RlLXJlbW90ZQ%3D%3D?line=25'>26</a>\u001b[0m     \u001b[39m# allow manager to update itself\u001b[39;00m\n",
      "\u001b[1;32m/home/mpib/brinkmann/repros/algorithmic-institutions/notebooks/manager/rl_manager_v3.ipynb Cell 4\u001b[0m in \u001b[0;36mrun_batch\u001b[0;34m(manager, env, replay_mem, on_policy, update_step)\u001b[0m\n\u001b[1;32m     <a href='vscode-notebook-cell://ssh-remote%2Bcluster/home/mpib/brinkmann/repros/algorithmic-institutions/notebooks/manager/rl_manager_v3.ipynb#W3sdnNjb2RlLXJlbW90ZQ%3D%3D?line=16'>17</a>\u001b[0m \u001b[39melse\u001b[39;00m:\n\u001b[1;32m     <a href='vscode-notebook-cell://ssh-remote%2Bcluster/home/mpib/brinkmann/repros/algorithmic-institutions/notebooks/manager/rl_manager_v3.ipynb#W3sdnNjb2RlLXJlbW90ZQ%3D%3D?line=17'>18</a>\u001b[0m     \u001b[39m# Sample a action\u001b[39;00m\n\u001b[1;32m     <a href='vscode-notebook-cell://ssh-remote%2Bcluster/home/mpib/brinkmann/repros/algorithmic-institutions/notebooks/manager/rl_manager_v3.ipynb#W3sdnNjb2RlLXJlbW90ZQ%3D%3D?line=18'>19</a>\u001b[0m     action \u001b[39m=\u001b[39m manager\u001b[39m.\u001b[39meps_greedy(q_values\u001b[39m=\u001b[39mq_values)\n\u001b[0;32m---> <a href='vscode-notebook-cell://ssh-remote%2Bcluster/home/mpib/brinkmann/repros/algorithmic-institutions/notebooks/manager/rl_manager_v3.ipynb#W3sdnNjb2RlLXJlbW90ZQ%3D%3D?line=20'>21</a>\u001b[0m state \u001b[39m=\u001b[39m env\u001b[39m.\u001b[39;49mpunish(action)\n\u001b[1;32m     <a href='vscode-notebook-cell://ssh-remote%2Bcluster/home/mpib/brinkmann/repros/algorithmic-institutions/notebooks/manager/rl_manager_v3.ipynb#W3sdnNjb2RlLXJlbW90ZQ%3D%3D?line=22'>23</a>\u001b[0m metrics \u001b[39m=\u001b[39m {k: state[k]\u001b[39m.\u001b[39mto(th\u001b[39m.\u001b[39mfloat)\u001b[39m.\u001b[39mmean()\u001b[39m.\u001b[39mitem() \u001b[39mfor\u001b[39;00m k \u001b[39min\u001b[39;00m rec_keys}\n\u001b[1;32m     <a href='vscode-notebook-cell://ssh-remote%2Bcluster/home/mpib/brinkmann/repros/algorithmic-institutions/notebooks/manager/rl_manager_v3.ipynb#W3sdnNjb2RlLXJlbW90ZQ%3D%3D?line=24'>25</a>\u001b[0m \u001b[39m# pass actions to environment and advance by one step\u001b[39;00m\n",
      "File \u001b[0;32m/mnt/beegfs/home/brinkmann/repros/algorithmic-institutions/aimanager/manager/environment_v3.py:133\u001b[0m, in \u001b[0;36mArtificialHumanEnv.punish\u001b[0;34m(self, punishments)\u001b[0m\n\u001b[1;32m    131\u001b[0m \u001b[39massert\u001b[39;00m punishments\u001b[39m.\u001b[39mdtype \u001b[39m==\u001b[39m th\u001b[39m.\u001b[39mint64\n\u001b[1;32m    132\u001b[0m \u001b[39mself\u001b[39m\u001b[39m.\u001b[39mpunishments \u001b[39m=\u001b[39m punishments\n\u001b[0;32m--> 133\u001b[0m \u001b[39mself\u001b[39;49m\u001b[39m.\u001b[39;49mupdate_common_good()\n\u001b[1;32m    134\u001b[0m \u001b[39m# self.update_payoff()\u001b[39;00m\n\u001b[1;32m    135\u001b[0m \u001b[39mreturn\u001b[39;00m \u001b[39mself\u001b[39m\u001b[39m.\u001b[39mstate\n",
      "File \u001b[0;32m/mnt/beegfs/home/brinkmann/repros/algorithmic-institutions/aimanager/manager/environment_v3.py:101\u001b[0m, in \u001b[0;36mArtificialHumanEnv.update_common_good\u001b[0;34m(self)\u001b[0m\n\u001b[1;32m     98\u001b[0m sum_valid \u001b[39m=\u001b[39m scatter_sum(\n\u001b[1;32m     99\u001b[0m     \u001b[39mself\u001b[39m\u001b[39m.\u001b[39mvalid\u001b[39m.\u001b[39mto(th\u001b[39m.\u001b[39mfloat), \u001b[39mself\u001b[39m\u001b[39m.\u001b[39mbatch, dim\u001b[39m=\u001b[39m\u001b[39m0\u001b[39m, dim_size\u001b[39m=\u001b[39m\u001b[39mself\u001b[39m\u001b[39m.\u001b[39mbatch_size)\n\u001b[1;32m    100\u001b[0m common_good \u001b[39m=\u001b[39m (sum_contribution \u001b[39m*\u001b[39m \u001b[39m1.6\u001b[39m \u001b[39m-\u001b[39m sum_punishments) \u001b[39m/\u001b[39m sum_valid\n\u001b[0;32m--> 101\u001b[0m \u001b[39mself\u001b[39m\u001b[39m.\u001b[39mcommon_good \u001b[39m=\u001b[39m common_good[\u001b[39mself\u001b[39;49m\u001b[39m.\u001b[39;49mbatch]\n",
      "\u001b[0;31mKeyboardInterrupt\u001b[0m: "
     ]
    }
   ],
   "source": [
    "device = th.device(device)\n",
    "cpu = th.device('cpu')\n",
    "\n",
    "artifical_humans = AH_MODELS[artificial_humans_model].load(artificial_humans, device=device).to(device)\n",
    "\n",
    "env = ArtificialHumanEnv(\n",
    "    artifical_humans=artifical_humans, device=device, **env_args)\n",
    "\n",
    "manager = ArtificalManager(\n",
    "    n_contributions=env.n_contributions, n_punishments=env.n_punishments, \n",
    "    default_values=artifical_humans.default_values, device=device, **manager_args)\n",
    "\n",
    "replay_mem = Memory(\n",
    "    n_episode_steps=env.n_rounds, device=cpu, **replay_memory_args)\n",
    "\n",
    "metrics_list = []\n",
    "\n",
    "for update_step in range(n_update_steps):\n",
    "    # replay_mem.start_batch(env.groups)\n",
    "\n",
    "    # here we sample one batch of episodes and add them to the replay buffer\n",
    "    off_policy_metrics = run_batch(manager, env, replay_mem, on_policy=False, update_step=update_step)\n",
    "\n",
    "    replay_mem.next_episode(update_step)\n",
    "    \n",
    "    # allow manager to update itself\n",
    "    sample = replay_mem.get_random(device=device)\n",
    "    graph = env.get_batch_structure()\n",
    "\n",
    "    if sample is not None:\n",
    "        loss = manager.update(update_step, **sample, **graph)\n",
    "    \n",
    "    if (update_step % eval_period) == 0:\n",
    "        metrics_list.extend([{**m, 'loss': l.item()} for m, l in zip(off_policy_metrics, loss)])\n",
    "        metrics_list.extend(\n",
    "            run_batch(manager, env, replay_mem=None, on_policy=True, update_step=update_step))\n",
    "\n",
    "model_file = os.path.join(model_dir, f'{job_id}.pt')\n",
    "\n",
    "manager.save(model_file)\n"
   ]
  },
  {
   "cell_type": "code",
   "execution_count": null,
   "id": "91242da9",
   "metadata": {
    "papermill": {},
    "tags": []
   },
   "outputs": [],
   "source": [
    "# lm = ArtificalManager.load(model_file, device=th.device('cpu'))"
   ]
  },
  {
   "cell_type": "code",
   "execution_count": null,
   "id": "3ee6155e",
   "metadata": {
    "papermill": {},
    "tags": []
   },
   "outputs": [],
   "source": [
    "id_vars = ['round_number', 'sampling', 'update_step']\n",
    "value_vars = ['punishments', 'contributions', 'common_good', 'contributor_payoff',\n",
    "       'manager_payoff', 'next_reward', 'q_min', 'q_max', 'q_mean', 'loss']\n",
    "\n",
    "df = pd.DataFrame.from_records(metrics_list)\n",
    "\n",
    "df = df.melt(id_vars=id_vars, value_vars=value_vars, var_name='metric')\n",
    "\n",
    "df = add_labels(df, {**labels, 'job_id': job_id})\n",
    "\n",
    "df.to_parquet(os.path.join(metrics_dir, f'{job_id}.parquet'))"
   ]
  }
 ],
 "metadata": {
  "kernelspec": {
   "display_name": "Python 3.9.10 ('.venv': venv)",
   "language": "python",
   "name": "python3"
  },
  "language_info": {
   "codemirror_mode": {
    "name": "ipython",
    "version": 3
   },
   "file_extension": ".py",
   "mimetype": "text/x-python",
   "name": "python",
   "nbconvert_exporter": "python",
   "pygments_lexer": "ipython3",
   "version": "3.9.10"
  },
  "papermill": {
   "default_parameters": {},
   "environment_variables": {},
   "input_path": "notebooks/manager/rl_manager_v3.ipynb",
   "output_path": "notebooks/manager/rl_manager_v3.ipynb",
   "parameters": {
    "artificial_humans": "../../data/artificial_humans/ah_1_1_simple/data/model.pt",
    "artificial_humans_model": "graph",
    "data_dir": "../../data/manager_v3/dev/",
    "device": "cpu",
    "env_args": {
     "batch_size": 1000,
     "n_agents": 4,
     "n_contributions": 21,
     "n_punishments": 31,
     "n_rounds": 16
    },
    "eval_period": 20,
    "job_id": "dev",
    "labels": {},
    "manager_args": {
     "eps": 0.2,
     "gamma": 1,
     "model_args": {
      "add_edge_model": false,
      "add_global_model": false,
      "add_rnn": false,
      "b_encoding": [
       {
        "encoding": "onehot",
        "n_levels": 16,
        "name": "round_number"
       }
      ],
      "hidden_size": 5,
      "x_encoding": [
       {
        "encoding": "numeric",
        "n_levels": 21,
        "name": "contributions"
       }
      ]
     },
     "opt_args": {
      "lr": 0.003
     },
     "target_update_freq": 20
    },
    "n_update_steps": 1000,
    "replay_memory_args": {
     "n_episodes": 100
    }
   },
   "version": "2.3.4"
  },
  "vscode": {
   "interpreter": {
    "hash": "b1198fd9370ee0cf82025240fa26724f68bfab1e3f74dbb4acdc06e7861d0dbe"
   }
  }
 },
 "nbformat": 4,
 "nbformat_minor": 5
}
