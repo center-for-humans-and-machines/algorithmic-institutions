{
 "cells": [
  {
   "cell_type": "code",
   "execution_count": 5,
   "id": "b0983680",
   "metadata": {
    "tags": [
     "injected-parameters"
    ]
   },
   "outputs": [],
   "source": [
    "# Parameters\n",
    "artificial_humans = \"../../data/training/ah_10/data/model.pt\"\n",
    "artificial_humans_model = \"graph\"\n",
    "data_path = \"../../train_data/manager/v2/dev/\"\n",
    "manager_args = {\n",
    "    \"opt_args\": {\"lr\": 0.003},\n",
    "    \"gamma\": 1.0,\n",
    "    \"eps\": 0.2,\n",
    "    \"target_update_freq\": 20,\n",
    "    \"model_args\": {\n",
    "        \"hidden_size\": 5,\n",
    "        \"add_rnn\": True,\n",
    "        \"add_edge_model\": True,\n",
    "        \"add_global_model\": False,\n",
    "        \"x_encoding\": [\n",
    "            {\"name\": \"contributions\", \"n_levels\": 21, \"encoding\": \"numeric\"},\n",
    "            {\"name\": \"prev_punishments\", \"n_levels\": 31, \"encoding\": \"numeric\"},\n",
    "        ],\n",
    "        \"u_encoding\": [\n",
    "            {\"name\": \"round_number\", \"n_levels\": 16, \"encoding\": \"numeric\"},\n",
    "            {\"name\": \"prev_common_good\", \"norm\": 128, \"etype\": \"float\"},\n",
    "        ],\n",
    "    },\n",
    "}\n",
    "replay_memory_args = {\"n_batches\": 20}\n",
    "n_update_steps = 10\n",
    "eval_period = 5\n",
    "env_args = {\n",
    "    \"n_agents\": 4,\n",
    "    \"n_contributions\": 21,\n",
    "    \"n_punishments\": 31,\n",
    "    \"n_rounds\": 16,\n",
    "    \"batch_size\": 1000,\n",
    "}\n",
    "device = \"cpu\"\n",
    "job_id = \"dev\"\n",
    "labels = {}\n"
   ]
  },
  {
   "cell_type": "code",
   "execution_count": 6,
   "id": "42c92424",
   "metadata": {
    "papermill": {},
    "tags": []
   },
   "outputs": [
    {
     "name": "stdout",
     "output_type": "stream",
     "text": [
      "The autoreload extension is already loaded. To reload it, use:\n",
      "  %reload_ext autoreload\n"
     ]
    }
   ],
   "source": [
    "%load_ext autoreload\n",
    "%autoreload 2\n",
    "\n",
    "import torch as th\n",
    "import pandas as pd\n",
    "import os\n",
    "from itertools import count\n",
    "\n",
    "from aimanager.manager.memory import Memory\n",
    "from aimanager.manager.environment import ArtificialHumanEnv\n",
    "from aimanager.artificial_humans import AH_MODELS\n",
    "from aimanager.manager.manager import ArtificalManager\n",
    "from aimanager.utils.utils import make_dir\n",
    "from aimanager.utils.array_to_df import add_labels\n",
    "\n",
    "metrics_folder = os.path.join(data_path)\n",
    "make_dir(metrics_folder)\n"
   ]
  },
  {
   "cell_type": "code",
   "execution_count": 7,
   "id": "e9400cf5",
   "metadata": {
    "papermill": {},
    "tags": []
   },
   "outputs": [],
   "source": [
    "rec_keys = [\n",
    "    'punishments', 'contributions', 'common_good', 'contributor_payoff', 'manager_payoff']\n",
    "\n",
    "def run_batch(manager, env, replay_mem=None, on_policy=True, update_step=None):\n",
    "    state = env.reset()\n",
    "    metric_list = []\n",
    "    for round_number in count():      \n",
    "        encoded = manager.encode_pure(state)\n",
    "        \n",
    "        batch_structure = env.get_batch_structure()\n",
    "\n",
    "        obs = {**encoded, **batch_structure}\n",
    "\n",
    "        # Get q values from controller\n",
    "        q_values = manager.get_q(obs, first=round_number == 0)\n",
    "    \n",
    "        if on_policy:\n",
    "            action = q_values.argmax(-1)\n",
    "        else:\n",
    "            # Sample a action\n",
    "            action = manager.eps_greedy(q_values=q_values)\n",
    "\n",
    "        state = env.punish(action)\n",
    "        \n",
    "        metrics = {k: state[k].to(th.float).mean().item() for k in rec_keys}\n",
    "\n",
    "        # pass actions to environment and advance by one step\n",
    "        state, reward, done = env.step()\n",
    "        if replay_mem is not None:\n",
    "            replay_mem.add(\n",
    "                round_number=round_number, action=action, reward=reward, \n",
    "                **encoded)\n",
    "\n",
    "        metrics['next_reward'] = reward.mean().item()\n",
    "        metrics['q_min'] = q_values.min().item()\n",
    "        metrics['q_max'] = q_values.max().item()\n",
    "        metrics['q_mean'] = q_values.mean().item()\n",
    "        metrics['round_number'] = round_number\n",
    "        metrics['sampling'] = 'greedy' if on_policy else 'eps-greedy'\n",
    "        metrics['update_step'] = update_step\n",
    "        metric_list.append(metrics)\n",
    "         \n",
    "        if done:\n",
    "            break\n",
    "    return metric_list"
   ]
  },
  {
   "cell_type": "code",
   "execution_count": 8,
   "id": "02d293a0",
   "metadata": {
    "papermill": {},
    "tags": []
   },
   "outputs": [],
   "source": [
    "device = th.device(device)\n",
    "cpu = th.device('cpu')\n",
    "\n",
    "artifical_humans = AH_MODELS[artificial_humans_model].load(artificial_humans).to(device)\n",
    "\n",
    "env = ArtificialHumanEnv(\n",
    "    artifical_humans=artifical_humans, device=device, **env_args)\n",
    "\n",
    "manager = ArtificalManager(\n",
    "    n_contributions=env.n_contributions, n_punishments=env.n_punishments, \n",
    "    default_values=artifical_humans.default_values, device=device, **manager_args)\n",
    "\n",
    "replay_mem = Memory(\n",
    "    n_rounds=env.n_rounds, device=cpu, batch_size=env.batch_size, group_size=env.n_agents,\n",
    "    **replay_memory_args)\n",
    "\n",
    "metrics_list = []\n",
    "\n",
    "for update_step in range(n_update_steps):\n",
    "    replay_mem.start_batch(env.groups)\n",
    "\n",
    "    metrics_list.extend(\n",
    "        run_batch(manager, env, replay_mem, on_policy=False, update_step=update_step))\n",
    "\n",
    "    replay_mem.finish_batch()\n",
    "    \n",
    "    # allow manager to update itself\n",
    "    sample = replay_mem.sample(device=device)\n",
    "    graph = env.get_batch_structure()\n",
    "\n",
    "    if sample is not None:\n",
    "        manager.update(update_step, **sample, **graph)\n",
    "    \n",
    "    if (update_step % eval_period) == 0:\n",
    "        metrics_list.extend(\n",
    "            run_batch(manager, env, replay_mem=None, on_policy=True, update_step=update_step))\n"
   ]
  },
  {
   "cell_type": "code",
   "execution_count": 9,
   "id": "3ee6155e",
   "metadata": {
    "papermill": {},
    "tags": []
   },
   "outputs": [],
   "source": [
    "id_vars = ['round_number', 'sampling', 'update_step']\n",
    "value_vars = ['punishments', 'contributions', 'common_good', 'contributor_payoff',\n",
    "       'manager_payoff', 'next_reward', 'q_min', 'q_max', 'q_mean']\n",
    "\n",
    "df = pd.DataFrame.from_records(metrics_list)\n",
    "\n",
    "df = df.melt(id_vars=id_vars, value_vars=value_vars, var_name='metric')\n",
    "\n",
    "df = add_labels(df, labels)\n",
    "\n",
    "df.to_parquet(os.path.join(metrics_folder, f'{job_id}.parquet'))"
   ]
  }
 ],
 "metadata": {
  "kernelspec": {
   "display_name": "Python 3.9.1 ('.venv': venv)",
   "language": "python",
   "name": "python3"
  },
  "language_info": {
   "codemirror_mode": {
    "name": "ipython",
    "version": 3
   },
   "file_extension": ".py",
   "mimetype": "text/x-python",
   "name": "python",
   "nbconvert_exporter": "python",
   "pygments_lexer": "ipython3",
   "version": "3.9.1"
  },
  "papermill": {
   "default_parameters": {},
   "environment_variables": {},
   "input_path": "notebooks/manager/rl_manager_v3.ipynb",
   "output_path": "notebooks/manager/rl_manager_v3.ipynb",
   "parameters": {
    "artificial_humans": "../../data/training/ah_10/data/model.pt",
    "artificial_humans_model": "graph",
    "data_path": "../../train_data/manager/v2/dev/",
    "device": "cpu",
    "env_args": {
     "batch_size": 1000,
     "n_agents": 4,
     "n_contributions": 21,
     "n_punishments": 31,
     "n_rounds": 16
    },
    "eval_period": 5,
    "job_id": "dev",
    "manager_args": {
     "eps": 0.2,
     "gamma": 1,
     "model_args": {
      "add_edge_model": true,
      "add_global_model": false,
      "add_rnn": true,
      "hidden_size": 5,
      "u_encoding": [
       {
        "encoding": "numeric",
        "n_levels": 16,
        "name": "round_number"
       },
       {
        "etype": "float",
        "name": "prev_common_good",
        "norm": 128
       }
      ],
      "x_encoding": [
       {
        "encoding": "numeric",
        "n_levels": 21,
        "name": "contributions"
       },
       {
        "encoding": "numeric",
        "n_levels": 31,
        "name": "prev_punishments"
       }
      ]
     },
     "opt_args": {
      "lr": 0.003
     },
     "target_update_freq": 20
    },
    "n_update_steps": 10,
    "replay_memory_args": {
     "n_batches": 20
    }
   },
   "version": "2.3.4"
  },
  "vscode": {
   "interpreter": {
    "hash": "83484b78e3eced0c1ebbaf37dd8049c2f9102f6dcade2a60a08a368fc0daac5f"
   }
  }
 },
 "nbformat": 4,
 "nbformat_minor": 5
}
