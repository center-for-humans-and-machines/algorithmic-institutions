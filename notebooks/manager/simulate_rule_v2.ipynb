{
 "cells": [
  {
   "cell_type": "code",
   "execution_count": 1,
   "id": "67de35c5",
   "metadata": {
    "tags": [
     "injected-parameters"
    ]
   },
   "outputs": [],
   "source": [
    "# Parameters\n",
    "artificial_humans = {\n",
    "    \"simple\": \"../../data/artificial_humans/ah_1_1_simple/data/model.pt\",\n",
    "    \"complex\": \"../../data/artificial_humans/ah_1_1/data/model.pt\",\n",
    "}\n",
    "artificial_humans_model = \"graph\"\n",
    "output_path = \"../../data/manager/simulate_rule/v2/dev\"\n",
    "n_episode_steps = 16\n",
    "manager_args = {\"s\": 0, \"b\": 0, \"c\": 0}\n",
    "n_episodes = 1000\n",
    "agents = None\n",
    "round_numbers = None\n"
   ]
  },
  {
   "cell_type": "code",
   "execution_count": 2,
   "id": "42c92424",
   "metadata": {
    "papermill": {},
    "tags": []
   },
   "outputs": [
    {
     "name": "stderr",
     "output_type": "stream",
     "text": [
      "/Users/levinbrinkmann/repros/algorithmic-institutions/.venv/lib/python3.9/site-packages/tqdm/auto.py:22: TqdmWarning: IProgress not found. Please update jupyter and ipywidgets. See https://ipywidgets.readthedocs.io/en/stable/user_install.html\n",
      "  from .autonotebook import tqdm as notebook_tqdm\n"
     ]
    }
   ],
   "source": [
    "%load_ext autoreload\n",
    "%autoreload 2\n",
    "\n",
    "import os\n",
    "import torch as th\n",
    "import numpy as np\n",
    "import pandas as pd\n",
    "from itertools import count\n",
    "from aimanager.utils.utils import make_dir\n",
    "\n",
    "from aimanager.manager.environment_v3 import ArtificialHumanEnv\n",
    "from aimanager.artificial_humans import AH_MODELS\n",
    "\n",
    "output_path = os.path.join(output_path, 'data')\n",
    "\n",
    "make_dir(output_path)"
   ]
  },
  {
   "cell_type": "code",
   "execution_count": 3,
   "id": "550f4cec",
   "metadata": {
    "papermill": {},
    "tags": []
   },
   "outputs": [],
   "source": [
    "class RuleManager:\n",
    "    def __init__(self, s, b, c, agents=None, round_numbers=None):\n",
    "        self.s = s\n",
    "        self.b = b\n",
    "        self.c = c\n",
    "        self.agents = agents\n",
    "        self.round_numbers = round_numbers\n",
    "\n",
    "    def get_punishment(self, contributions, round_number,  **_):\n",
    "        punishments = th.zeros_like(contributions)\n",
    "        if (self.round_numbers is None) or (round_number[0] in self.round_numbers):\n",
    "            punishments = (20-contributions) * self.s + (20 != contributions).to(th.float) * self.c - self.b\n",
    "            punishments = punishments.round().to(th.int64)\n",
    "            punishments = th.minimum(th.maximum(punishments, th.zeros_like(punishments)), th.full_like(punishments, 30))\n",
    "        if self.agents is not None:\n",
    "            punishments_ = th.zeros_like(contributions)\n",
    "            punishments_[self.agents] = punishments[self.agents]\n",
    "            punishments = punishments_\n",
    "\n",
    "        return punishments"
   ]
  },
  {
   "cell_type": "code",
   "execution_count": 4,
   "id": "02d293a0",
   "metadata": {
    "papermill": {},
    "tags": []
   },
   "outputs": [],
   "source": [
    "device = th.device('cpu')\n",
    "\n",
    "rec_keys = ['punishments', 'contributions', 'common_good', 'contributor_payoff', 'manager_payoff']\n",
    "metric_list = []\n",
    "\n",
    "for ah_name, ah in artificial_humans.items():\n",
    "    ah = AH_MODELS[artificial_humans_model].load(ah).to(device)\n",
    "    env = ArtificialHumanEnv(\n",
    "        artifical_humans=ah, n_agents=4, n_contributions=21, n_punishments=31, batch_size=n_episodes, n_rounds=16, device=device)\n",
    "    for s in np.arange(0, 5.1, 0.2):\n",
    "        args = {**manager_args, 's': s}\n",
    "        manager = RuleManager(agents=agents, round_numbers=round_numbers, **args)\n",
    "        state = env.reset()\n",
    "        for round_number in count():\n",
    "            action = manager.get_punishment(**state)\n",
    "            state = env.punish(action)\n",
    "            \n",
    "            metrics = {\n",
    "                k: state[k].to(th.float).mean().item() for k in rec_keys}\n",
    "            \n",
    "            metrics = {**metrics, **args, 'artificial_humans': ah_name}\n",
    "\n",
    "            # pass actions to environment and advance by one step\n",
    "            state, reward, done = env.step()\n",
    "\n",
    "            metrics['next_reward'] = reward.mean().item()\n",
    "            metrics['round_number'] = round_number\n",
    "            metric_list.append(metrics)\n",
    "            # break\n",
    "            if done:\n",
    "                break\n"
   ]
  },
  {
   "cell_type": "code",
   "execution_count": 5,
   "id": "8931880c",
   "metadata": {},
   "outputs": [
    {
     "data": {
      "text/plain": [
       "torch.Size([4000, 1])"
      ]
     },
     "execution_count": 5,
     "metadata": {},
     "output_type": "execute_result"
    }
   ],
   "source": [
    "state['prev_punishments'].shape"
   ]
  },
  {
   "cell_type": "code",
   "execution_count": 6,
   "id": "926b07b2",
   "metadata": {
    "papermill": {},
    "tags": []
   },
   "outputs": [],
   "source": [
    "id_vars = ['round_number', 's', 'c', 'b', 'artificial_humans']\n",
    "\n",
    "df = pd.DataFrame.from_records(metric_list)\n",
    "\n",
    "value_vars = list(set(df.columns) - set(id_vars))\n",
    "df = df.melt(id_vars=id_vars, value_vars=value_vars, var_name='metric')\n",
    "\n",
    "df.to_parquet(os.path.join(output_path, f'metrics.parquet'))"
   ]
  }
 ],
 "metadata": {
  "kernelspec": {
   "display_name": "Python 3.9.10 ('.venv': venv)",
   "language": "python",
   "name": "python3"
  },
  "language_info": {
   "codemirror_mode": {
    "name": "ipython",
    "version": 3
   },
   "file_extension": ".py",
   "mimetype": "text/x-python",
   "name": "python",
   "nbconvert_exporter": "python",
   "pygments_lexer": "ipython3",
   "version": "3.9.10"
  },
  "papermill": {
   "default_parameters": {},
   "environment_variables": {},
   "input_path": "notebooks/manager/simulate_rule_v2.ipynb",
   "output_path": "notebooks/manager/simulate_rule_v2.ipynb",
   "parameters": {
    "agents": null,
    "artificial_humans": {
     "complex": "../../data/artificial_humans/ah_1_1/data/model.pt",
     "simple": "../../data/artificial_humans/ah_1_1_simple/data/model.pt"
    },
    "artificial_humans_model": "graph",
    "manager_args": {
     "b": 0,
     "c": 0,
     "s": 0
    },
    "n_episode_steps": 16,
    "n_episodes": 100,
    "output_path": "../../data/manager/simulate_rule/v2/dev",
    "round_numbers": null
   },
   "version": "2.3.4"
  },
  "vscode": {
   "interpreter": {
    "hash": "b1198fd9370ee0cf82025240fa26724f68bfab1e3f74dbb4acdc06e7861d0dbe"
   }
  }
 },
 "nbformat": 4,
 "nbformat_minor": 5
}
