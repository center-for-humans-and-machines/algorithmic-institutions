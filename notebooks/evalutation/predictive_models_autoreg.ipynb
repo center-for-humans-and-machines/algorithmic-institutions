{
 "cells": [
  {
   "cell_type": "code",
   "execution_count": 17,
   "id": "61e8cafa",
   "metadata": {
    "tags": [
     "injected-parameters"
    ]
   },
   "outputs": [],
   "source": [
    "# Parameters\n",
    "run = \"03_punishment_autoregressive\"\n",
    "base_folder = \"behavioral_cloning\"\n",
    "target = \"punishments\"\n",
    "test = \"t-test_paired\"\n",
    "selection = {\"architecture\": \"node+edge\"}\n",
    "order = [\"node\", \"node+edge\"]\n",
    "pairs = [[\"node\", \"node+edge\"]]\n"
   ]
  },
  {
   "cell_type": "code",
   "execution_count": 18,
   "id": "b246b326",
   "metadata": {
    "papermill": {},
    "tags": []
   },
   "outputs": [
    {
     "name": "stdout",
     "output_type": "stream",
     "text": [
      "The autoreload extension is already loaded. To reload it, use:\n",
      "  %reload_ext autoreload\n"
     ]
    }
   ],
   "source": [
    "%load_ext autoreload\n",
    "%autoreload 2\n",
    "\n",
    "import os\n",
    "import numpy as np\n",
    "import pandas as pd\n",
    "import seaborn as sns\n",
    "import torch as th\n",
    "import matplotlib.pyplot as plt\n",
    "from aimanager.utils.utils import make_dir\n",
    "from aimanager.utils.merge import merge_files_by_name\n",
    "\n",
    "sns.set(rc={'axes.facecolor':'white', 'figure.facecolor':'white'})\n",
    "\n",
    "data_folder = os.path.join('../../data', base_folder, run)\n",
    "plot_folder = f'plots/{base_folder}_{run}'\n",
    "\n",
    "make_dir(plot_folder)"
   ]
  },
  {
   "cell_type": "code",
   "execution_count": 19,
   "id": "106538af",
   "metadata": {
    "papermill": {},
    "tags": []
   },
   "outputs": [],
   "source": [
    "def _plot_heatmap(data, x, y, values, normalise=True):\n",
    "    dfg = data.groupby([x,y])[values].sum()\n",
    "    dfg = dfg.reset_index()\n",
    "    if normalise:\n",
    "        dfg[values] = dfg[values] / dfg.groupby([x])[values].transform('sum')\n",
    "    cm = dfg.pivot_table(index=x, columns=y, values=values)\n",
    "    cm = cm.sort_index(ascending=False)\n",
    "    sns.heatmap(cm)\n",
    "\n",
    "def merge_data(data_folder, metric_name):\n",
    "    folder = os.path.join(data_folder, metric_name)\n",
    "    dfs = [pd.read_parquet(os.path.join(folder, file)) for file in os.listdir(folder)]\n",
    "    df = pd.concat(dfs).reset_index(drop=True)\n",
    "    return df\n"
   ]
  },
  {
   "cell_type": "code",
   "execution_count": 20,
   "id": "f9b21dc0",
   "metadata": {
    "papermill": {},
    "tags": []
   },
   "outputs": [
    {
     "name": "stdout",
     "output_type": "stream",
     "text": [
      "[ 0.  1.  2.  3.  4.  5.  6.  7.  8.  9. nan]\n"
     ]
    }
   ],
   "source": [
    "metrics_df = merge_data(data_folder, 'metrics')\n",
    "print(metrics_df['cv_split'].unique())\n",
    "try:\n",
    "    confusion_matrix_df = merge_data(data_folder, 'confusion_matrix')\n",
    "except:\n",
    "    confusion_matrix_df = None\n",
    "metrics_df['shuffle_feature'] = metrics_df['shuffle_feature'].fillna('none')\n",
    "labels = list(set(metrics_df.columns) - set(['job_id', 'name', 'value', 'cv_split', 'epoch', 'set', 'strategy', 'shuffle_feature', 'mask', 'n_pred']))\n"
   ]
  },
  {
   "cell_type": "code",
   "execution_count": 21,
   "id": "1622490f",
   "metadata": {
    "papermill": {},
    "tags": []
   },
   "outputs": [],
   "source": [
    "df = metrics_df.copy()\n",
    "\n",
    "\n",
    "focus = [*labels, 'set']\n",
    "\n",
    "sel = {\n",
    "    'name': 'log_loss',\n",
    "    'shuffle_feature': 'none',\n",
    "}\n",
    "\n",
    "w = pd.concat(\n",
    "    (df[k].isin(v) if isinstance(v, list) else df[k] == v\n",
    "    for k,v in sel.items()\n",
    "    if (k not in focus) or isinstance(v, list)), axis=1\n",
    ").all(1)\n",
    "\n",
    "df = df[w]\n",
    "\n",
    "fg = sns.relplot(\n",
    "    data=df, \n",
    "    x='epoch', y='value',\n",
    "    hue=focus[0] if len(focus) >= 1 else None, \n",
    "    style=focus[1] if len(focus) >= 2 else None,\n",
    "    col=focus[2] if len(focus) >= 3 else None, \n",
    "    row=focus[3] if len(focus) >= 4 else None, \n",
    "    kind='line', ci=None)\n",
    "\n",
    "fg.set(ylabel='cross entropy')\n",
    "\n",
    "fg.savefig(os.path.join(plot_folder, 'learning_curve_model.jpg'))"
   ]
  },
  {
   "cell_type": "code",
   "execution_count": 22,
   "id": "10a18db1",
   "metadata": {
    "papermill": {},
    "tags": []
   },
   "outputs": [],
   "source": [
    "df = metrics_df.copy()\n",
    "\n",
    "\n",
    "focus = [*labels, 'n_pred']\n",
    "\n",
    "sel = {\n",
    "    'set': 'test',\n",
    "    'name': 'log_loss',\n",
    "    'shuffle_feature': 'none',\n",
    "}\n",
    "\n",
    "w = pd.concat(\n",
    "    (df[k].isin(v) if isinstance(v, list) else df[k] == v\n",
    "    for k,v in sel.items()\n",
    "    if (k not in focus) or isinstance(v, list)), axis=1\n",
    ").all(1)\n",
    "\n",
    "df = df[w]\n",
    "\n",
    "fg = sns.relplot(\n",
    "    data=df, \n",
    "    x='epoch', y='value',\n",
    "    hue=focus[0] if len(focus) >= 1 else None, \n",
    "    style=focus[1] if len(focus) >= 2 else None,\n",
    "    col=focus[2] if len(focus) >= 3 else None, \n",
    "    row=focus[3] if len(focus) >= 4 else None, \n",
    "    kind='line', ci=None)\n",
    "\n",
    "fg.set(ylabel='cross entropy')\n",
    "\n",
    "fg.savefig(os.path.join(plot_folder, 'learning_curve_model_npred.jpg'))"
   ]
  },
  {
   "cell_type": "code",
   "execution_count": 23,
   "id": "7930b6f2",
   "metadata": {
    "papermill": {},
    "tags": []
   },
   "outputs": [],
   "source": [
    "import statsmodels.formula.api as smf\n",
    "\n",
    "\n",
    "df = metrics_df.copy()\n",
    "\n",
    "w = (\n",
    "    (df['name'] == 'log_loss') &\n",
    "    (df['set'] == 'test') &\n",
    "    (df['shuffle_feature'] == 'none')\n",
    ")\n",
    "df = df[w].copy()\n",
    "w_max = (df['epoch'] > (0.8 * df['epoch'].max()))\n",
    "df = df[w_max].copy()"
   ]
  },
  {
   "cell_type": "code",
   "execution_count": 24,
   "id": "f6d0cf02",
   "metadata": {
    "papermill": {},
    "tags": []
   },
   "outputs": [],
   "source": [
    "df = metrics_df.copy()\n",
    "\n",
    "focus = labels\n",
    "\n",
    "w = (\n",
    "    (df['name'] == 'log_loss') &\n",
    "    (df['set'] == 'test') &\n",
    "    (df['shuffle_feature'] == 'none')\n",
    ")\n",
    "df = df[w].copy()\n",
    "w_max = (df['epoch'] > (0.8 * df['epoch'].max()))\n",
    "df = df[w_max].copy()\n",
    "\n",
    "\n",
    "fg = sns.catplot(\n",
    "    data=df, \n",
    "    y='value',\n",
    "    x=focus[0] if len(focus) >= 1 else None, \n",
    "    hue=focus[1] if len(focus) >= 2 else None,\n",
    "    col=focus[2] if len(focus) >= 3 else None, \n",
    "    row=focus[3] if len(focus) >= 4 else None, \n",
    "    kind='box')\n",
    "\n",
    "fg.set(ylabel='cross entropy')\n",
    "\n",
    "fg.savefig(os.path.join(plot_folder, 'cross_entropy_box.jpg'))"
   ]
  },
  {
   "cell_type": "code",
   "execution_count": 25,
   "id": "d835f9c4",
   "metadata": {
    "papermill": {},
    "tags": []
   },
   "outputs": [],
   "source": [
    "df = metrics_df.copy()\n",
    "\n",
    "focus = [*labels, 'n_pred']\n",
    "\n",
    "w = (\n",
    "    (df['name'] == 'log_loss') &\n",
    "    (df['set'] == 'test') &\n",
    "    (df['shuffle_feature'] == 'none')\n",
    ")\n",
    "df = df[w].copy()\n",
    "w_max = (df['epoch'] > (0.8 * df['epoch'].max()))\n",
    "df = df[w_max].copy()\n",
    "\n",
    "\n",
    "fg = sns.catplot(\n",
    "    data=df, \n",
    "    y='value',\n",
    "    x=focus[0] if len(focus) >= 1 else None, \n",
    "    hue=focus[1] if len(focus) >= 2 else None,\n",
    "    col=focus[2] if len(focus) >= 3 else None, \n",
    "    row=focus[3] if len(focus) >= 4 else None, \n",
    "    kind='box')\n",
    "\n",
    "fg.set(ylabel='cross entropy')\n",
    "\n",
    "fg.savefig(os.path.join(plot_folder, 'cross_entropy_box_npred.jpg'))"
   ]
  },
  {
   "cell_type": "code",
   "execution_count": 26,
   "id": "f2b1587b",
   "metadata": {
    "papermill": {},
    "tags": []
   },
   "outputs": [
    {
     "name": "stdout",
     "output_type": "stream",
     "text": [
      "node vs. node+edge: t-test paired samples, P_val:1.238e-04 t=6.410e+00\n"
     ]
    }
   ],
   "source": [
    "df = metrics_df.copy()\n",
    "\n",
    "from statannotations.Annotator import Annotator\n",
    "\n",
    "w = (\n",
    "    (df['name'] == 'log_loss') &\n",
    "    (df['set'] == 'test') &\n",
    "    (df['shuffle_feature'] == 'none')\n",
    ")\n",
    "df = df[w].copy()\n",
    "w_max = (df['epoch'] > (0.8 * df['epoch'].max()))\n",
    "df = df[w_max].copy()\n",
    "\n",
    "dfm = df.groupby([*labels, 'cv_split'])['value'].mean().reset_index()\n",
    "dfm['mean_value'] = df.groupby(labels)['value'].transform('mean')\n",
    "\n",
    "dfm[labels[0]] = dfm[labels[0]].astype(str)\n",
    "\n",
    "\n",
    "ax = sns.barplot(\n",
    "    data=dfm, \n",
    "    order=order,\n",
    "    y='value',\n",
    "    x=labels[0]\n",
    ")\n",
    "if pairs is not None:\n",
    "    annotator = Annotator(ax, pairs, data=dfm, x=labels[0], y='value', order=order)\n",
    "    annotator.configure(test=test, text_format='simple', loc='inside')\n",
    "    annotator.apply_and_annotate()\n",
    "\n",
    "plt.savefig(os.path.join(plot_folder, 'model_comparision.jpg'))"
   ]
  },
  {
   "cell_type": "code",
   "execution_count": 27,
   "id": "0d0a2211",
   "metadata": {
    "papermill": {},
    "tags": []
   },
   "outputs": [],
   "source": [
    "df = metrics_df.copy()\n",
    "\n",
    "w = (\n",
    "    (df['name'] == 'log_loss') &\n",
    "    (df['set'] == 'test') \n",
    ")\n",
    "df = df[w].copy()\n",
    "\n",
    "df_p = df.pivot(index=[*labels, 'mask', 'name', 'cv_split', 'set', 'epoch'], columns='shuffle_feature', values='value')\n",
    "df_p = df_p.sub(df_p['none'], axis=0)\n",
    "df_p = df_p.stack()\n",
    "df_p.name = 'value'\n",
    "df_p = df_p.reset_index()\n",
    "df_p = df_p[df_p['shuffle_feature'].isin(['prev_contribution', 'prev_punishment', 'prev_contribution_valid'])]"
   ]
  },
  {
   "cell_type": "code",
   "execution_count": 28,
   "id": "ec284eef",
   "metadata": {
    "papermill": {},
    "tags": []
   },
   "outputs": [],
   "source": [
    "focus = ['shuffle_feature']\n",
    "\n",
    "sel = {\n",
    "    'name': 'log_loss',\n",
    "    'set': 'test',\n",
    "    **selection\n",
    "}\n",
    "\n",
    "w = pd.concat(\n",
    "    (df_p[k].isin(v) if isinstance(v, list) else df_p[k] == v\n",
    "    for k,v in sel.items()\n",
    "    if (k not in focus) or isinstance(v, list)), axis=1\n",
    ").all(1)\n",
    "\n",
    "\n",
    "dfs = df_p[w].copy()\n",
    "\n",
    "ax = sns.barplot(\n",
    "    data=df_p, \n",
    "    x='shuffle_feature', y='value',\n",
    ")\n",
    "\n",
    "ax.set(ylabel='loss in cross entropy', xlabel='shuffled feature')\n",
    "\n",
    "plt.savefig(os.path.join(plot_folder, 'shuffle_feature_importance.jpg'))"
   ]
  },
  {
   "cell_type": "code",
   "execution_count": 29,
   "id": "9ee01e19",
   "metadata": {},
   "outputs": [
    {
     "ename": "KeyError",
     "evalue": "'pred_punishments'",
     "output_type": "error",
     "traceback": [
      "\u001b[0;31m---------------------------------------------------------------------------\u001b[0m",
      "\u001b[0;31mKeyError\u001b[0m                                  Traceback (most recent call last)",
      "File \u001b[0;32m~/repros/algorithmic-institutions/.venv/lib/python3.9/site-packages/pandas/core/indexes/base.py:3802\u001b[0m, in \u001b[0;36mIndex.get_loc\u001b[0;34m(self, key, method, tolerance)\u001b[0m\n\u001b[1;32m   3801\u001b[0m \u001b[39mtry\u001b[39;00m:\n\u001b[0;32m-> 3802\u001b[0m     \u001b[39mreturn\u001b[39;00m \u001b[39mself\u001b[39;49m\u001b[39m.\u001b[39;49m_engine\u001b[39m.\u001b[39;49mget_loc(casted_key)\n\u001b[1;32m   3803\u001b[0m \u001b[39mexcept\u001b[39;00m \u001b[39mKeyError\u001b[39;00m \u001b[39mas\u001b[39;00m err:\n",
      "File \u001b[0;32m~/repros/algorithmic-institutions/.venv/lib/python3.9/site-packages/pandas/_libs/index.pyx:138\u001b[0m, in \u001b[0;36mpandas._libs.index.IndexEngine.get_loc\u001b[0;34m()\u001b[0m\n",
      "File \u001b[0;32m~/repros/algorithmic-institutions/.venv/lib/python3.9/site-packages/pandas/_libs/index.pyx:165\u001b[0m, in \u001b[0;36mpandas._libs.index.IndexEngine.get_loc\u001b[0;34m()\u001b[0m\n",
      "File \u001b[0;32mpandas/_libs/hashtable_class_helper.pxi:5745\u001b[0m, in \u001b[0;36mpandas._libs.hashtable.PyObjectHashTable.get_item\u001b[0;34m()\u001b[0m\n",
      "File \u001b[0;32mpandas/_libs/hashtable_class_helper.pxi:5753\u001b[0m, in \u001b[0;36mpandas._libs.hashtable.PyObjectHashTable.get_item\u001b[0;34m()\u001b[0m\n",
      "\u001b[0;31mKeyError\u001b[0m: 'pred_punishments'",
      "\nThe above exception was the direct cause of the following exception:\n",
      "\u001b[0;31mKeyError\u001b[0m                                  Traceback (most recent call last)",
      "Cell \u001b[0;32mIn[29], line 21\u001b[0m\n\u001b[1;32m     17\u001b[0m df \u001b[39m=\u001b[39m df[w]\n\u001b[1;32m     19\u001b[0m dfc \u001b[39m=\u001b[39m df\u001b[39m.\u001b[39mcopy()\n\u001b[0;32m---> 21\u001b[0m dfc[\u001b[39m'\u001b[39m\u001b[39mprobability\u001b[39m\u001b[39m'\u001b[39m] \u001b[39m=\u001b[39m df[\u001b[39mf\u001b[39;49m\u001b[39m'\u001b[39;49m\u001b[39mpred_\u001b[39;49m\u001b[39m{\u001b[39;49;00mtarget\u001b[39m}\u001b[39;49;00m\u001b[39m'\u001b[39;49m] \u001b[39m==\u001b[39m df[\u001b[39mf\u001b[39m\u001b[39m'\u001b[39m\u001b[39mtrue_\u001b[39m\u001b[39m{\u001b[39;00mtarget\u001b[39m}\u001b[39;00m\u001b[39m'\u001b[39m]\n\u001b[1;32m     22\u001b[0m dfc[\u001b[39m'\u001b[39m\u001b[39mmethod\u001b[39m\u001b[39m'\u001b[39m] \u001b[39m=\u001b[39m \u001b[39m'\u001b[39m\u001b[39mempirical\u001b[39m\u001b[39m'\u001b[39m\n\u001b[1;32m     23\u001b[0m df[\u001b[39m'\u001b[39m\u001b[39mprobability\u001b[39m\u001b[39m'\u001b[39m] \u001b[39m=\u001b[39m df[\u001b[39m'\u001b[39m\u001b[39mproba\u001b[39m\u001b[39m'\u001b[39m]\n",
      "File \u001b[0;32m~/repros/algorithmic-institutions/.venv/lib/python3.9/site-packages/pandas/core/frame.py:3807\u001b[0m, in \u001b[0;36mDataFrame.__getitem__\u001b[0;34m(self, key)\u001b[0m\n\u001b[1;32m   3805\u001b[0m \u001b[39mif\u001b[39;00m \u001b[39mself\u001b[39m\u001b[39m.\u001b[39mcolumns\u001b[39m.\u001b[39mnlevels \u001b[39m>\u001b[39m \u001b[39m1\u001b[39m:\n\u001b[1;32m   3806\u001b[0m     \u001b[39mreturn\u001b[39;00m \u001b[39mself\u001b[39m\u001b[39m.\u001b[39m_getitem_multilevel(key)\n\u001b[0;32m-> 3807\u001b[0m indexer \u001b[39m=\u001b[39m \u001b[39mself\u001b[39;49m\u001b[39m.\u001b[39;49mcolumns\u001b[39m.\u001b[39;49mget_loc(key)\n\u001b[1;32m   3808\u001b[0m \u001b[39mif\u001b[39;00m is_integer(indexer):\n\u001b[1;32m   3809\u001b[0m     indexer \u001b[39m=\u001b[39m [indexer]\n",
      "File \u001b[0;32m~/repros/algorithmic-institutions/.venv/lib/python3.9/site-packages/pandas/core/indexes/base.py:3804\u001b[0m, in \u001b[0;36mIndex.get_loc\u001b[0;34m(self, key, method, tolerance)\u001b[0m\n\u001b[1;32m   3802\u001b[0m     \u001b[39mreturn\u001b[39;00m \u001b[39mself\u001b[39m\u001b[39m.\u001b[39m_engine\u001b[39m.\u001b[39mget_loc(casted_key)\n\u001b[1;32m   3803\u001b[0m \u001b[39mexcept\u001b[39;00m \u001b[39mKeyError\u001b[39;00m \u001b[39mas\u001b[39;00m err:\n\u001b[0;32m-> 3804\u001b[0m     \u001b[39mraise\u001b[39;00m \u001b[39mKeyError\u001b[39;00m(key) \u001b[39mfrom\u001b[39;00m \u001b[39merr\u001b[39;00m\n\u001b[1;32m   3805\u001b[0m \u001b[39mexcept\u001b[39;00m \u001b[39mTypeError\u001b[39;00m:\n\u001b[1;32m   3806\u001b[0m     \u001b[39m# If we have a listlike key, _check_indexing_error will raise\u001b[39;00m\n\u001b[1;32m   3807\u001b[0m     \u001b[39m#  InvalidIndexError. Otherwise we fall through and re-raise\u001b[39;00m\n\u001b[1;32m   3808\u001b[0m     \u001b[39m#  the TypeError.\u001b[39;00m\n\u001b[1;32m   3809\u001b[0m     \u001b[39mself\u001b[39m\u001b[39m.\u001b[39m_check_indexing_error(key)\n",
      "\u001b[0;31mKeyError\u001b[0m: 'pred_punishments'"
     ]
    }
   ],
   "source": [
    "df = confusion_matrix_df.copy()\n",
    "\n",
    "sel = {\n",
    "    'round_number': 0,\n",
    "    'valid': True,\n",
    "    'set': 'test',\n",
    "    **selection\n",
    "}\n",
    "\n",
    "w = pd.concat(\n",
    "    (df[k].isin(v) if isinstance(v, list) else df[k] == v\n",
    "    for k,v in sel.items()\n",
    "    if (k not in focus) or isinstance(v, list)), axis=1\n",
    ").all(1)\n",
    "\n",
    "\n",
    "df = df[w]\n",
    "\n",
    "dfc = df.copy()\n",
    "\n",
    "dfc['probability'] = df[f'pred_{target}'] == df[f'true_{target}']\n",
    "dfc['method'] = 'empirical'\n",
    "df['probability'] = df['proba']\n",
    "df['method'] = 'modeled'\n",
    "\n",
    "df = pd.concat([dfc, df]).reset_index()\n",
    "\n",
    "fg = sns.catplot(\n",
    "    data=df, \n",
    "    x=f'pred_{target}', \n",
    "    y='probability',\n",
    "    hue='method',\n",
    "    height=5, kind='bar')\n",
    "\n",
    "fg.savefig(os.path.join(plot_folder, 'action_histogram.jpg'))"
   ]
  }
 ],
 "metadata": {
  "kernelspec": {
   "display_name": "Python 3.9.1 ('.venv': venv)",
   "language": "python",
   "name": "python3"
  },
  "language_info": {
   "codemirror_mode": {
    "name": "ipython",
    "version": 3
   },
   "file_extension": ".py",
   "mimetype": "text/x-python",
   "name": "python",
   "nbconvert_exporter": "python",
   "pygments_lexer": "ipython3",
   "version": "3.9.1"
  },
  "papermill": {
   "default_parameters": {},
   "environment_variables": {},
   "input_path": "notebooks/evalutation/predictive_models_autoreg.ipynb",
   "output_path": "notebooks/evalutation/predictive_models_autoreg.ipynb",
   "parameters": {
    "base_folder": "human_like_manager",
    "order": [
     "node",
     "node+edge"
    ],
    "pairs": [
     [
      "node",
      "node+edge"
     ]
    ],
    "run": "07_autoregression",
    "selection": {
     "architecture": "node+edge"
    },
    "target": "punishments",
    "test": "t-test_paired"
   },
   "version": "2.3.4"
  },
  "vscode": {
   "interpreter": {
    "hash": "83484b78e3eced0c1ebbaf37dd8049c2f9102f6dcade2a60a08a368fc0daac5f"
   }
  }
 },
 "nbformat": 4,
 "nbformat_minor": 5
}
