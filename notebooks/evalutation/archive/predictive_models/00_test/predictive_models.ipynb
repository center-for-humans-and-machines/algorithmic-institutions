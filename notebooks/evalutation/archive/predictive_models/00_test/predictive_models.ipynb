{
 "cells": [
  {
   "cell_type": "code",
   "execution_count": 1,
   "id": "c9a9d44c",
   "metadata": {
    "execution": {
     "iopub.execute_input": "2023-03-17T11:31:27.028394Z",
     "iopub.status.busy": "2023-03-17T11:31:27.027916Z",
     "iopub.status.idle": "2023-03-17T11:31:27.043127Z",
     "shell.execute_reply": "2023-03-17T11:31:27.042162Z"
    },
    "papermill": {
     "duration": 0.031937,
     "end_time": "2023-03-17T11:31:27.045516",
     "exception": false,
     "start_time": "2023-03-17T11:31:27.013579",
     "status": "completed"
    },
    "tags": [
     "injected-parameters"
    ]
   },
   "outputs": [],
   "source": [
    "# Parameters\n",
    "run = \"temp/behavioral_cloning/00_test\"\n",
    "target = \"contributions\"\n",
    "test = \"t-test_paired\"\n",
    "selection = {\"architecture\": \"node+rnn\"}\n",
    "order = [\"node\", \"node+edge\", \"node+rnn\", \"node+edge+rnn\"]\n",
    "pairs = [\n",
    "    [\"node\", \"node+edge\"],\n",
    "    [\"node\", \"node+rnn\"],\n",
    "    [\"node+edge\", \"node+rnn\"],\n",
    "    [\"node+rnn\", \"node+edge+rnn\"],\n",
    "]\n",
    "output_dir = \"notebooks/evalutation/predictive_models/00_test\"\n",
    "basedir = \".\"\n"
   ]
  },
  {
   "cell_type": "code",
   "execution_count": 2,
   "id": "b246b326",
   "metadata": {
    "execution": {
     "iopub.execute_input": "2023-03-17T11:31:27.060493Z",
     "iopub.status.busy": "2023-03-17T11:31:27.059696Z"
    },
    "papermill": {
     "duration": 21.568853,
     "end_time": "2023-03-17T11:31:48.621162",
     "exception": false,
     "start_time": "2023-03-17T11:31:27.052309",
     "status": "completed"
    },
    "tags": []
   },
   "outputs": [],
   "source": [
    "%load_ext autoreload\n",
    "%autoreload 2\n",
    "\n",
    "import os\n",
    "import numpy as np\n",
    "import pandas as pd\n",
    "import seaborn as sns\n",
    "import torch as th\n",
    "import matplotlib.pyplot as plt\n",
    "from aimanager.utils.utils import make_dir\n",
    "from aimanager.utils.merge import merge_files_by_name\n",
    "\n",
    "sns.set(rc={'axes.facecolor':'white', 'figure.facecolor':'white'})\n",
    "\n",
    "data_folder = run\n",
    "plot_folder = os.path.join(run, 'plots')\n",
    "# plot_folder = f'plots/{base_folder}_{run}'\n",
    "\n",
    "make_dir(plot_folder)"
   ]
  },
  {
   "cell_type": "code",
   "execution_count": null,
   "id": "106538af",
   "metadata": {
    "papermill": {
     "duration": null,
     "end_time": null,
     "exception": null,
     "start_time": null,
     "status": "completed"
    },
    "tags": []
   },
   "outputs": [],
   "source": [
    "def _plot_heatmap(data, x, y, values, normalise=True):\n",
    "    dfg = data.groupby([x,y])[values].sum()\n",
    "    dfg = dfg.reset_index()\n",
    "    if normalise:\n",
    "        dfg[values] = dfg[values] / dfg.groupby([x])[values].transform('sum')\n",
    "    cm = dfg.pivot_table(index=x, columns=y, values=values)\n",
    "    cm = cm.sort_index(ascending=False)\n",
    "    sns.heatmap(cm)\n",
    "\n",
    "def merge_data(data_folder, metric_name):\n",
    "    folder = os.path.join(data_folder, metric_name)\n",
    "    dfs = [pd.read_parquet(os.path.join(folder, file)) for file in os.listdir(folder)]\n",
    "    df = pd.concat(dfs).reset_index(drop=True)\n",
    "    return df\n"
   ]
  },
  {
   "cell_type": "code",
   "execution_count": null,
   "id": "f9b21dc0",
   "metadata": {
    "papermill": {
     "duration": null,
     "end_time": null,
     "exception": null,
     "start_time": null,
     "status": "completed"
    },
    "tags": []
   },
   "outputs": [],
   "source": [
    "metrics_df = merge_data(data_folder, 'metrics')\n",
    "print(metrics_df['cv_split'].unique())\n",
    "confusion_matrix_df = merge_data(data_folder, 'confusion_matrix')\n",
    "metrics_df['shuffle_feature'] = metrics_df['shuffle_feature'].fillna('none')\n",
    "labels = list(set(metrics_df.columns) - set(['job_id', 'name', 'value', 'cv_split', 'epoch', 'set', 'strategy', 'shuffle_feature']))\n"
   ]
  },
  {
   "cell_type": "code",
   "execution_count": null,
   "id": "1622490f",
   "metadata": {
    "papermill": {
     "duration": null,
     "end_time": null,
     "exception": null,
     "start_time": null,
     "status": "completed"
    },
    "tags": []
   },
   "outputs": [],
   "source": [
    "df = metrics_df.copy()\n",
    "\n",
    "\n",
    "focus = [*labels, 'set']\n",
    "\n",
    "sel = {\n",
    "    'name': 'log_loss',\n",
    "    'shuffle_feature': 'none',\n",
    "}\n",
    "\n",
    "w = pd.concat(\n",
    "    (df[k].isin(v) if isinstance(v, list) else df[k] == v\n",
    "    for k,v in sel.items()\n",
    "    if (k not in focus) or isinstance(v, list)), axis=1\n",
    ").all(1)\n",
    "\n",
    "df = df[w]\n",
    "\n",
    "fg = sns.relplot(\n",
    "    data=df, \n",
    "    x='epoch', y='value',\n",
    "    hue=focus[0] if len(focus) >= 1 else None, \n",
    "    style=focus[1] if len(focus) >= 2 else None,\n",
    "    col=focus[2] if len(focus) >= 3 else None, \n",
    "    row=focus[3] if len(focus) >= 4 else None, \n",
    "    kind='line', ci=None)\n",
    "\n",
    "fg.set(ylabel='cross entropy')\n",
    "\n",
    "fg.savefig(os.path.join(plot_folder, 'learning_curve_model.jpg'))"
   ]
  },
  {
   "cell_type": "code",
   "execution_count": null,
   "id": "7930b6f2",
   "metadata": {
    "papermill": {
     "duration": null,
     "end_time": null,
     "exception": null,
     "start_time": null,
     "status": "completed"
    },
    "tags": []
   },
   "outputs": [],
   "source": [
    "import statsmodels.formula.api as smf\n",
    "\n",
    "\n",
    "df = metrics_df.copy()\n",
    "\n",
    "w = (\n",
    "    (df['name'] == 'log_loss') &\n",
    "    (df['set'] == 'test') &\n",
    "    (df['shuffle_feature'] == 'none')\n",
    ")\n",
    "df = df[w].copy()\n",
    "w_max = (df['epoch'] > (0.8 * df['epoch'].max()))\n",
    "df = df[w_max].copy()"
   ]
  },
  {
   "cell_type": "code",
   "execution_count": null,
   "id": "f6d0cf02",
   "metadata": {
    "papermill": {
     "duration": null,
     "end_time": null,
     "exception": null,
     "start_time": null,
     "status": "completed"
    },
    "tags": []
   },
   "outputs": [],
   "source": [
    "df = metrics_df.copy()\n",
    "\n",
    "focus = labels\n",
    "\n",
    "w = (\n",
    "    (df['name'] == 'log_loss') &\n",
    "    (df['set'] == 'test') &\n",
    "    (df['shuffle_feature'] == 'none')\n",
    ")\n",
    "df = df[w].copy()\n",
    "w_max = (df['epoch'] > (0.8 * df['epoch'].max()))\n",
    "df = df[w_max].copy()\n",
    "\n",
    "\n",
    "fg = sns.catplot(\n",
    "    data=df, \n",
    "    y='value',\n",
    "    x=focus[0] if len(focus) >= 1 else None, \n",
    "    hue=focus[1] if len(focus) >= 2 else None,\n",
    "    col=focus[2] if len(focus) >= 3 else None, \n",
    "    row=focus[3] if len(focus) >= 4 else None, \n",
    "    kind='box')\n",
    "\n",
    "fg.set(ylabel='cross entropy')\n",
    "\n",
    "fg.savefig(os.path.join(plot_folder, 'cross_entropy_box.jpg'))"
   ]
  },
  {
   "cell_type": "code",
   "execution_count": null,
   "id": "f2b1587b",
   "metadata": {
    "papermill": {
     "duration": null,
     "end_time": null,
     "exception": null,
     "start_time": null,
     "status": "completed"
    },
    "tags": []
   },
   "outputs": [],
   "source": [
    "df = metrics_df.copy()\n",
    "\n",
    "from statannotations.Annotator import Annotator\n",
    "\n",
    "w = (\n",
    "    (df['name'] == 'log_loss') &\n",
    "    (df['set'] == 'test') &\n",
    "    (df['shuffle_feature'] == 'none')\n",
    ")\n",
    "df = df[w].copy()\n",
    "w_max = (df['epoch'] > (0.8 * df['epoch'].max()))\n",
    "df = df[w_max].copy()\n",
    "\n",
    "dfm = df.groupby([*labels, 'cv_split'])['value'].mean().reset_index()\n",
    "dfm['mean_value'] = df.groupby(labels)['value'].transform('mean')\n",
    "\n",
    "dfm[labels[0]] = dfm[labels[0]].astype(str)\n",
    "\n",
    "\n",
    "ax = sns.barplot(\n",
    "    data=dfm, \n",
    "    order=order,\n",
    "    y='value',\n",
    "    x=labels[0],\n",
    "    errorbar=None\n",
    ")\n",
    "if pairs is not None:\n",
    "    annotator = Annotator(ax, pairs, data=dfm, x=labels[0], y='value', order=order)\n",
    "    annotator.configure(test=test, text_format='simple', loc='inside')\n",
    "    annotator.apply_and_annotate()\n",
    "\n",
    "plt.savefig(os.path.join(plot_folder, 'model_comparision.jpg'))"
   ]
  },
  {
   "cell_type": "code",
   "execution_count": null,
   "id": "0d0a2211",
   "metadata": {
    "papermill": {
     "duration": null,
     "end_time": null,
     "exception": null,
     "start_time": null,
     "status": "completed"
    },
    "tags": []
   },
   "outputs": [],
   "source": [
    "df = metrics_df.copy()\n",
    "\n",
    "w = (\n",
    "    (df['name'] == 'log_loss') &\n",
    "    (df['set'] == 'test') \n",
    ")\n",
    "df = df[w].copy()\n",
    "\n",
    "df_p = df.pivot(index=[*labels, 'name', 'cv_split', 'set', 'epoch'], columns='shuffle_feature', values='value')\n",
    "df_p = df_p.sub(df_p['none'], axis=0)\n",
    "df_p = df_p.stack()\n",
    "df_p.name = 'value'\n",
    "df_p = df_p.reset_index()\n",
    "df_p = df_p[df_p['shuffle_feature'].isin(['prev_contributions', 'prev_punishments', 'prev_valid'])]"
   ]
  },
  {
   "cell_type": "code",
   "execution_count": null,
   "id": "ec284eef",
   "metadata": {
    "papermill": {
     "duration": null,
     "end_time": null,
     "exception": null,
     "start_time": null,
     "status": "completed"
    },
    "tags": []
   },
   "outputs": [],
   "source": [
    "focus = ['shuffle_feature']\n",
    "\n",
    "sel = {\n",
    "    'name': 'log_loss',\n",
    "    'set': 'test',\n",
    "    **selection\n",
    "}\n",
    "\n",
    "w = pd.concat(\n",
    "    (df_p[k].isin(v) if isinstance(v, list) else df_p[k] == v\n",
    "    for k,v in sel.items()\n",
    "    if (k not in focus) or isinstance(v, list)), axis=1\n",
    ").all(1)\n",
    "\n",
    "\n",
    "dfs = df_p[w].copy()\n",
    "\n",
    "ax = sns.barplot(\n",
    "    data=df_p, \n",
    "    x='shuffle_feature', y='value',\n",
    "    errorbar=None\n",
    ")\n",
    "\n",
    "ax.set(ylabel='loss in cross entropy', xlabel='shuffled feature')\n",
    "\n",
    "plt.savefig(os.path.join(plot_folder, 'shuffle_feature_importance.jpg'))"
   ]
  },
  {
   "cell_type": "code",
   "execution_count": null,
   "id": "8eec18f7",
   "metadata": {
    "papermill": {
     "duration": null,
     "end_time": null,
     "exception": null,
     "start_time": null,
     "status": "completed"
    },
    "tags": []
   },
   "outputs": [],
   "source": [
    "df = confusion_matrix_df.copy()\n",
    "\n",
    "sel = {\n",
    "    'round_number': 0,\n",
    "    'valid': True,\n",
    "    'set': 'test',\n",
    "    **selection\n",
    "}\n",
    "\n",
    "w = pd.concat(\n",
    "    (df[k].isin(v) if isinstance(v, list) else df[k] == v\n",
    "    for k,v in sel.items()\n",
    "    if (k not in focus) or isinstance(v, list)), axis=1\n",
    ").all(1)\n",
    "\n",
    "\n",
    "df = df[w]\n",
    "\n",
    "dfc = df.copy()\n",
    "\n",
    "dfc['probability'] = df[f'pred_{target}'] == df[f'true_{target}']\n",
    "dfc['method'] = 'empirical'\n",
    "df['probability'] = df['proba']\n",
    "df['method'] = 'modeled'\n",
    "\n",
    "df = pd.concat([dfc, df]).reset_index()\n",
    "\n",
    "fg = sns.catplot(\n",
    "    data=df, \n",
    "    x=f'pred_{target}', \n",
    "    y='probability',\n",
    "    hue='method',\n",
    "    height=5, kind='bar')\n",
    "\n",
    "fg.savefig(os.path.join(plot_folder, 'action_histogram.jpg'))"
   ]
  },
  {
   "cell_type": "code",
   "execution_count": null,
   "id": "7e0fdce0",
   "metadata": {
    "papermill": {
     "duration": null,
     "end_time": null,
     "exception": null,
     "start_time": null,
     "status": "completed"
    },
    "tags": []
   },
   "outputs": [],
   "source": [
    "df = confusion_matrix_df.copy()\n",
    "\n",
    "sel = {\n",
    "    'valid': True,\n",
    "    'set': 'test',\n",
    "    **selection\n",
    "}\n",
    "\n",
    "w = pd.concat(\n",
    "    (df[k].isin(v) if isinstance(v, list) else df[k] == v\n",
    "    for k,v in sel.items()\n",
    "    if (k not in focus) or isinstance(v, list)), axis=1\n",
    ").all(1)\n",
    "\n",
    "df = df[w]\n",
    "\n",
    "dfc = df.copy()\n",
    "\n",
    "\n",
    "plot_heatmap = lambda data, color: _plot_heatmap(\n",
    "    data, x=f'true_{target}',y=f'pred_{target}', values='proba')\n",
    "\n",
    "fg = sns.FacetGrid(\n",
    "    dfc, height=5)\n",
    "fg.map_dataframe(plot_heatmap)\n",
    "\n",
    "\n",
    "fg.savefig(os.path.join(plot_folder, 'confusion_matrix.jpg'))"
   ]
  }
 ],
 "metadata": {
  "kernelspec": {
   "display_name": "Python 3.9.1 ('.venv': venv)",
   "language": "python",
   "name": "python3"
  },
  "language_info": {
   "codemirror_mode": {
    "name": "ipython",
    "version": 3
   },
   "file_extension": ".py",
   "mimetype": "text/x-python",
   "name": "python",
   "nbconvert_exporter": "python",
   "pygments_lexer": "ipython3",
   "version": "3.9.1"
  },
  "papermill": {
   "default_parameters": {},
   "duration": 28.502497,
   "end_time": "2023-03-17T11:31:49.685474",
   "environment_variables": {},
   "exception": null,
   "input_path": "notebooks/evalutation/predictive_models.ipynb",
   "output_path": "notebooks/evalutation/predictive_models/00_test/predictive_models.ipynb",
   "parameters": {
    "basedir": ".",
    "order": [
     "node",
     "node+edge",
     "node+rnn",
     "node+edge+rnn"
    ],
    "output_dir": "notebooks/evalutation/predictive_models/00_test",
    "pairs": [
     [
      "node",
      "node+edge"
     ],
     [
      "node",
      "node+rnn"
     ],
     [
      "node+edge",
      "node+rnn"
     ],
     [
      "node+rnn",
      "node+edge+rnn"
     ]
    ],
    "run": "temp/behavioral_cloning/00_test",
    "selection": {
     "architecture": "node+rnn"
    },
    "target": "contributions",
    "test": "t-test_paired"
   },
   "start_time": "2023-03-17T11:31:21.182977",
   "version": "2.3.4"
  },
  "vscode": {
   "interpreter": {
    "hash": "83484b78e3eced0c1ebbaf37dd8049c2f9102f6dcade2a60a08a368fc0daac5f"
   }
  }
 },
 "nbformat": 4,
 "nbformat_minor": 5
}